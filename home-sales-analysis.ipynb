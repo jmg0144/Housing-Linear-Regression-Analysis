{
 "cells": [
  {
   "cell_type": "markdown",
   "metadata": {},
   "source": [
    "## Import Libraries"
   ]
  },
  {
   "cell_type": "code",
   "execution_count": 1,
   "metadata": {},
   "outputs": [],
   "source": [
    "import numpy as np\n",
    "import pandas as pd\n",
    "import seaborn as sns\n",
    "import matplotlib.pyplot as plt\n",
    "%matplotlib inline\n",
    "from sklearn.preprocessing import OneHotEncoder\n",
    "from sklearn.model_selection import train_test_split\n",
    "from sklearn.linear_model import LinearRegression\n",
    "from sklearn.metrics import mean_squared_error\n",
    "from sklearn.model_selection import cross_val_score\n",
    "from sklearn.preprocessing import StandardScaler\n",
    "import statsmodels.api as sm\n",
    "from statsmodels.formula.api import ols\n",
    "import scipy.stats as stats\n",
    "from sklearn import metrics"
   ]
  },
  {
   "cell_type": "markdown",
   "metadata": {},
   "source": [
    "# Housing Data Analysis Project Overview"
   ]
  },
  {
   "cell_type": "markdown",
   "metadata": {},
   "source": [
    "This notebook will analyze data from the King County House Sales dataset. This dataset contains various information on homes in King County. I will use this data in order to create multiple linear regression models with the purpose of determining which features are most relevant in predicting housing prices. I will then examine the models' output and compare and contrast to determine which model is best at predicting housing prices."
   ]
  },
  {
   "cell_type": "markdown",
   "metadata": {},
   "source": [
    "## Business Case/Problem"
   ]
  },
  {
   "cell_type": "markdown",
   "metadata": {},
   "source": [
    "Hypothetical Situation: A King County real estate agency is looking to provide advice to home owners on what factors are most important in determining the value of their home. Using several multiple linear regression models I will examine which independant variables are most useful at predicting the dependant variable of home price. The regression models will help in providing home owners with relevant information regarding the price of their home should they be interested in listing their home with the real estate agency. "
   ]
  },
  {
   "cell_type": "markdown",
   "metadata": {},
   "source": [
    "## Data Description\n",
    "The data used in this project will provide the following information;"
   ]
  },
  {
   "cell_type": "markdown",
   "metadata": {},
   "source": [
    ">ID - unique identified for a house\n",
    "\n",
    ">Date - house was sold\n",
    "\n",
    ">Price - is prediction target\n",
    "\n",
    ">Bedrooms - number of Bedrooms/House\n",
    "\n",
    ">Bathrooms - number of bathrooms/bedrooms\n",
    "\n",
    ">Sqft_livingsquare - footage of the home\n",
    "\n",
    ">Sqft_lotsquare - footage of the lot\n",
    "\n",
    ">FloorsTotal - floors (levels) in house\n",
    "\n",
    ">Waterfront - House which has a view to a waterfront\n",
    "\n",
    ">View - Has been viewed\n",
    "\n",
    ">Condition - How good the condition is ( Overall )\n",
    "\n",
    ">Grade - overall grade given to the housing unit, based on King County grading system\n",
    "\n",
    ">Sqft_above - square footage of house apart from basement\n",
    "\n",
    ">Sqft_basement - square footage of the basement\n",
    "\n",
    ">Yr_built - Built Year\n",
    "\n",
    ">Yr_renovated - Year when house was renovated\n",
    "\n",
    ">Zipcode - zip\n",
    "\n",
    ">Lat - Latitude coordinate\n",
    "\n",
    ">Long - Longitude coordinate\n",
    "\n",
    ">Sqft_living15 - The square footage of interior housing living space for the nearest 15 neighbors\n",
    "\n",
    ">Sqft_lot15 - The square footage of the land lots of the nearest 15 neighbors"
   ]
  },
  {
   "cell_type": "markdown",
   "metadata": {},
   "source": [
    "## Data Load"
   ]
  },
  {
   "cell_type": "code",
   "execution_count": 2,
   "metadata": {},
   "outputs": [],
   "source": [
    "# Load the Kings County housing data for analysis.\n",
    "df = pd.read_csv('data/kc_house_data.csv')"
   ]
  },
  {
   "cell_type": "code",
   "execution_count": 3,
   "metadata": {},
   "outputs": [
    {
     "data": {
      "text/html": [
       "<div>\n",
       "<style scoped>\n",
       "    .dataframe tbody tr th:only-of-type {\n",
       "        vertical-align: middle;\n",
       "    }\n",
       "\n",
       "    .dataframe tbody tr th {\n",
       "        vertical-align: top;\n",
       "    }\n",
       "\n",
       "    .dataframe thead th {\n",
       "        text-align: right;\n",
       "    }\n",
       "</style>\n",
       "<table border=\"1\" class=\"dataframe\">\n",
       "  <thead>\n",
       "    <tr style=\"text-align: right;\">\n",
       "      <th></th>\n",
       "      <th>id</th>\n",
       "      <th>date</th>\n",
       "      <th>price</th>\n",
       "      <th>bedrooms</th>\n",
       "      <th>bathrooms</th>\n",
       "      <th>sqft_living</th>\n",
       "      <th>sqft_lot</th>\n",
       "      <th>floors</th>\n",
       "      <th>waterfront</th>\n",
       "      <th>view</th>\n",
       "      <th>...</th>\n",
       "      <th>grade</th>\n",
       "      <th>sqft_above</th>\n",
       "      <th>sqft_basement</th>\n",
       "      <th>yr_built</th>\n",
       "      <th>yr_renovated</th>\n",
       "      <th>zipcode</th>\n",
       "      <th>lat</th>\n",
       "      <th>long</th>\n",
       "      <th>sqft_living15</th>\n",
       "      <th>sqft_lot15</th>\n",
       "    </tr>\n",
       "  </thead>\n",
       "  <tbody>\n",
       "    <tr>\n",
       "      <th>0</th>\n",
       "      <td>7129300520</td>\n",
       "      <td>10/13/2014</td>\n",
       "      <td>221900.0</td>\n",
       "      <td>3</td>\n",
       "      <td>1.00</td>\n",
       "      <td>1180</td>\n",
       "      <td>5650</td>\n",
       "      <td>1.0</td>\n",
       "      <td>NaN</td>\n",
       "      <td>0.0</td>\n",
       "      <td>...</td>\n",
       "      <td>7</td>\n",
       "      <td>1180</td>\n",
       "      <td>0.0</td>\n",
       "      <td>1955</td>\n",
       "      <td>0.0</td>\n",
       "      <td>98178</td>\n",
       "      <td>47.5112</td>\n",
       "      <td>-122.257</td>\n",
       "      <td>1340</td>\n",
       "      <td>5650</td>\n",
       "    </tr>\n",
       "    <tr>\n",
       "      <th>1</th>\n",
       "      <td>6414100192</td>\n",
       "      <td>12/9/2014</td>\n",
       "      <td>538000.0</td>\n",
       "      <td>3</td>\n",
       "      <td>2.25</td>\n",
       "      <td>2570</td>\n",
       "      <td>7242</td>\n",
       "      <td>2.0</td>\n",
       "      <td>0.0</td>\n",
       "      <td>0.0</td>\n",
       "      <td>...</td>\n",
       "      <td>7</td>\n",
       "      <td>2170</td>\n",
       "      <td>400.0</td>\n",
       "      <td>1951</td>\n",
       "      <td>1991.0</td>\n",
       "      <td>98125</td>\n",
       "      <td>47.7210</td>\n",
       "      <td>-122.319</td>\n",
       "      <td>1690</td>\n",
       "      <td>7639</td>\n",
       "    </tr>\n",
       "    <tr>\n",
       "      <th>2</th>\n",
       "      <td>5631500400</td>\n",
       "      <td>2/25/2015</td>\n",
       "      <td>180000.0</td>\n",
       "      <td>2</td>\n",
       "      <td>1.00</td>\n",
       "      <td>770</td>\n",
       "      <td>10000</td>\n",
       "      <td>1.0</td>\n",
       "      <td>0.0</td>\n",
       "      <td>0.0</td>\n",
       "      <td>...</td>\n",
       "      <td>6</td>\n",
       "      <td>770</td>\n",
       "      <td>0.0</td>\n",
       "      <td>1933</td>\n",
       "      <td>NaN</td>\n",
       "      <td>98028</td>\n",
       "      <td>47.7379</td>\n",
       "      <td>-122.233</td>\n",
       "      <td>2720</td>\n",
       "      <td>8062</td>\n",
       "    </tr>\n",
       "    <tr>\n",
       "      <th>3</th>\n",
       "      <td>2487200875</td>\n",
       "      <td>12/9/2014</td>\n",
       "      <td>604000.0</td>\n",
       "      <td>4</td>\n",
       "      <td>3.00</td>\n",
       "      <td>1960</td>\n",
       "      <td>5000</td>\n",
       "      <td>1.0</td>\n",
       "      <td>0.0</td>\n",
       "      <td>0.0</td>\n",
       "      <td>...</td>\n",
       "      <td>7</td>\n",
       "      <td>1050</td>\n",
       "      <td>910.0</td>\n",
       "      <td>1965</td>\n",
       "      <td>0.0</td>\n",
       "      <td>98136</td>\n",
       "      <td>47.5208</td>\n",
       "      <td>-122.393</td>\n",
       "      <td>1360</td>\n",
       "      <td>5000</td>\n",
       "    </tr>\n",
       "    <tr>\n",
       "      <th>4</th>\n",
       "      <td>1954400510</td>\n",
       "      <td>2/18/2015</td>\n",
       "      <td>510000.0</td>\n",
       "      <td>3</td>\n",
       "      <td>2.00</td>\n",
       "      <td>1680</td>\n",
       "      <td>8080</td>\n",
       "      <td>1.0</td>\n",
       "      <td>0.0</td>\n",
       "      <td>0.0</td>\n",
       "      <td>...</td>\n",
       "      <td>8</td>\n",
       "      <td>1680</td>\n",
       "      <td>0.0</td>\n",
       "      <td>1987</td>\n",
       "      <td>0.0</td>\n",
       "      <td>98074</td>\n",
       "      <td>47.6168</td>\n",
       "      <td>-122.045</td>\n",
       "      <td>1800</td>\n",
       "      <td>7503</td>\n",
       "    </tr>\n",
       "  </tbody>\n",
       "</table>\n",
       "<p>5 rows × 21 columns</p>\n",
       "</div>"
      ],
      "text/plain": [
       "           id        date     price  bedrooms  bathrooms  sqft_living  \\\n",
       "0  7129300520  10/13/2014  221900.0         3       1.00         1180   \n",
       "1  6414100192   12/9/2014  538000.0         3       2.25         2570   \n",
       "2  5631500400   2/25/2015  180000.0         2       1.00          770   \n",
       "3  2487200875   12/9/2014  604000.0         4       3.00         1960   \n",
       "4  1954400510   2/18/2015  510000.0         3       2.00         1680   \n",
       "\n",
       "   sqft_lot  floors  waterfront  view  ...  grade  sqft_above  sqft_basement  \\\n",
       "0      5650     1.0         NaN   0.0  ...      7        1180            0.0   \n",
       "1      7242     2.0         0.0   0.0  ...      7        2170          400.0   \n",
       "2     10000     1.0         0.0   0.0  ...      6         770            0.0   \n",
       "3      5000     1.0         0.0   0.0  ...      7        1050          910.0   \n",
       "4      8080     1.0         0.0   0.0  ...      8        1680            0.0   \n",
       "\n",
       "  yr_built  yr_renovated  zipcode      lat     long  sqft_living15  sqft_lot15  \n",
       "0     1955           0.0    98178  47.5112 -122.257           1340        5650  \n",
       "1     1951        1991.0    98125  47.7210 -122.319           1690        7639  \n",
       "2     1933           NaN    98028  47.7379 -122.233           2720        8062  \n",
       "3     1965           0.0    98136  47.5208 -122.393           1360        5000  \n",
       "4     1987           0.0    98074  47.6168 -122.045           1800        7503  \n",
       "\n",
       "[5 rows x 21 columns]"
      ]
     },
     "execution_count": 3,
     "metadata": {},
     "output_type": "execute_result"
    }
   ],
   "source": [
    "df.head()"
   ]
  },
  {
   "cell_type": "code",
   "execution_count": 4,
   "metadata": {},
   "outputs": [
    {
     "name": "stdout",
     "output_type": "stream",
     "text": [
      "<class 'pandas.core.frame.DataFrame'>\n",
      "RangeIndex: 21597 entries, 0 to 21596\n",
      "Data columns (total 21 columns):\n",
      " #   Column         Non-Null Count  Dtype  \n",
      "---  ------         --------------  -----  \n",
      " 0   id             21597 non-null  int64  \n",
      " 1   date           21597 non-null  object \n",
      " 2   price          21597 non-null  float64\n",
      " 3   bedrooms       21597 non-null  int64  \n",
      " 4   bathrooms      21597 non-null  float64\n",
      " 5   sqft_living    21597 non-null  int64  \n",
      " 6   sqft_lot       21597 non-null  int64  \n",
      " 7   floors         21597 non-null  float64\n",
      " 8   waterfront     19221 non-null  float64\n",
      " 9   view           21534 non-null  float64\n",
      " 10  condition      21597 non-null  int64  \n",
      " 11  grade          21597 non-null  int64  \n",
      " 12  sqft_above     21597 non-null  int64  \n",
      " 13  sqft_basement  21597 non-null  object \n",
      " 14  yr_built       21597 non-null  int64  \n",
      " 15  yr_renovated   17755 non-null  float64\n",
      " 16  zipcode        21597 non-null  int64  \n",
      " 17  lat            21597 non-null  float64\n",
      " 18  long           21597 non-null  float64\n",
      " 19  sqft_living15  21597 non-null  int64  \n",
      " 20  sqft_lot15     21597 non-null  int64  \n",
      "dtypes: float64(8), int64(11), object(2)\n",
      "memory usage: 3.5+ MB\n"
     ]
    }
   ],
   "source": [
    "# Review remaining columns to see which ones make the most sense to keep.\n",
    "df.info()"
   ]
  },
  {
   "cell_type": "markdown",
   "metadata": {},
   "source": [
    "Features to remove: \n",
    "- 'yr_renovated': large number of missing data.\n",
    "- 'date': likely not relevant to business problem.\n",
    "- 'id': likely not relevant to business problem.\n",
    "- 'waterfront': large number of missing data.\n",
    "- 'view': likely not relevant to business problem.\n",
    "- 'yr_renovated': likely not relevant to business problem.\n",
    "- 'lat': likely not relevant to business problem.\n",
    "- 'long': likely not relevant to business problem.\n",
    "- 'sqft_living15': already have data on sqft living.\n",
    "- 'sqft_lot15': already have data on sqft lot."
   ]
  },
  {
   "cell_type": "markdown",
   "metadata": {},
   "source": [
    "## Data Cleaning"
   ]
  },
  {
   "cell_type": "code",
   "execution_count": 5,
   "metadata": {},
   "outputs": [
    {
     "data": {
      "text/plain": [
       "Index(['id', 'date', 'price', 'bedrooms', 'bathrooms', 'sqft_living',\n",
       "       'sqft_lot', 'floors', 'waterfront', 'view', 'condition', 'grade',\n",
       "       'sqft_above', 'sqft_basement', 'yr_built', 'yr_renovated', 'zipcode',\n",
       "       'lat', 'long', 'sqft_living15', 'sqft_lot15'],\n",
       "      dtype='object')"
      ]
     },
     "execution_count": 5,
     "metadata": {},
     "output_type": "execute_result"
    }
   ],
   "source": [
    "df.columns"
   ]
  },
  {
   "cell_type": "code",
   "execution_count": 6,
   "metadata": {},
   "outputs": [],
   "source": [
    "# Function to drop unimportant columns from the dataframe.\n",
    "def filter_columns(df):\n",
    "    columns_to_keep = ['price','bedrooms', \n",
    "                   'bathrooms', \n",
    "                   'sqft_living', \n",
    "                   'sqft_lot', \n",
    "                   'floors', \n",
    "                   'condition',\n",
    "                  'grade',\n",
    "                  'sqft_above',\n",
    "                  'yr_built',\n",
    "                  'zipcode'\n",
    "                  ]\n",
    "    return df[columns_to_keep]"
   ]
  },
  {
   "cell_type": "code",
   "execution_count": 7,
   "metadata": {},
   "outputs": [],
   "source": [
    "# Create new dataframe containing only relevant features.\n",
    "df_filtered = filter_columns(df)"
   ]
  },
  {
   "cell_type": "code",
   "execution_count": 8,
   "metadata": {},
   "outputs": [
    {
     "name": "stdout",
     "output_type": "stream",
     "text": [
      "<class 'pandas.core.frame.DataFrame'>\n",
      "RangeIndex: 21597 entries, 0 to 21596\n",
      "Data columns (total 11 columns):\n",
      " #   Column       Non-Null Count  Dtype  \n",
      "---  ------       --------------  -----  \n",
      " 0   price        21597 non-null  float64\n",
      " 1   bedrooms     21597 non-null  int64  \n",
      " 2   bathrooms    21597 non-null  float64\n",
      " 3   sqft_living  21597 non-null  int64  \n",
      " 4   sqft_lot     21597 non-null  int64  \n",
      " 5   floors       21597 non-null  float64\n",
      " 6   condition    21597 non-null  int64  \n",
      " 7   grade        21597 non-null  int64  \n",
      " 8   sqft_above   21597 non-null  int64  \n",
      " 9   yr_built     21597 non-null  int64  \n",
      " 10  zipcode      21597 non-null  int64  \n",
      "dtypes: float64(3), int64(8)\n",
      "memory usage: 1.8 MB\n"
     ]
    }
   ],
   "source": [
    "# Review new dataeframe for analysis.\n",
    "df_filtered.info()"
   ]
  },
  {
   "cell_type": "code",
   "execution_count": 9,
   "metadata": {},
   "outputs": [
    {
     "data": {
      "text/html": [
       "<div>\n",
       "<style scoped>\n",
       "    .dataframe tbody tr th:only-of-type {\n",
       "        vertical-align: middle;\n",
       "    }\n",
       "\n",
       "    .dataframe tbody tr th {\n",
       "        vertical-align: top;\n",
       "    }\n",
       "\n",
       "    .dataframe thead th {\n",
       "        text-align: right;\n",
       "    }\n",
       "</style>\n",
       "<table border=\"1\" class=\"dataframe\">\n",
       "  <thead>\n",
       "    <tr style=\"text-align: right;\">\n",
       "      <th></th>\n",
       "      <th>price</th>\n",
       "      <th>bedrooms</th>\n",
       "      <th>bathrooms</th>\n",
       "      <th>sqft_living</th>\n",
       "      <th>sqft_lot</th>\n",
       "      <th>floors</th>\n",
       "      <th>condition</th>\n",
       "      <th>grade</th>\n",
       "      <th>sqft_above</th>\n",
       "      <th>yr_built</th>\n",
       "      <th>zipcode</th>\n",
       "    </tr>\n",
       "  </thead>\n",
       "  <tbody>\n",
       "    <tr>\n",
       "      <th>count</th>\n",
       "      <td>2.159700e+04</td>\n",
       "      <td>21597.000000</td>\n",
       "      <td>21597.000000</td>\n",
       "      <td>21597.000000</td>\n",
       "      <td>2.159700e+04</td>\n",
       "      <td>21597.000000</td>\n",
       "      <td>21597.000000</td>\n",
       "      <td>21597.000000</td>\n",
       "      <td>21597.000000</td>\n",
       "      <td>21597.000000</td>\n",
       "      <td>21597.000000</td>\n",
       "    </tr>\n",
       "    <tr>\n",
       "      <th>mean</th>\n",
       "      <td>5.402966e+05</td>\n",
       "      <td>3.373200</td>\n",
       "      <td>2.115826</td>\n",
       "      <td>2080.321850</td>\n",
       "      <td>1.509941e+04</td>\n",
       "      <td>1.494096</td>\n",
       "      <td>3.409825</td>\n",
       "      <td>7.657915</td>\n",
       "      <td>1788.596842</td>\n",
       "      <td>1970.999676</td>\n",
       "      <td>98077.951845</td>\n",
       "    </tr>\n",
       "    <tr>\n",
       "      <th>std</th>\n",
       "      <td>3.673681e+05</td>\n",
       "      <td>0.926299</td>\n",
       "      <td>0.768984</td>\n",
       "      <td>918.106125</td>\n",
       "      <td>4.141264e+04</td>\n",
       "      <td>0.539683</td>\n",
       "      <td>0.650546</td>\n",
       "      <td>1.173200</td>\n",
       "      <td>827.759761</td>\n",
       "      <td>29.375234</td>\n",
       "      <td>53.513072</td>\n",
       "    </tr>\n",
       "    <tr>\n",
       "      <th>min</th>\n",
       "      <td>7.800000e+04</td>\n",
       "      <td>1.000000</td>\n",
       "      <td>0.500000</td>\n",
       "      <td>370.000000</td>\n",
       "      <td>5.200000e+02</td>\n",
       "      <td>1.000000</td>\n",
       "      <td>1.000000</td>\n",
       "      <td>3.000000</td>\n",
       "      <td>370.000000</td>\n",
       "      <td>1900.000000</td>\n",
       "      <td>98001.000000</td>\n",
       "    </tr>\n",
       "    <tr>\n",
       "      <th>25%</th>\n",
       "      <td>3.220000e+05</td>\n",
       "      <td>3.000000</td>\n",
       "      <td>1.750000</td>\n",
       "      <td>1430.000000</td>\n",
       "      <td>5.040000e+03</td>\n",
       "      <td>1.000000</td>\n",
       "      <td>3.000000</td>\n",
       "      <td>7.000000</td>\n",
       "      <td>1190.000000</td>\n",
       "      <td>1951.000000</td>\n",
       "      <td>98033.000000</td>\n",
       "    </tr>\n",
       "    <tr>\n",
       "      <th>50%</th>\n",
       "      <td>4.500000e+05</td>\n",
       "      <td>3.000000</td>\n",
       "      <td>2.250000</td>\n",
       "      <td>1910.000000</td>\n",
       "      <td>7.618000e+03</td>\n",
       "      <td>1.500000</td>\n",
       "      <td>3.000000</td>\n",
       "      <td>7.000000</td>\n",
       "      <td>1560.000000</td>\n",
       "      <td>1975.000000</td>\n",
       "      <td>98065.000000</td>\n",
       "    </tr>\n",
       "    <tr>\n",
       "      <th>75%</th>\n",
       "      <td>6.450000e+05</td>\n",
       "      <td>4.000000</td>\n",
       "      <td>2.500000</td>\n",
       "      <td>2550.000000</td>\n",
       "      <td>1.068500e+04</td>\n",
       "      <td>2.000000</td>\n",
       "      <td>4.000000</td>\n",
       "      <td>8.000000</td>\n",
       "      <td>2210.000000</td>\n",
       "      <td>1997.000000</td>\n",
       "      <td>98118.000000</td>\n",
       "    </tr>\n",
       "    <tr>\n",
       "      <th>max</th>\n",
       "      <td>7.700000e+06</td>\n",
       "      <td>33.000000</td>\n",
       "      <td>8.000000</td>\n",
       "      <td>13540.000000</td>\n",
       "      <td>1.651359e+06</td>\n",
       "      <td>3.500000</td>\n",
       "      <td>5.000000</td>\n",
       "      <td>13.000000</td>\n",
       "      <td>9410.000000</td>\n",
       "      <td>2015.000000</td>\n",
       "      <td>98199.000000</td>\n",
       "    </tr>\n",
       "  </tbody>\n",
       "</table>\n",
       "</div>"
      ],
      "text/plain": [
       "              price      bedrooms     bathrooms   sqft_living      sqft_lot  \\\n",
       "count  2.159700e+04  21597.000000  21597.000000  21597.000000  2.159700e+04   \n",
       "mean   5.402966e+05      3.373200      2.115826   2080.321850  1.509941e+04   \n",
       "std    3.673681e+05      0.926299      0.768984    918.106125  4.141264e+04   \n",
       "min    7.800000e+04      1.000000      0.500000    370.000000  5.200000e+02   \n",
       "25%    3.220000e+05      3.000000      1.750000   1430.000000  5.040000e+03   \n",
       "50%    4.500000e+05      3.000000      2.250000   1910.000000  7.618000e+03   \n",
       "75%    6.450000e+05      4.000000      2.500000   2550.000000  1.068500e+04   \n",
       "max    7.700000e+06     33.000000      8.000000  13540.000000  1.651359e+06   \n",
       "\n",
       "             floors     condition         grade    sqft_above      yr_built  \\\n",
       "count  21597.000000  21597.000000  21597.000000  21597.000000  21597.000000   \n",
       "mean       1.494096      3.409825      7.657915   1788.596842   1970.999676   \n",
       "std        0.539683      0.650546      1.173200    827.759761     29.375234   \n",
       "min        1.000000      1.000000      3.000000    370.000000   1900.000000   \n",
       "25%        1.000000      3.000000      7.000000   1190.000000   1951.000000   \n",
       "50%        1.500000      3.000000      7.000000   1560.000000   1975.000000   \n",
       "75%        2.000000      4.000000      8.000000   2210.000000   1997.000000   \n",
       "max        3.500000      5.000000     13.000000   9410.000000   2015.000000   \n",
       "\n",
       "            zipcode  \n",
       "count  21597.000000  \n",
       "mean   98077.951845  \n",
       "std       53.513072  \n",
       "min    98001.000000  \n",
       "25%    98033.000000  \n",
       "50%    98065.000000  \n",
       "75%    98118.000000  \n",
       "max    98199.000000  "
      ]
     },
     "execution_count": 9,
     "metadata": {},
     "output_type": "execute_result"
    }
   ],
   "source": [
    "df_filtered.describe()"
   ]
  },
  {
   "cell_type": "code",
   "execution_count": 10,
   "metadata": {},
   "outputs": [
    {
     "data": {
      "image/png": "[encoded data removed]",
      "text/plain": [
       "<Figure size 1152x216 with 4 Axes>"
      ]
     },
     "metadata": {
      "needs_background": "light"
     },
     "output_type": "display_data"
    }
   ],
   "source": [
    "# Create scatter plots to determine the distribution of the features.\n",
    "fig, axes = plt.subplots(nrows=1, ncols=4, figsize=(16,3))\n",
    "\n",
    "for xcol, ax in zip(['bedrooms', \n",
    "                     'bathrooms',\n",
    "                     'sqft_living',\n",
    "                     'sqft_lot', \n",
    "                     ], axes):\n",
    "    df.plot(kind='scatter', x=xcol, y='price', ax=ax, alpha=0.4, color='b')"
   ]
  },
  {
   "cell_type": "code",
   "execution_count": 11,
   "metadata": {},
   "outputs": [
    {
     "data": {
      "image/png": "[encoded data removed]",
      "text/plain": [
       "<Figure size 1152x216 with 3 Axes>"
      ]
     },
     "metadata": {
      "needs_background": "light"
     },
     "output_type": "display_data"
    }
   ],
   "source": [
    "fig, axes = plt.subplots(nrows=1, ncols=3, figsize=(16,3))\n",
    "\n",
    "for xcol, ax in zip(['floors',\n",
    "                     'condition',\n",
    "                     'grade'], axes):\n",
    "    df.plot(kind='scatter', x=xcol, y='price', ax=ax, alpha=0.4, color='b')"
   ]
  },
  {
   "cell_type": "code",
   "execution_count": 12,
   "metadata": {},
   "outputs": [
    {
     "data": {
      "image/png": "[encoded data removed]",
      "text/plain": [
       "<Figure size 1152x216 with 3 Axes>"
      ]
     },
     "metadata": {
      "needs_background": "light"
     },
     "output_type": "display_data"
    }
   ],
   "source": [
    "fig, axes = plt.subplots(nrows=1, ncols=3, figsize=(16,3))\n",
    "\n",
    "for xcol, ax in zip(['sqft_above',\n",
    "                    'yr_built',\n",
    "                    'zipcode'], axes):\n",
    "    df.plot(kind='scatter', x=xcol, y='price', ax=ax, alpha=0.4, color='b')"
   ]
  },
  {
   "cell_type": "markdown",
   "metadata": {},
   "source": [
    "Looking at the above graphs it appears that 'zipcode', 'floors', and 'condition' could be considered categorical data, which will need to be addressed later. Will likely leave 'grade' as numerical data since it appears that a higher grade equates to a higher home price. 'Bedrooms' could also be considered categorical, will need to be addressed."
   ]
  },
  {
   "cell_type": "code",
   "execution_count": 13,
   "metadata": {},
   "outputs": [
    {
     "data": {
      "image/png": "[encoded data removed]",
      "text/plain": [
       "<Figure size 1440x720 with 12 Axes>"
      ]
     },
     "metadata": {
      "needs_background": "light"
     },
     "output_type": "display_data"
    }
   ],
   "source": [
    "# Create histograms to further analyze the distribution of the features.\n",
    "import warnings\n",
    "warnings.filterwarnings('ignore')\n",
    "fig = plt.figure(figsize = (20,10))\n",
    "ax = fig.gca()\n",
    "df_filtered.hist(ax = ax);"
   ]
  },
  {
   "cell_type": "markdown",
   "metadata": {},
   "source": [
    "Looking at the above graphs it appears that 'price', 'bedrooms', 'bathrooms', sqft_living', 'sqft_lot', and 'sqft_above', and 'yr_built' are not evenly distributed. This is likely due to outliers in the data. Outliers will need to be removed for these and some may need to be log transformed."
   ]
  },
  {
   "cell_type": "markdown",
   "metadata": {},
   "source": [
    "### Check for Multicollinearity"
   ]
  },
  {
   "cell_type": "code",
   "execution_count": 14,
   "metadata": {},
   "outputs": [
    {
     "data": {
      "image/png": "[encoded data removed]",
      "text/plain": [
       "<Figure size 432x288 with 2 Axes>"
      ]
     },
     "metadata": {
      "needs_background": "light"
     },
     "output_type": "display_data"
    }
   ],
   "source": [
    "# Created heatmap to determine the multicollinearity of the features. \n",
    "sns.heatmap(df_filtered.corr(), center=0);"
   ]
  },
  {
   "cell_type": "markdown",
   "metadata": {},
   "source": [
    "Noticed that 'sqft_above' and 'sqft_living' are closely related to each other and should not be included together in any models."
   ]
  },
  {
   "cell_type": "markdown",
   "metadata": {},
   "source": [
    "# Model A (Simple Model)"
   ]
  },
  {
   "cell_type": "markdown",
   "metadata": {},
   "source": [
    "Will create a basic model without transforming any features just to get an idea of how the data performs. "
   ]
  },
  {
   "cell_type": "markdown",
   "metadata": {},
   "source": [
    "## Feature Engineering"
   ]
  },
  {
   "cell_type": "code",
   "execution_count": 15,
   "metadata": {},
   "outputs": [],
   "source": [
    "# Model A features:\n",
    "price_a = df_filtered['price']\n",
    "bedrooms_a = df_filtered['bedrooms']\n",
    "bathrooms_a = df_filtered['bathrooms']\n",
    "sqft_living_a = df_filtered['sqft_living']\n",
    "grade_a = df_filtered['grade']"
   ]
  },
  {
   "cell_type": "code",
   "execution_count": 16,
   "metadata": {},
   "outputs": [
    {
     "data": {
      "text/html": [
       "<div>\n",
       "<style scoped>\n",
       "    .dataframe tbody tr th:only-of-type {\n",
       "        vertical-align: middle;\n",
       "    }\n",
       "\n",
       "    .dataframe tbody tr th {\n",
       "        vertical-align: top;\n",
       "    }\n",
       "\n",
       "    .dataframe thead th {\n",
       "        text-align: right;\n",
       "    }\n",
       "</style>\n",
       "<table border=\"1\" class=\"dataframe\">\n",
       "  <thead>\n",
       "    <tr style=\"text-align: right;\">\n",
       "      <th></th>\n",
       "      <th>price</th>\n",
       "      <th>bedrooms</th>\n",
       "      <th>bathrooms</th>\n",
       "      <th>sqft_living</th>\n",
       "      <th>grade</th>\n",
       "    </tr>\n",
       "  </thead>\n",
       "  <tbody>\n",
       "    <tr>\n",
       "      <th>0</th>\n",
       "      <td>221900.0</td>\n",
       "      <td>3</td>\n",
       "      <td>1.00</td>\n",
       "      <td>1180</td>\n",
       "      <td>7</td>\n",
       "    </tr>\n",
       "    <tr>\n",
       "      <th>1</th>\n",
       "      <td>538000.0</td>\n",
       "      <td>3</td>\n",
       "      <td>2.25</td>\n",
       "      <td>2570</td>\n",
       "      <td>7</td>\n",
       "    </tr>\n",
       "    <tr>\n",
       "      <th>2</th>\n",
       "      <td>180000.0</td>\n",
       "      <td>2</td>\n",
       "      <td>1.00</td>\n",
       "      <td>770</td>\n",
       "      <td>6</td>\n",
       "    </tr>\n",
       "    <tr>\n",
       "      <th>3</th>\n",
       "      <td>604000.0</td>\n",
       "      <td>4</td>\n",
       "      <td>3.00</td>\n",
       "      <td>1960</td>\n",
       "      <td>7</td>\n",
       "    </tr>\n",
       "    <tr>\n",
       "      <th>4</th>\n",
       "      <td>510000.0</td>\n",
       "      <td>3</td>\n",
       "      <td>2.00</td>\n",
       "      <td>1680</td>\n",
       "      <td>8</td>\n",
       "    </tr>\n",
       "  </tbody>\n",
       "</table>\n",
       "</div>"
      ],
      "text/plain": [
       "      price  bedrooms  bathrooms  sqft_living  grade\n",
       "0  221900.0         3       1.00         1180      7\n",
       "1  538000.0         3       2.25         2570      7\n",
       "2  180000.0         2       1.00          770      6\n",
       "3  604000.0         4       3.00         1960      7\n",
       "4  510000.0         3       2.00         1680      8"
      ]
     },
     "execution_count": 16,
     "metadata": {},
     "output_type": "execute_result"
    }
   ],
   "source": [
    "# Create dataframe for features.\n",
    "simple_model_ols = pd.concat([price_a, bedrooms_a, bathrooms_a, sqft_living_a, grade_a], axis=1)\n",
    "simple_model_ols.head()"
   ]
  },
  {
   "cell_type": "markdown",
   "metadata": {},
   "source": [
    "### Split Data into Training and Test set"
   ]
  },
  {
   "cell_type": "code",
   "execution_count": 17,
   "metadata": {},
   "outputs": [
    {
     "data": {
      "text/plain": [
       "3686     132500.0\n",
       "10247    415000.0\n",
       "4037     494000.0\n",
       "3437     355000.0\n",
       "19291    606000.0\n",
       "           ...   \n",
       "2522     175000.0\n",
       "11119    394950.0\n",
       "11973    437000.0\n",
       "17601    293000.0\n",
       "19844    293467.0\n",
       "Name: price, Length: 4320, dtype: float64"
      ]
     },
     "execution_count": 17,
     "metadata": {},
     "output_type": "execute_result"
    }
   ],
   "source": [
    "# Will seperate data into training and testing sets for analysis.\n",
    "target_a = simple_model_ols['price']\n",
    "features_a = simple_model_ols.drop(['price'], axis=1)\n",
    "\n",
    "X_train_a, X_test_a, y_train_a, y_test_a = train_test_split(features_a,target_a,test_size=0.2,random_state=42)\n",
    "y_test_a"
   ]
  },
  {
   "cell_type": "markdown",
   "metadata": {},
   "source": [
    "## Model A Training"
   ]
  },
  {
   "cell_type": "code",
   "execution_count": 18,
   "metadata": {},
   "outputs": [],
   "source": [
    "outcome_a = 'y_train_a'\n",
    "predictors_a = X_train_a\n",
    "pred_sum_a = '+'.join(predictors_a.columns)\n",
    "formula_a = outcome_a + '~' + pred_sum_a"
   ]
  },
  {
   "cell_type": "code",
   "execution_count": 19,
   "metadata": {},
   "outputs": [
    {
     "data": {
      "text/html": [
       "<div>\n",
       "<style scoped>\n",
       "    .dataframe tbody tr th:only-of-type {\n",
       "        vertical-align: middle;\n",
       "    }\n",
       "\n",
       "    .dataframe tbody tr th {\n",
       "        vertical-align: top;\n",
       "    }\n",
       "\n",
       "    .dataframe thead th {\n",
       "        text-align: right;\n",
       "    }\n",
       "</style>\n",
       "<table border=\"1\" class=\"dataframe\">\n",
       "  <thead>\n",
       "    <tr style=\"text-align: right;\">\n",
       "      <th></th>\n",
       "      <th>bedrooms</th>\n",
       "      <th>bathrooms</th>\n",
       "      <th>sqft_living</th>\n",
       "      <th>grade</th>\n",
       "      <th>price</th>\n",
       "    </tr>\n",
       "  </thead>\n",
       "  <tbody>\n",
       "    <tr>\n",
       "      <th>6243</th>\n",
       "      <td>4</td>\n",
       "      <td>2.00</td>\n",
       "      <td>1440</td>\n",
       "      <td>7</td>\n",
       "      <td>332500.0</td>\n",
       "    </tr>\n",
       "    <tr>\n",
       "      <th>8986</th>\n",
       "      <td>3</td>\n",
       "      <td>1.75</td>\n",
       "      <td>1430</td>\n",
       "      <td>7</td>\n",
       "      <td>390000.0</td>\n",
       "    </tr>\n",
       "    <tr>\n",
       "      <th>9419</th>\n",
       "      <td>4</td>\n",
       "      <td>2.75</td>\n",
       "      <td>3120</td>\n",
       "      <td>9</td>\n",
       "      <td>800000.0</td>\n",
       "    </tr>\n",
       "    <tr>\n",
       "      <th>10155</th>\n",
       "      <td>4</td>\n",
       "      <td>2.50</td>\n",
       "      <td>2060</td>\n",
       "      <td>7</td>\n",
       "      <td>462000.0</td>\n",
       "    </tr>\n",
       "    <tr>\n",
       "      <th>10436</th>\n",
       "      <td>3</td>\n",
       "      <td>2.00</td>\n",
       "      <td>2500</td>\n",
       "      <td>7</td>\n",
       "      <td>695000.0</td>\n",
       "    </tr>\n",
       "  </tbody>\n",
       "</table>\n",
       "</div>"
      ],
      "text/plain": [
       "       bedrooms  bathrooms  sqft_living  grade     price\n",
       "6243          4       2.00         1440      7  332500.0\n",
       "8986          3       1.75         1430      7  390000.0\n",
       "9419          4       2.75         3120      9  800000.0\n",
       "10155         4       2.50         2060      7  462000.0\n",
       "10436         3       2.00         2500      7  695000.0"
      ]
     },
     "execution_count": 19,
     "metadata": {},
     "output_type": "execute_result"
    }
   ],
   "source": [
    "data_a = pd.concat([X_train_a,y_train_a], axis=1)\n",
    "data_a.head()"
   ]
  },
  {
   "cell_type": "code",
   "execution_count": 20,
   "metadata": {},
   "outputs": [
    {
     "data": {
      "text/html": [
       "<table class=\"simpletable\">\n",
       "<caption>OLS Regression Results</caption>\n",
       "<tr>\n",
       "  <th>Dep. Variable:</th>        <td>y_train_a</td>    <th>  R-squared:         </th>  <td>   0.546</td>  \n",
       "</tr>\n",
       "<tr>\n",
       "  <th>Model:</th>                   <td>OLS</td>       <th>  Adj. R-squared:    </th>  <td>   0.545</td>  \n",
       "</tr>\n",
       "<tr>\n",
       "  <th>Method:</th>             <td>Least Squares</td>  <th>  F-statistic:       </th>  <td>   5184.</td>  \n",
       "</tr>\n",
       "<tr>\n",
       "  <th>Date:</th>             <td>Mon, 22 Mar 2021</td> <th>  Prob (F-statistic):</th>   <td>  0.00</td>   \n",
       "</tr>\n",
       "<tr>\n",
       "  <th>Time:</th>                 <td>17:31:56</td>     <th>  Log-Likelihood:    </th> <td>-2.3917e+05</td>\n",
       "</tr>\n",
       "<tr>\n",
       "  <th>No. Observations:</th>      <td> 17277</td>      <th>  AIC:               </th>  <td>4.783e+05</td> \n",
       "</tr>\n",
       "<tr>\n",
       "  <th>Df Residuals:</th>          <td> 17272</td>      <th>  BIC:               </th>  <td>4.784e+05</td> \n",
       "</tr>\n",
       "<tr>\n",
       "  <th>Df Model:</th>              <td>     4</td>      <th>                     </th>      <td> </td>     \n",
       "</tr>\n",
       "<tr>\n",
       "  <th>Covariance Type:</th>      <td>nonrobust</td>    <th>                     </th>      <td> </td>     \n",
       "</tr>\n",
       "</table>\n",
       "<table class=\"simpletable\">\n",
       "<tr>\n",
       "       <td></td>          <th>coef</th>     <th>std err</th>      <th>t</th>      <th>P>|t|</th>  <th>[0.025</th>    <th>0.975]</th>  \n",
       "</tr>\n",
       "<tr>\n",
       "  <th>Intercept</th>   <td> -4.87e+05</td> <td>  1.7e+04</td> <td>  -28.689</td> <td> 0.000</td> <td> -5.2e+05</td> <td>-4.54e+05</td>\n",
       "</tr>\n",
       "<tr>\n",
       "  <th>bedrooms</th>    <td>-4.335e+04</td> <td> 2685.131</td> <td>  -16.143</td> <td> 0.000</td> <td>-4.86e+04</td> <td>-3.81e+04</td>\n",
       "</tr>\n",
       "<tr>\n",
       "  <th>bathrooms</th>   <td>-2.448e+04</td> <td> 3936.106</td> <td>   -6.219</td> <td> 0.000</td> <td>-3.22e+04</td> <td>-1.68e+04</td>\n",
       "</tr>\n",
       "<tr>\n",
       "  <th>sqft_living</th> <td>  227.8517</td> <td>    4.065</td> <td>   56.054</td> <td> 0.000</td> <td>  219.884</td> <td>  235.819</td>\n",
       "</tr>\n",
       "<tr>\n",
       "  <th>grade</th>       <td> 9.819e+04</td> <td> 2607.614</td> <td>   37.654</td> <td> 0.000</td> <td> 9.31e+04</td> <td> 1.03e+05</td>\n",
       "</tr>\n",
       "</table>\n",
       "<table class=\"simpletable\">\n",
       "<tr>\n",
       "  <th>Omnibus:</th>       <td>12674.639</td> <th>  Durbin-Watson:     </th>  <td>   2.000</td> \n",
       "</tr>\n",
       "<tr>\n",
       "  <th>Prob(Omnibus):</th>  <td> 0.000</td>   <th>  Jarque-Bera (JB):  </th> <td>584848.422</td>\n",
       "</tr>\n",
       "<tr>\n",
       "  <th>Skew:</th>           <td> 3.045</td>   <th>  Prob(JB):          </th>  <td>    0.00</td> \n",
       "</tr>\n",
       "<tr>\n",
       "  <th>Kurtosis:</th>       <td>30.845</td>   <th>  Cond. No.          </th>  <td>2.07e+04</td> \n",
       "</tr>\n",
       "</table><br/><br/>Notes:<br/>[1] Standard Errors assume that the covariance matrix of the errors is correctly specified.<br/>[2] The condition number is large, 2.07e+04. This might indicate that there are<br/>strong multicollinearity or other numerical problems."
      ],
      "text/plain": [
       "<class 'statsmodels.iolib.summary.Summary'>\n",
       "\"\"\"\n",
       "                            OLS Regression Results                            \n",
       "==============================================================================\n",
       "Dep. Variable:              y_train_a   R-squared:                       0.546\n",
       "Model:                            OLS   Adj. R-squared:                  0.545\n",
       "Method:                 Least Squares   F-statistic:                     5184.\n",
       "Date:                Mon, 22 Mar 2021   Prob (F-statistic):               0.00\n",
       "Time:                        17:31:56   Log-Likelihood:            -2.3917e+05\n",
       "No. Observations:               17277   AIC:                         4.783e+05\n",
       "Df Residuals:                   17272   BIC:                         4.784e+05\n",
       "Df Model:                           4                                         \n",
       "Covariance Type:            nonrobust                                         \n",
       "===============================================================================\n",
       "                  coef    std err          t      P>|t|      [0.025      0.975]\n",
       "-------------------------------------------------------------------------------\n",
       "Intercept    -4.87e+05    1.7e+04    -28.689      0.000    -5.2e+05   -4.54e+05\n",
       "bedrooms    -4.335e+04   2685.131    -16.143      0.000   -4.86e+04   -3.81e+04\n",
       "bathrooms   -2.448e+04   3936.106     -6.219      0.000   -3.22e+04   -1.68e+04\n",
       "sqft_living   227.8517      4.065     56.054      0.000     219.884     235.819\n",
       "grade        9.819e+04   2607.614     37.654      0.000    9.31e+04    1.03e+05\n",
       "==============================================================================\n",
       "Omnibus:                    12674.639   Durbin-Watson:                   2.000\n",
       "Prob(Omnibus):                  0.000   Jarque-Bera (JB):           584848.422\n",
       "Skew:                           3.045   Prob(JB):                         0.00\n",
       "Kurtosis:                      30.845   Cond. No.                     2.07e+04\n",
       "==============================================================================\n",
       "\n",
       "Notes:\n",
       "[1] Standard Errors assume that the covariance matrix of the errors is correctly specified.\n",
       "[2] The condition number is large, 2.07e+04. This might indicate that there are\n",
       "strong multicollinearity or other numerical problems.\n",
       "\"\"\""
      ]
     },
     "execution_count": 20,
     "metadata": {},
     "output_type": "execute_result"
    }
   ],
   "source": [
    "#Create OLS Model to analyze Model A.\n",
    "model_a_ols = ols(formula=formula_a, data=data_a).fit()\n",
    "model_a_ols.summary()"
   ]
  },
  {
   "cell_type": "markdown",
   "metadata": {},
   "source": [
    "## Model A Evaluation"
   ]
  },
  {
   "cell_type": "markdown",
   "metadata": {},
   "source": [
    "Model A produces p-values of 0 for each feature indicating that there likely is a relationship between the features and the target, which allows us to reject the null hypothesis for these features.  Model A, however, also produces a low R-squared value of .546, indicating that only about 54% of the model's observed variance can be explained by its inputs. Model A also produces a high Skew of 3.045, indicating that the data is not evenly distributed and will need to be transformed. Model A also has a high Kurtosis of 30.845 indicating a heavy tail and the presance of outliers.   "
   ]
  },
  {
   "cell_type": "code",
   "execution_count": 21,
   "metadata": {},
   "outputs": [
    {
     "data": {
      "text/plain": [
       "LinearRegression()"
      ]
     },
     "execution_count": 21,
     "metadata": {},
     "output_type": "execute_result"
    }
   ],
   "source": [
    "#Create linear regression model using Sklearn.\n",
    "simple_model = LinearRegression()\n",
    "simple_model.fit(X_train_a,y_train_a)"
   ]
  },
  {
   "cell_type": "code",
   "execution_count": 22,
   "metadata": {},
   "outputs": [],
   "source": [
    "#Run model on training and testing data.\n",
    "y_train_pred_a = simple_model.predict(X_train_a)\n",
    "y_test_pred_a = simple_model.predict(X_test_a)"
   ]
  },
  {
   "cell_type": "code",
   "execution_count": 23,
   "metadata": {},
   "outputs": [
    {
     "name": "stdout",
     "output_type": "stream",
     "text": [
      "Train Mean Absolute Error: 163322.19664046232\n",
      "Test Mean Absolute Error: 160590.04935962288\n"
     ]
    }
   ],
   "source": [
    "#Calculate Mean Absolute Error for training and testing data.\n",
    "print('Train Mean Absolute Error:',metrics.mean_absolute_error(y_train_a, y_train_pred_a))\n",
    "print('Test Mean Absolute Error:',metrics.mean_absolute_error(y_test_a, y_test_pred_a))"
   ]
  },
  {
   "cell_type": "code",
   "execution_count": 24,
   "metadata": {},
   "outputs": [
    {
     "name": "stdout",
     "output_type": "stream",
     "text": [
      "Train Mean Squared Error: 61861240256.03002\n",
      "Test Mean Squared Error: 60591750008.89411\n"
     ]
    }
   ],
   "source": [
    "#Calculate Mean Squared Error for training and testing data.\n",
    "print('Train Mean Squared Error:',metrics.mean_squared_error(y_train_a, y_train_pred_a))\n",
    "print('Test Mean Squared Error:',metrics.mean_squared_error(y_test_a, y_test_pred_a))"
   ]
  },
  {
   "cell_type": "code",
   "execution_count": 25,
   "metadata": {},
   "outputs": [
    {
     "name": "stdout",
     "output_type": "stream",
     "text": [
      "Train Root Mean Squared Error: 248719.1996127963\n",
      "Test Root Mean Squared Error: 246153.91528247955\n"
     ]
    }
   ],
   "source": [
    "#Calculate Root Mean Squared Error for training and testing data.\n",
    "print('Train Root Mean Squared Error:',np.sqrt(metrics.mean_squared_error(y_train_a, y_train_pred_a)))\n",
    "print('Test Root Mean Squared Error:',np.sqrt(metrics.mean_squared_error(y_test_a, y_test_pred_a)))"
   ]
  },
  {
   "cell_type": "code",
   "execution_count": 26,
   "metadata": {},
   "outputs": [],
   "source": [
    "#Calculate Model A residuals in order to use for graphs.\n",
    "resid_a = y_test_pred_a - y_test_a"
   ]
  },
  {
   "cell_type": "code",
   "execution_count": 27,
   "metadata": {},
   "outputs": [
    {
     "data": {
      "image/png": "[encoded data removed]",
      "text/plain": [
       "<Figure size 360x360 with 1 Axes>"
      ]
     },
     "metadata": {
      "needs_background": "light"
     },
     "output_type": "display_data"
    }
   ],
   "source": [
    "#Create distribution plot to check Model A's distribution of prices\n",
    "sns.displot(x=resid_a,kind='hist',kde=True);"
   ]
  },
  {
   "cell_type": "code",
   "execution_count": 28,
   "metadata": {},
   "outputs": [
    {
     "data": {
      "image/png": "[encoded data removed]",
      "text/plain": [
       "<Figure size 432x288 with 1 Axes>"
      ]
     },
     "metadata": {
      "needs_background": "light"
     },
     "output_type": "display_data"
    }
   ],
   "source": [
    "fig = sm.graphics.qqplot(resid_a, dist=stats.norm, line='45',fit=True)"
   ]
  },
  {
   "cell_type": "code",
   "execution_count": 29,
   "metadata": {},
   "outputs": [
    {
     "data": {
      "text/plain": [
       "<matplotlib.collections.LineCollection at 0x7f85d34dbd90>"
      ]
     },
     "execution_count": 29,
     "metadata": {},
     "output_type": "execute_result"
    },
    {
     "data": {
      "image/png": "[encoded data removed]",
      "text/plain": [
       "<Figure size 432x288 with 1 Axes>"
      ]
     },
     "metadata": {
      "needs_background": "light"
     },
     "output_type": "display_data"
    }
   ],
   "source": [
    "#Create scatter plot to check for homoscedasticity.\n",
    "plt.scatter(y_test_pred_a, resid_a)\n",
    "plt.hlines(y=0, xmin=y_test_pred_a.min(), xmax=y_test_pred_a.max())"
   ]
  },
  {
   "cell_type": "code",
   "execution_count": 30,
   "metadata": {},
   "outputs": [
    {
     "data": {
      "text/plain": [
       "Text(0.5, 1.0, 'Actual vs. Predicted')"
      ]
     },
     "execution_count": 30,
     "metadata": {},
     "output_type": "execute_result"
    },
    {
     "data": {
      "image/png": "[encoded data removed]",
      "text/plain": [
       "<Figure size 1080x720 with 1 Axes>"
      ]
     },
     "metadata": {
      "needs_background": "light"
     },
     "output_type": "display_data"
    }
   ],
   "source": [
    "#Create scatter plot to show relationship between actual and predicted data. \n",
    "plt.figure(figsize=(15,10))\n",
    "plt.scatter(y_test_a, y_test_pred_a)\n",
    "plt.xlabel('Actual')\n",
    "plt.ylabel('Predicted')\n",
    "plt.title('Actual vs. Predicted')"
   ]
  },
  {
   "cell_type": "markdown",
   "metadata": {},
   "source": [
    "### Cross Validation"
   ]
  },
  {
   "cell_type": "code",
   "execution_count": 31,
   "metadata": {},
   "outputs": [
    {
     "data": {
      "text/plain": [
       "array([0.52194145, 0.50012173, 0.55545965, 0.50878098, 0.56754696])"
      ]
     },
     "execution_count": 31,
     "metadata": {},
     "output_type": "execute_result"
    }
   ],
   "source": [
    "model_a_scores = cross_val_score(simple_model, X_test_a, y_test_a, cv=5)\n",
    "model_a_scores"
   ]
  },
  {
   "cell_type": "code",
   "execution_count": 32,
   "metadata": {},
   "outputs": [
    {
     "data": {
      "text/plain": [
       "(0.5307701563961759, 0.026316914174252436)"
      ]
     },
     "execution_count": 32,
     "metadata": {},
     "output_type": "execute_result"
    }
   ],
   "source": [
    "model_a_scores.mean(), model_a_scores.std()"
   ]
  },
  {
   "cell_type": "markdown",
   "metadata": {},
   "source": [
    "# Model B"
   ]
  },
  {
   "cell_type": "markdown",
   "metadata": {},
   "source": [
    "## Feature Engineering"
   ]
  },
  {
   "cell_type": "markdown",
   "metadata": {},
   "source": [
    "### Create Dummy Variables"
   ]
  },
  {
   "cell_type": "code",
   "execution_count": 33,
   "metadata": {},
   "outputs": [
    {
     "name": "stdout",
     "output_type": "stream",
     "text": [
      "<class 'pandas.core.frame.DataFrame'>\n",
      "RangeIndex: 21597 entries, 0 to 21596\n",
      "Data columns (total 11 columns):\n",
      " #   Column       Non-Null Count  Dtype  \n",
      "---  ------       --------------  -----  \n",
      " 0   price        21597 non-null  float64\n",
      " 1   bedrooms     21597 non-null  int64  \n",
      " 2   bathrooms    21597 non-null  float64\n",
      " 3   sqft_living  21597 non-null  int64  \n",
      " 4   sqft_lot     21597 non-null  int64  \n",
      " 5   floors       21597 non-null  float64\n",
      " 6   condition    21597 non-null  int64  \n",
      " 7   grade        21597 non-null  int64  \n",
      " 8   sqft_above   21597 non-null  int64  \n",
      " 9   yr_built     21597 non-null  int64  \n",
      " 10  zipcode      21597 non-null  object \n",
      "dtypes: float64(3), int64(7), object(1)\n",
      "memory usage: 1.8+ MB\n"
     ]
    }
   ],
   "source": [
    "df_filtered['zipcode'] = df_filtered['zipcode'].astype('str')\n",
    "df_filtered['yr_built'] = df_filtered['yr_built'].astype('int64')\n",
    "df_filtered.info()"
   ]
  },
  {
   "cell_type": "code",
   "execution_count": 34,
   "metadata": {},
   "outputs": [],
   "source": [
    "zip_dummies = pd.get_dummies(df_filtered['zipcode'], prefix='zip', drop_first=True)"
   ]
  },
  {
   "cell_type": "code",
   "execution_count": 35,
   "metadata": {},
   "outputs": [],
   "source": [
    "df_dummies = df_filtered.drop(['zipcode'], axis=1)"
   ]
  },
  {
   "cell_type": "code",
   "execution_count": 36,
   "metadata": {},
   "outputs": [
    {
     "data": {
      "text/html": [
       "<div>\n",
       "<style scoped>\n",
       "    .dataframe tbody tr th:only-of-type {\n",
       "        vertical-align: middle;\n",
       "    }\n",
       "\n",
       "    .dataframe tbody tr th {\n",
       "        vertical-align: top;\n",
       "    }\n",
       "\n",
       "    .dataframe thead th {\n",
       "        text-align: right;\n",
       "    }\n",
       "</style>\n",
       "<table border=\"1\" class=\"dataframe\">\n",
       "  <thead>\n",
       "    <tr style=\"text-align: right;\">\n",
       "      <th></th>\n",
       "      <th>price</th>\n",
       "      <th>bedrooms</th>\n",
       "      <th>bathrooms</th>\n",
       "      <th>sqft_living</th>\n",
       "      <th>sqft_lot</th>\n",
       "      <th>floors</th>\n",
       "      <th>condition</th>\n",
       "      <th>grade</th>\n",
       "      <th>sqft_above</th>\n",
       "      <th>yr_built</th>\n",
       "      <th>...</th>\n",
       "      <th>zip_98146</th>\n",
       "      <th>zip_98148</th>\n",
       "      <th>zip_98155</th>\n",
       "      <th>zip_98166</th>\n",
       "      <th>zip_98168</th>\n",
       "      <th>zip_98177</th>\n",
       "      <th>zip_98178</th>\n",
       "      <th>zip_98188</th>\n",
       "      <th>zip_98198</th>\n",
       "      <th>zip_98199</th>\n",
       "    </tr>\n",
       "  </thead>\n",
       "  <tbody>\n",
       "    <tr>\n",
       "      <th>0</th>\n",
       "      <td>221900.0</td>\n",
       "      <td>3</td>\n",
       "      <td>1.00</td>\n",
       "      <td>1180</td>\n",
       "      <td>5650</td>\n",
       "      <td>1.0</td>\n",
       "      <td>3</td>\n",
       "      <td>7</td>\n",
       "      <td>1180</td>\n",
       "      <td>1955</td>\n",
       "      <td>...</td>\n",
       "      <td>0</td>\n",
       "      <td>0</td>\n",
       "      <td>0</td>\n",
       "      <td>0</td>\n",
       "      <td>0</td>\n",
       "      <td>0</td>\n",
       "      <td>1</td>\n",
       "      <td>0</td>\n",
       "      <td>0</td>\n",
       "      <td>0</td>\n",
       "    </tr>\n",
       "    <tr>\n",
       "      <th>1</th>\n",
       "      <td>538000.0</td>\n",
       "      <td>3</td>\n",
       "      <td>2.25</td>\n",
       "      <td>2570</td>\n",
       "      <td>7242</td>\n",
       "      <td>2.0</td>\n",
       "      <td>3</td>\n",
       "      <td>7</td>\n",
       "      <td>2170</td>\n",
       "      <td>1951</td>\n",
       "      <td>...</td>\n",
       "      <td>0</td>\n",
       "      <td>0</td>\n",
       "      <td>0</td>\n",
       "      <td>0</td>\n",
       "      <td>0</td>\n",
       "      <td>0</td>\n",
       "      <td>0</td>\n",
       "      <td>0</td>\n",
       "      <td>0</td>\n",
       "      <td>0</td>\n",
       "    </tr>\n",
       "    <tr>\n",
       "      <th>2</th>\n",
       "      <td>180000.0</td>\n",
       "      <td>2</td>\n",
       "      <td>1.00</td>\n",
       "      <td>770</td>\n",
       "      <td>10000</td>\n",
       "      <td>1.0</td>\n",
       "      <td>3</td>\n",
       "      <td>6</td>\n",
       "      <td>770</td>\n",
       "      <td>1933</td>\n",
       "      <td>...</td>\n",
       "      <td>0</td>\n",
       "      <td>0</td>\n",
       "      <td>0</td>\n",
       "      <td>0</td>\n",
       "      <td>0</td>\n",
       "      <td>0</td>\n",
       "      <td>0</td>\n",
       "      <td>0</td>\n",
       "      <td>0</td>\n",
       "      <td>0</td>\n",
       "    </tr>\n",
       "    <tr>\n",
       "      <th>3</th>\n",
       "      <td>604000.0</td>\n",
       "      <td>4</td>\n",
       "      <td>3.00</td>\n",
       "      <td>1960</td>\n",
       "      <td>5000</td>\n",
       "      <td>1.0</td>\n",
       "      <td>5</td>\n",
       "      <td>7</td>\n",
       "      <td>1050</td>\n",
       "      <td>1965</td>\n",
       "      <td>...</td>\n",
       "      <td>0</td>\n",
       "      <td>0</td>\n",
       "      <td>0</td>\n",
       "      <td>0</td>\n",
       "      <td>0</td>\n",
       "      <td>0</td>\n",
       "      <td>0</td>\n",
       "      <td>0</td>\n",
       "      <td>0</td>\n",
       "      <td>0</td>\n",
       "    </tr>\n",
       "    <tr>\n",
       "      <th>4</th>\n",
       "      <td>510000.0</td>\n",
       "      <td>3</td>\n",
       "      <td>2.00</td>\n",
       "      <td>1680</td>\n",
       "      <td>8080</td>\n",
       "      <td>1.0</td>\n",
       "      <td>3</td>\n",
       "      <td>8</td>\n",
       "      <td>1680</td>\n",
       "      <td>1987</td>\n",
       "      <td>...</td>\n",
       "      <td>0</td>\n",
       "      <td>0</td>\n",
       "      <td>0</td>\n",
       "      <td>0</td>\n",
       "      <td>0</td>\n",
       "      <td>0</td>\n",
       "      <td>0</td>\n",
       "      <td>0</td>\n",
       "      <td>0</td>\n",
       "      <td>0</td>\n",
       "    </tr>\n",
       "  </tbody>\n",
       "</table>\n",
       "<p>5 rows × 80 columns</p>\n",
       "</div>"
      ],
      "text/plain": [
       "      price  bedrooms  bathrooms  sqft_living  sqft_lot  floors  condition  \\\n",
       "0  221900.0         3       1.00         1180      5650     1.0          3   \n",
       "1  538000.0         3       2.25         2570      7242     2.0          3   \n",
       "2  180000.0         2       1.00          770     10000     1.0          3   \n",
       "3  604000.0         4       3.00         1960      5000     1.0          5   \n",
       "4  510000.0         3       2.00         1680      8080     1.0          3   \n",
       "\n",
       "   grade  sqft_above  yr_built  ... zip_98146  zip_98148  zip_98155  \\\n",
       "0      7        1180      1955  ...         0          0          0   \n",
       "1      7        2170      1951  ...         0          0          0   \n",
       "2      6         770      1933  ...         0          0          0   \n",
       "3      7        1050      1965  ...         0          0          0   \n",
       "4      8        1680      1987  ...         0          0          0   \n",
       "\n",
       "   zip_98166  zip_98168  zip_98177  zip_98178  zip_98188  zip_98198  zip_98199  \n",
       "0          0          0          0          1          0          0          0  \n",
       "1          0          0          0          0          0          0          0  \n",
       "2          0          0          0          0          0          0          0  \n",
       "3          0          0          0          0          0          0          0  \n",
       "4          0          0          0          0          0          0          0  \n",
       "\n",
       "[5 rows x 80 columns]"
      ]
     },
     "execution_count": 36,
     "metadata": {},
     "output_type": "execute_result"
    }
   ],
   "source": [
    "df_dummies = pd.concat([df_filtered, zip_dummies], axis=1)\n",
    "df_dummies.head()"
   ]
  },
  {
   "cell_type": "code",
   "execution_count": 37,
   "metadata": {},
   "outputs": [
    {
     "data": {
      "text/html": [
       "<div>\n",
       "<style scoped>\n",
       "    .dataframe tbody tr th:only-of-type {\n",
       "        vertical-align: middle;\n",
       "    }\n",
       "\n",
       "    .dataframe tbody tr th {\n",
       "        vertical-align: top;\n",
       "    }\n",
       "\n",
       "    .dataframe thead th {\n",
       "        text-align: right;\n",
       "    }\n",
       "</style>\n",
       "<table border=\"1\" class=\"dataframe\">\n",
       "  <thead>\n",
       "    <tr style=\"text-align: right;\">\n",
       "      <th></th>\n",
       "      <th>price</th>\n",
       "      <th>bedrooms</th>\n",
       "      <th>bathrooms</th>\n",
       "      <th>sqft_living</th>\n",
       "      <th>sqft_lot</th>\n",
       "      <th>floors</th>\n",
       "      <th>condition</th>\n",
       "      <th>grade</th>\n",
       "      <th>sqft_above</th>\n",
       "      <th>yr_built</th>\n",
       "      <th>...</th>\n",
       "      <th>zip_98146</th>\n",
       "      <th>zip_98148</th>\n",
       "      <th>zip_98155</th>\n",
       "      <th>zip_98166</th>\n",
       "      <th>zip_98168</th>\n",
       "      <th>zip_98177</th>\n",
       "      <th>zip_98178</th>\n",
       "      <th>zip_98188</th>\n",
       "      <th>zip_98198</th>\n",
       "      <th>zip_98199</th>\n",
       "    </tr>\n",
       "  </thead>\n",
       "  <tbody>\n",
       "    <tr>\n",
       "      <th>count</th>\n",
       "      <td>2.159700e+04</td>\n",
       "      <td>21597.000000</td>\n",
       "      <td>21597.000000</td>\n",
       "      <td>21597.000000</td>\n",
       "      <td>2.159700e+04</td>\n",
       "      <td>21597.000000</td>\n",
       "      <td>21597.000000</td>\n",
       "      <td>21597.000000</td>\n",
       "      <td>21597.000000</td>\n",
       "      <td>21597.000000</td>\n",
       "      <td>...</td>\n",
       "      <td>21597.000000</td>\n",
       "      <td>21597.000000</td>\n",
       "      <td>21597.000000</td>\n",
       "      <td>21597.000000</td>\n",
       "      <td>21597.000000</td>\n",
       "      <td>21597.000000</td>\n",
       "      <td>21597.000000</td>\n",
       "      <td>21597.000000</td>\n",
       "      <td>21597.000000</td>\n",
       "      <td>21597.000000</td>\n",
       "    </tr>\n",
       "    <tr>\n",
       "      <th>mean</th>\n",
       "      <td>5.402966e+05</td>\n",
       "      <td>3.373200</td>\n",
       "      <td>2.115826</td>\n",
       "      <td>2080.321850</td>\n",
       "      <td>1.509941e+04</td>\n",
       "      <td>1.494096</td>\n",
       "      <td>3.409825</td>\n",
       "      <td>7.657915</td>\n",
       "      <td>1788.596842</td>\n",
       "      <td>1970.999676</td>\n",
       "      <td>...</td>\n",
       "      <td>0.013335</td>\n",
       "      <td>0.002639</td>\n",
       "      <td>0.020651</td>\n",
       "      <td>0.011761</td>\n",
       "      <td>0.012455</td>\n",
       "      <td>0.011807</td>\n",
       "      <td>0.012131</td>\n",
       "      <td>0.006297</td>\n",
       "      <td>0.012965</td>\n",
       "      <td>0.014678</td>\n",
       "    </tr>\n",
       "    <tr>\n",
       "      <th>std</th>\n",
       "      <td>3.673681e+05</td>\n",
       "      <td>0.926299</td>\n",
       "      <td>0.768984</td>\n",
       "      <td>918.106125</td>\n",
       "      <td>4.141264e+04</td>\n",
       "      <td>0.539683</td>\n",
       "      <td>0.650546</td>\n",
       "      <td>1.173200</td>\n",
       "      <td>827.759761</td>\n",
       "      <td>29.375234</td>\n",
       "      <td>...</td>\n",
       "      <td>0.114708</td>\n",
       "      <td>0.051307</td>\n",
       "      <td>0.142216</td>\n",
       "      <td>0.107811</td>\n",
       "      <td>0.110909</td>\n",
       "      <td>0.108020</td>\n",
       "      <td>0.109475</td>\n",
       "      <td>0.079106</td>\n",
       "      <td>0.113125</td>\n",
       "      <td>0.120263</td>\n",
       "    </tr>\n",
       "    <tr>\n",
       "      <th>min</th>\n",
       "      <td>7.800000e+04</td>\n",
       "      <td>1.000000</td>\n",
       "      <td>0.500000</td>\n",
       "      <td>370.000000</td>\n",
       "      <td>5.200000e+02</td>\n",
       "      <td>1.000000</td>\n",
       "      <td>1.000000</td>\n",
       "      <td>3.000000</td>\n",
       "      <td>370.000000</td>\n",
       "      <td>1900.000000</td>\n",
       "      <td>...</td>\n",
       "      <td>0.000000</td>\n",
       "      <td>0.000000</td>\n",
       "      <td>0.000000</td>\n",
       "      <td>0.000000</td>\n",
       "      <td>0.000000</td>\n",
       "      <td>0.000000</td>\n",
       "      <td>0.000000</td>\n",
       "      <td>0.000000</td>\n",
       "      <td>0.000000</td>\n",
       "      <td>0.000000</td>\n",
       "    </tr>\n",
       "    <tr>\n",
       "      <th>25%</th>\n",
       "      <td>3.220000e+05</td>\n",
       "      <td>3.000000</td>\n",
       "      <td>1.750000</td>\n",
       "      <td>1430.000000</td>\n",
       "      <td>5.040000e+03</td>\n",
       "      <td>1.000000</td>\n",
       "      <td>3.000000</td>\n",
       "      <td>7.000000</td>\n",
       "      <td>1190.000000</td>\n",
       "      <td>1951.000000</td>\n",
       "      <td>...</td>\n",
       "      <td>0.000000</td>\n",
       "      <td>0.000000</td>\n",
       "      <td>0.000000</td>\n",
       "      <td>0.000000</td>\n",
       "      <td>0.000000</td>\n",
       "      <td>0.000000</td>\n",
       "      <td>0.000000</td>\n",
       "      <td>0.000000</td>\n",
       "      <td>0.000000</td>\n",
       "      <td>0.000000</td>\n",
       "    </tr>\n",
       "    <tr>\n",
       "      <th>50%</th>\n",
       "      <td>4.500000e+05</td>\n",
       "      <td>3.000000</td>\n",
       "      <td>2.250000</td>\n",
       "      <td>1910.000000</td>\n",
       "      <td>7.618000e+03</td>\n",
       "      <td>1.500000</td>\n",
       "      <td>3.000000</td>\n",
       "      <td>7.000000</td>\n",
       "      <td>1560.000000</td>\n",
       "      <td>1975.000000</td>\n",
       "      <td>...</td>\n",
       "      <td>0.000000</td>\n",
       "      <td>0.000000</td>\n",
       "      <td>0.000000</td>\n",
       "      <td>0.000000</td>\n",
       "      <td>0.000000</td>\n",
       "      <td>0.000000</td>\n",
       "      <td>0.000000</td>\n",
       "      <td>0.000000</td>\n",
       "      <td>0.000000</td>\n",
       "      <td>0.000000</td>\n",
       "    </tr>\n",
       "    <tr>\n",
       "      <th>75%</th>\n",
       "      <td>6.450000e+05</td>\n",
       "      <td>4.000000</td>\n",
       "      <td>2.500000</td>\n",
       "      <td>2550.000000</td>\n",
       "      <td>1.068500e+04</td>\n",
       "      <td>2.000000</td>\n",
       "      <td>4.000000</td>\n",
       "      <td>8.000000</td>\n",
       "      <td>2210.000000</td>\n",
       "      <td>1997.000000</td>\n",
       "      <td>...</td>\n",
       "      <td>0.000000</td>\n",
       "      <td>0.000000</td>\n",
       "      <td>0.000000</td>\n",
       "      <td>0.000000</td>\n",
       "      <td>0.000000</td>\n",
       "      <td>0.000000</td>\n",
       "      <td>0.000000</td>\n",
       "      <td>0.000000</td>\n",
       "      <td>0.000000</td>\n",
       "      <td>0.000000</td>\n",
       "    </tr>\n",
       "    <tr>\n",
       "      <th>max</th>\n",
       "      <td>7.700000e+06</td>\n",
       "      <td>33.000000</td>\n",
       "      <td>8.000000</td>\n",
       "      <td>13540.000000</td>\n",
       "      <td>1.651359e+06</td>\n",
       "      <td>3.500000</td>\n",
       "      <td>5.000000</td>\n",
       "      <td>13.000000</td>\n",
       "      <td>9410.000000</td>\n",
       "      <td>2015.000000</td>\n",
       "      <td>...</td>\n",
       "      <td>1.000000</td>\n",
       "      <td>1.000000</td>\n",
       "      <td>1.000000</td>\n",
       "      <td>1.000000</td>\n",
       "      <td>1.000000</td>\n",
       "      <td>1.000000</td>\n",
       "      <td>1.000000</td>\n",
       "      <td>1.000000</td>\n",
       "      <td>1.000000</td>\n",
       "      <td>1.000000</td>\n",
       "    </tr>\n",
       "  </tbody>\n",
       "</table>\n",
       "<p>8 rows × 79 columns</p>\n",
       "</div>"
      ],
      "text/plain": [
       "              price      bedrooms     bathrooms   sqft_living      sqft_lot  \\\n",
       "count  2.159700e+04  21597.000000  21597.000000  21597.000000  2.159700e+04   \n",
       "mean   5.402966e+05      3.373200      2.115826   2080.321850  1.509941e+04   \n",
       "std    3.673681e+05      0.926299      0.768984    918.106125  4.141264e+04   \n",
       "min    7.800000e+04      1.000000      0.500000    370.000000  5.200000e+02   \n",
       "25%    3.220000e+05      3.000000      1.750000   1430.000000  5.040000e+03   \n",
       "50%    4.500000e+05      3.000000      2.250000   1910.000000  7.618000e+03   \n",
       "75%    6.450000e+05      4.000000      2.500000   2550.000000  1.068500e+04   \n",
       "max    7.700000e+06     33.000000      8.000000  13540.000000  1.651359e+06   \n",
       "\n",
       "             floors     condition         grade    sqft_above      yr_built  \\\n",
       "count  21597.000000  21597.000000  21597.000000  21597.000000  21597.000000   \n",
       "mean       1.494096      3.409825      7.657915   1788.596842   1970.999676   \n",
       "std        0.539683      0.650546      1.173200    827.759761     29.375234   \n",
       "min        1.000000      1.000000      3.000000    370.000000   1900.000000   \n",
       "25%        1.000000      3.000000      7.000000   1190.000000   1951.000000   \n",
       "50%        1.500000      3.000000      7.000000   1560.000000   1975.000000   \n",
       "75%        2.000000      4.000000      8.000000   2210.000000   1997.000000   \n",
       "max        3.500000      5.000000     13.000000   9410.000000   2015.000000   \n",
       "\n",
       "       ...     zip_98146     zip_98148     zip_98155     zip_98166  \\\n",
       "count  ...  21597.000000  21597.000000  21597.000000  21597.000000   \n",
       "mean   ...      0.013335      0.002639      0.020651      0.011761   \n",
       "std    ...      0.114708      0.051307      0.142216      0.107811   \n",
       "min    ...      0.000000      0.000000      0.000000      0.000000   \n",
       "25%    ...      0.000000      0.000000      0.000000      0.000000   \n",
       "50%    ...      0.000000      0.000000      0.000000      0.000000   \n",
       "75%    ...      0.000000      0.000000      0.000000      0.000000   \n",
       "max    ...      1.000000      1.000000      1.000000      1.000000   \n",
       "\n",
       "          zip_98168     zip_98177     zip_98178     zip_98188     zip_98198  \\\n",
       "count  21597.000000  21597.000000  21597.000000  21597.000000  21597.000000   \n",
       "mean       0.012455      0.011807      0.012131      0.006297      0.012965   \n",
       "std        0.110909      0.108020      0.109475      0.079106      0.113125   \n",
       "min        0.000000      0.000000      0.000000      0.000000      0.000000   \n",
       "25%        0.000000      0.000000      0.000000      0.000000      0.000000   \n",
       "50%        0.000000      0.000000      0.000000      0.000000      0.000000   \n",
       "75%        0.000000      0.000000      0.000000      0.000000      0.000000   \n",
       "max        1.000000      1.000000      1.000000      1.000000      1.000000   \n",
       "\n",
       "          zip_98199  \n",
       "count  21597.000000  \n",
       "mean       0.014678  \n",
       "std        0.120263  \n",
       "min        0.000000  \n",
       "25%        0.000000  \n",
       "50%        0.000000  \n",
       "75%        0.000000  \n",
       "max        1.000000  \n",
       "\n",
       "[8 rows x 79 columns]"
      ]
     },
     "execution_count": 37,
     "metadata": {},
     "output_type": "execute_result"
    }
   ],
   "source": [
    "df_dummies.describe()"
   ]
  },
  {
   "cell_type": "markdown",
   "metadata": {},
   "source": [
    "### Log Transformations"
   ]
  },
  {
   "cell_type": "code",
   "execution_count": 38,
   "metadata": {},
   "outputs": [],
   "source": [
    "logsqft = np.log(df_filtered['sqft_living'])"
   ]
  },
  {
   "cell_type": "markdown",
   "metadata": {},
   "source": [
    "## Model B Training"
   ]
  },
  {
   "cell_type": "code",
   "execution_count": 123,
   "metadata": {},
   "outputs": [],
   "source": [
    "price_b = df_dummies['price']\n",
    "bedrooms_b = df_dummies['bedrooms']\n",
    "scaled_bed_b = (logsqft-np.mean(bedrooms_b))/np.sqrt(np.var(bedrooms_b))\n",
    "bathrooms_b = df_dummies['bathrooms']\n",
    "scaled_bath_b = (bathrooms_b-np.mean(bathrooms_b))/np.sqrt(np.var(bathrooms_b))\n",
    "scaled_sqft\n",
    "scaled_sqft = (logsqft-np.mean(logsqft))/np.sqrt(np.var(logsqft))\n",
    "zip_dummies\n",
    "yr_b = df_dummies['yr_built']\n",
    "scaled_yr_b = (yr_b-np.mean(yr_b))/np.sqrt(np.var(yr_b))"
   ]
  },
  {
   "cell_type": "code",
   "execution_count": 124,
   "metadata": {},
   "outputs": [
    {
     "data": {
      "text/html": [
       "<div>\n",
       "<style scoped>\n",
       "    .dataframe tbody tr th:only-of-type {\n",
       "        vertical-align: middle;\n",
       "    }\n",
       "\n",
       "    .dataframe tbody tr th {\n",
       "        vertical-align: top;\n",
       "    }\n",
       "\n",
       "    .dataframe thead th {\n",
       "        text-align: right;\n",
       "    }\n",
       "</style>\n",
       "<table border=\"1\" class=\"dataframe\">\n",
       "  <thead>\n",
       "    <tr style=\"text-align: right;\">\n",
       "      <th></th>\n",
       "      <th>price</th>\n",
       "      <th>sqft_living</th>\n",
       "      <th>bathrooms</th>\n",
       "      <th>sqft_living</th>\n",
       "      <th>zip_98002</th>\n",
       "      <th>zip_98003</th>\n",
       "      <th>zip_98004</th>\n",
       "      <th>zip_98005</th>\n",
       "      <th>zip_98006</th>\n",
       "      <th>zip_98007</th>\n",
       "      <th>...</th>\n",
       "      <th>zip_98148</th>\n",
       "      <th>zip_98155</th>\n",
       "      <th>zip_98166</th>\n",
       "      <th>zip_98168</th>\n",
       "      <th>zip_98177</th>\n",
       "      <th>zip_98178</th>\n",
       "      <th>zip_98188</th>\n",
       "      <th>zip_98198</th>\n",
       "      <th>zip_98199</th>\n",
       "      <th>yr_built</th>\n",
       "    </tr>\n",
       "  </thead>\n",
       "  <tbody>\n",
       "    <tr>\n",
       "      <th>0</th>\n",
       "      <td>221900.0</td>\n",
       "      <td>3.994559</td>\n",
       "      <td>-1.451073</td>\n",
       "      <td>-1.125582</td>\n",
       "      <td>0</td>\n",
       "      <td>0</td>\n",
       "      <td>0</td>\n",
       "      <td>0</td>\n",
       "      <td>0</td>\n",
       "      <td>0</td>\n",
       "      <td>...</td>\n",
       "      <td>0</td>\n",
       "      <td>0</td>\n",
       "      <td>0</td>\n",
       "      <td>0</td>\n",
       "      <td>0</td>\n",
       "      <td>1</td>\n",
       "      <td>0</td>\n",
       "      <td>0</td>\n",
       "      <td>0</td>\n",
       "      <td>-0.544678</td>\n",
       "    </tr>\n",
       "    <tr>\n",
       "      <th>1</th>\n",
       "      <td>538000.0</td>\n",
       "      <td>4.834903</td>\n",
       "      <td>0.174486</td>\n",
       "      <td>0.709463</td>\n",
       "      <td>0</td>\n",
       "      <td>0</td>\n",
       "      <td>0</td>\n",
       "      <td>0</td>\n",
       "      <td>0</td>\n",
       "      <td>0</td>\n",
       "      <td>...</td>\n",
       "      <td>0</td>\n",
       "      <td>0</td>\n",
       "      <td>0</td>\n",
       "      <td>0</td>\n",
       "      <td>0</td>\n",
       "      <td>0</td>\n",
       "      <td>0</td>\n",
       "      <td>0</td>\n",
       "      <td>0</td>\n",
       "      <td>-0.680850</td>\n",
       "    </tr>\n",
       "    <tr>\n",
       "      <th>2</th>\n",
       "      <td>180000.0</td>\n",
       "      <td>3.533704</td>\n",
       "      <td>-1.451073</td>\n",
       "      <td>-2.131943</td>\n",
       "      <td>0</td>\n",
       "      <td>0</td>\n",
       "      <td>0</td>\n",
       "      <td>0</td>\n",
       "      <td>0</td>\n",
       "      <td>0</td>\n",
       "      <td>...</td>\n",
       "      <td>0</td>\n",
       "      <td>0</td>\n",
       "      <td>0</td>\n",
       "      <td>0</td>\n",
       "      <td>0</td>\n",
       "      <td>0</td>\n",
       "      <td>0</td>\n",
       "      <td>0</td>\n",
       "      <td>0</td>\n",
       "      <td>-1.293626</td>\n",
       "    </tr>\n",
       "    <tr>\n",
       "      <th>3</th>\n",
       "      <td>604000.0</td>\n",
       "      <td>4.542375</td>\n",
       "      <td>1.149821</td>\n",
       "      <td>0.070676</td>\n",
       "      <td>0</td>\n",
       "      <td>0</td>\n",
       "      <td>0</td>\n",
       "      <td>0</td>\n",
       "      <td>0</td>\n",
       "      <td>0</td>\n",
       "      <td>...</td>\n",
       "      <td>0</td>\n",
       "      <td>0</td>\n",
       "      <td>0</td>\n",
       "      <td>0</td>\n",
       "      <td>0</td>\n",
       "      <td>0</td>\n",
       "      <td>0</td>\n",
       "      <td>0</td>\n",
       "      <td>0</td>\n",
       "      <td>-0.204247</td>\n",
       "    </tr>\n",
       "    <tr>\n",
       "      <th>4</th>\n",
       "      <td>510000.0</td>\n",
       "      <td>4.375956</td>\n",
       "      <td>-0.150626</td>\n",
       "      <td>-0.292732</td>\n",
       "      <td>0</td>\n",
       "      <td>0</td>\n",
       "      <td>0</td>\n",
       "      <td>0</td>\n",
       "      <td>0</td>\n",
       "      <td>0</td>\n",
       "      <td>...</td>\n",
       "      <td>0</td>\n",
       "      <td>0</td>\n",
       "      <td>0</td>\n",
       "      <td>0</td>\n",
       "      <td>0</td>\n",
       "      <td>0</td>\n",
       "      <td>0</td>\n",
       "      <td>0</td>\n",
       "      <td>0</td>\n",
       "      <td>0.544700</td>\n",
       "    </tr>\n",
       "  </tbody>\n",
       "</table>\n",
       "<p>5 rows × 74 columns</p>\n",
       "</div>"
      ],
      "text/plain": [
       "      price  sqft_living  bathrooms  sqft_living  zip_98002  zip_98003  \\\n",
       "0  221900.0     3.994559  -1.451073    -1.125582          0          0   \n",
       "1  538000.0     4.834903   0.174486     0.709463          0          0   \n",
       "2  180000.0     3.533704  -1.451073    -2.131943          0          0   \n",
       "3  604000.0     4.542375   1.149821     0.070676          0          0   \n",
       "4  510000.0     4.375956  -0.150626    -0.292732          0          0   \n",
       "\n",
       "   zip_98004  zip_98005  zip_98006  zip_98007  ...  zip_98148  zip_98155  \\\n",
       "0          0          0          0          0  ...          0          0   \n",
       "1          0          0          0          0  ...          0          0   \n",
       "2          0          0          0          0  ...          0          0   \n",
       "3          0          0          0          0  ...          0          0   \n",
       "4          0          0          0          0  ...          0          0   \n",
       "\n",
       "   zip_98166  zip_98168  zip_98177  zip_98178  zip_98188  zip_98198  \\\n",
       "0          0          0          0          1          0          0   \n",
       "1          0          0          0          0          0          0   \n",
       "2          0          0          0          0          0          0   \n",
       "3          0          0          0          0          0          0   \n",
       "4          0          0          0          0          0          0   \n",
       "\n",
       "   zip_98199  yr_built  \n",
       "0          0 -0.544678  \n",
       "1          0 -0.680850  \n",
       "2          0 -1.293626  \n",
       "3          0 -0.204247  \n",
       "4          0  0.544700  \n",
       "\n",
       "[5 rows x 74 columns]"
      ]
     },
     "execution_count": 124,
     "metadata": {},
     "output_type": "execute_result"
    }
   ],
   "source": [
    "model_b = pd.concat([price_b, scaled_bed_b, scaled_bath_b, scaled_sqft, zip_dummies, scaled_yr_b], axis=1)\n",
    "model_b.head()"
   ]
  },
  {
   "cell_type": "markdown",
   "metadata": {},
   "source": [
    "### Split Data into Training and Test Set"
   ]
  },
  {
   "cell_type": "code",
   "execution_count": 125,
   "metadata": {},
   "outputs": [
    {
     "data": {
      "text/html": [
       "<div>\n",
       "<style scoped>\n",
       "    .dataframe tbody tr th:only-of-type {\n",
       "        vertical-align: middle;\n",
       "    }\n",
       "\n",
       "    .dataframe tbody tr th {\n",
       "        vertical-align: top;\n",
       "    }\n",
       "\n",
       "    .dataframe thead th {\n",
       "        text-align: right;\n",
       "    }\n",
       "</style>\n",
       "<table border=\"1\" class=\"dataframe\">\n",
       "  <thead>\n",
       "    <tr style=\"text-align: right;\">\n",
       "      <th></th>\n",
       "      <th>sqft_living</th>\n",
       "      <th>bathrooms</th>\n",
       "      <th>sqft_living</th>\n",
       "      <th>zip_98002</th>\n",
       "      <th>zip_98003</th>\n",
       "      <th>zip_98004</th>\n",
       "      <th>zip_98005</th>\n",
       "      <th>zip_98006</th>\n",
       "      <th>zip_98007</th>\n",
       "      <th>zip_98008</th>\n",
       "      <th>...</th>\n",
       "      <th>zip_98148</th>\n",
       "      <th>zip_98155</th>\n",
       "      <th>zip_98166</th>\n",
       "      <th>zip_98168</th>\n",
       "      <th>zip_98177</th>\n",
       "      <th>zip_98178</th>\n",
       "      <th>zip_98188</th>\n",
       "      <th>zip_98198</th>\n",
       "      <th>zip_98199</th>\n",
       "      <th>yr_built</th>\n",
       "    </tr>\n",
       "  </thead>\n",
       "  <tbody>\n",
       "    <tr>\n",
       "      <th>6243</th>\n",
       "      <td>4.209536</td>\n",
       "      <td>-0.150626</td>\n",
       "      <td>-0.656140</td>\n",
       "      <td>0</td>\n",
       "      <td>0</td>\n",
       "      <td>0</td>\n",
       "      <td>0</td>\n",
       "      <td>0</td>\n",
       "      <td>0</td>\n",
       "      <td>0</td>\n",
       "      <td>...</td>\n",
       "      <td>0</td>\n",
       "      <td>0</td>\n",
       "      <td>0</td>\n",
       "      <td>0</td>\n",
       "      <td>0</td>\n",
       "      <td>0</td>\n",
       "      <td>0</td>\n",
       "      <td>0</td>\n",
       "      <td>0</td>\n",
       "      <td>0.034054</td>\n",
       "    </tr>\n",
       "    <tr>\n",
       "      <th>8986</th>\n",
       "      <td>4.202013</td>\n",
       "      <td>-0.475738</td>\n",
       "      <td>-0.672568</td>\n",
       "      <td>0</td>\n",
       "      <td>0</td>\n",
       "      <td>0</td>\n",
       "      <td>0</td>\n",
       "      <td>0</td>\n",
       "      <td>0</td>\n",
       "      <td>0</td>\n",
       "      <td>...</td>\n",
       "      <td>0</td>\n",
       "      <td>0</td>\n",
       "      <td>0</td>\n",
       "      <td>0</td>\n",
       "      <td>0</td>\n",
       "      <td>0</td>\n",
       "      <td>0</td>\n",
       "      <td>0</td>\n",
       "      <td>0</td>\n",
       "      <td>0.306399</td>\n",
       "    </tr>\n",
       "    <tr>\n",
       "      <th>9419</th>\n",
       "      <td>5.044264</td>\n",
       "      <td>0.824709</td>\n",
       "      <td>1.166643</td>\n",
       "      <td>0</td>\n",
       "      <td>0</td>\n",
       "      <td>0</td>\n",
       "      <td>0</td>\n",
       "      <td>0</td>\n",
       "      <td>0</td>\n",
       "      <td>0</td>\n",
       "      <td>...</td>\n",
       "      <td>0</td>\n",
       "      <td>0</td>\n",
       "      <td>0</td>\n",
       "      <td>0</td>\n",
       "      <td>0</td>\n",
       "      <td>0</td>\n",
       "      <td>0</td>\n",
       "      <td>0</td>\n",
       "      <td>0</td>\n",
       "      <td>1.327691</td>\n",
       "    </tr>\n",
       "    <tr>\n",
       "      <th>10155</th>\n",
       "      <td>4.596097</td>\n",
       "      <td>0.499597</td>\n",
       "      <td>0.187988</td>\n",
       "      <td>0</td>\n",
       "      <td>0</td>\n",
       "      <td>0</td>\n",
       "      <td>0</td>\n",
       "      <td>0</td>\n",
       "      <td>0</td>\n",
       "      <td>0</td>\n",
       "      <td>...</td>\n",
       "      <td>0</td>\n",
       "      <td>0</td>\n",
       "      <td>0</td>\n",
       "      <td>0</td>\n",
       "      <td>0</td>\n",
       "      <td>0</td>\n",
       "      <td>0</td>\n",
       "      <td>0</td>\n",
       "      <td>0</td>\n",
       "      <td>0.102140</td>\n",
       "    </tr>\n",
       "    <tr>\n",
       "      <th>10436</th>\n",
       "      <td>4.805089</td>\n",
       "      <td>-0.150626</td>\n",
       "      <td>0.644360</td>\n",
       "      <td>0</td>\n",
       "      <td>0</td>\n",
       "      <td>0</td>\n",
       "      <td>0</td>\n",
       "      <td>0</td>\n",
       "      <td>0</td>\n",
       "      <td>0</td>\n",
       "      <td>...</td>\n",
       "      <td>0</td>\n",
       "      <td>0</td>\n",
       "      <td>0</td>\n",
       "      <td>0</td>\n",
       "      <td>0</td>\n",
       "      <td>0</td>\n",
       "      <td>0</td>\n",
       "      <td>0</td>\n",
       "      <td>0</td>\n",
       "      <td>-1.668099</td>\n",
       "    </tr>\n",
       "  </tbody>\n",
       "</table>\n",
       "<p>5 rows × 73 columns</p>\n",
       "</div>"
      ],
      "text/plain": [
       "       sqft_living  bathrooms  sqft_living  zip_98002  zip_98003  zip_98004  \\\n",
       "6243      4.209536  -0.150626    -0.656140          0          0          0   \n",
       "8986      4.202013  -0.475738    -0.672568          0          0          0   \n",
       "9419      5.044264   0.824709     1.166643          0          0          0   \n",
       "10155     4.596097   0.499597     0.187988          0          0          0   \n",
       "10436     4.805089  -0.150626     0.644360          0          0          0   \n",
       "\n",
       "       zip_98005  zip_98006  zip_98007  zip_98008  ...  zip_98148  zip_98155  \\\n",
       "6243           0          0          0          0  ...          0          0   \n",
       "8986           0          0          0          0  ...          0          0   \n",
       "9419           0          0          0          0  ...          0          0   \n",
       "10155          0          0          0          0  ...          0          0   \n",
       "10436          0          0          0          0  ...          0          0   \n",
       "\n",
       "       zip_98166  zip_98168  zip_98177  zip_98178  zip_98188  zip_98198  \\\n",
       "6243           0          0          0          0          0          0   \n",
       "8986           0          0          0          0          0          0   \n",
       "9419           0          0          0          0          0          0   \n",
       "10155          0          0          0          0          0          0   \n",
       "10436          0          0          0          0          0          0   \n",
       "\n",
       "       zip_98199  yr_built  \n",
       "6243           0  0.034054  \n",
       "8986           0  0.306399  \n",
       "9419           0  1.327691  \n",
       "10155          0  0.102140  \n",
       "10436          0 -1.668099  \n",
       "\n",
       "[5 rows x 73 columns]"
      ]
     },
     "execution_count": 125,
     "metadata": {},
     "output_type": "execute_result"
    }
   ],
   "source": [
    "target_b = model_b['price']\n",
    "features_b = model_b.drop(['price'], axis=1)\n",
    "\n",
    "X_train_b, X_test_b, y_train_b, y_test_b = train_test_split(features_b,target_b,test_size=0.2,random_state=42)\n",
    "X_train_b.head()"
   ]
  },
  {
   "cell_type": "code",
   "execution_count": 126,
   "metadata": {},
   "outputs": [],
   "source": [
    "outcome_b = 'y_train_b'\n",
    "predictors_b = X_train_b\n",
    "pred_sum_b = '+'.join(predictors_b.columns)\n",
    "formula_b = outcome_b + '~' + pred_sum_b"
   ]
  },
  {
   "cell_type": "code",
   "execution_count": 127,
   "metadata": {},
   "outputs": [
    {
     "data": {
      "text/html": [
       "<div>\n",
       "<style scoped>\n",
       "    .dataframe tbody tr th:only-of-type {\n",
       "        vertical-align: middle;\n",
       "    }\n",
       "\n",
       "    .dataframe tbody tr th {\n",
       "        vertical-align: top;\n",
       "    }\n",
       "\n",
       "    .dataframe thead th {\n",
       "        text-align: right;\n",
       "    }\n",
       "</style>\n",
       "<table border=\"1\" class=\"dataframe\">\n",
       "  <thead>\n",
       "    <tr style=\"text-align: right;\">\n",
       "      <th></th>\n",
       "      <th>sqft_living</th>\n",
       "      <th>bathrooms</th>\n",
       "      <th>sqft_living</th>\n",
       "      <th>zip_98002</th>\n",
       "      <th>zip_98003</th>\n",
       "      <th>zip_98004</th>\n",
       "      <th>zip_98005</th>\n",
       "      <th>zip_98006</th>\n",
       "      <th>zip_98007</th>\n",
       "      <th>zip_98008</th>\n",
       "      <th>...</th>\n",
       "      <th>zip_98155</th>\n",
       "      <th>zip_98166</th>\n",
       "      <th>zip_98168</th>\n",
       "      <th>zip_98177</th>\n",
       "      <th>zip_98178</th>\n",
       "      <th>zip_98188</th>\n",
       "      <th>zip_98198</th>\n",
       "      <th>zip_98199</th>\n",
       "      <th>yr_built</th>\n",
       "      <th>price</th>\n",
       "    </tr>\n",
       "  </thead>\n",
       "  <tbody>\n",
       "    <tr>\n",
       "      <th>6243</th>\n",
       "      <td>4.209536</td>\n",
       "      <td>-0.150626</td>\n",
       "      <td>-0.656140</td>\n",
       "      <td>0</td>\n",
       "      <td>0</td>\n",
       "      <td>0</td>\n",
       "      <td>0</td>\n",
       "      <td>0</td>\n",
       "      <td>0</td>\n",
       "      <td>0</td>\n",
       "      <td>...</td>\n",
       "      <td>0</td>\n",
       "      <td>0</td>\n",
       "      <td>0</td>\n",
       "      <td>0</td>\n",
       "      <td>0</td>\n",
       "      <td>0</td>\n",
       "      <td>0</td>\n",
       "      <td>0</td>\n",
       "      <td>0.034054</td>\n",
       "      <td>332500.0</td>\n",
       "    </tr>\n",
       "    <tr>\n",
       "      <th>8986</th>\n",
       "      <td>4.202013</td>\n",
       "      <td>-0.475738</td>\n",
       "      <td>-0.672568</td>\n",
       "      <td>0</td>\n",
       "      <td>0</td>\n",
       "      <td>0</td>\n",
       "      <td>0</td>\n",
       "      <td>0</td>\n",
       "      <td>0</td>\n",
       "      <td>0</td>\n",
       "      <td>...</td>\n",
       "      <td>0</td>\n",
       "      <td>0</td>\n",
       "      <td>0</td>\n",
       "      <td>0</td>\n",
       "      <td>0</td>\n",
       "      <td>0</td>\n",
       "      <td>0</td>\n",
       "      <td>0</td>\n",
       "      <td>0.306399</td>\n",
       "      <td>390000.0</td>\n",
       "    </tr>\n",
       "    <tr>\n",
       "      <th>9419</th>\n",
       "      <td>5.044264</td>\n",
       "      <td>0.824709</td>\n",
       "      <td>1.166643</td>\n",
       "      <td>0</td>\n",
       "      <td>0</td>\n",
       "      <td>0</td>\n",
       "      <td>0</td>\n",
       "      <td>0</td>\n",
       "      <td>0</td>\n",
       "      <td>0</td>\n",
       "      <td>...</td>\n",
       "      <td>0</td>\n",
       "      <td>0</td>\n",
       "      <td>0</td>\n",
       "      <td>0</td>\n",
       "      <td>0</td>\n",
       "      <td>0</td>\n",
       "      <td>0</td>\n",
       "      <td>0</td>\n",
       "      <td>1.327691</td>\n",
       "      <td>800000.0</td>\n",
       "    </tr>\n",
       "    <tr>\n",
       "      <th>10155</th>\n",
       "      <td>4.596097</td>\n",
       "      <td>0.499597</td>\n",
       "      <td>0.187988</td>\n",
       "      <td>0</td>\n",
       "      <td>0</td>\n",
       "      <td>0</td>\n",
       "      <td>0</td>\n",
       "      <td>0</td>\n",
       "      <td>0</td>\n",
       "      <td>0</td>\n",
       "      <td>...</td>\n",
       "      <td>0</td>\n",
       "      <td>0</td>\n",
       "      <td>0</td>\n",
       "      <td>0</td>\n",
       "      <td>0</td>\n",
       "      <td>0</td>\n",
       "      <td>0</td>\n",
       "      <td>0</td>\n",
       "      <td>0.102140</td>\n",
       "      <td>462000.0</td>\n",
       "    </tr>\n",
       "    <tr>\n",
       "      <th>10436</th>\n",
       "      <td>4.805089</td>\n",
       "      <td>-0.150626</td>\n",
       "      <td>0.644360</td>\n",
       "      <td>0</td>\n",
       "      <td>0</td>\n",
       "      <td>0</td>\n",
       "      <td>0</td>\n",
       "      <td>0</td>\n",
       "      <td>0</td>\n",
       "      <td>0</td>\n",
       "      <td>...</td>\n",
       "      <td>0</td>\n",
       "      <td>0</td>\n",
       "      <td>0</td>\n",
       "      <td>0</td>\n",
       "      <td>0</td>\n",
       "      <td>0</td>\n",
       "      <td>0</td>\n",
       "      <td>0</td>\n",
       "      <td>-1.668099</td>\n",
       "      <td>695000.0</td>\n",
       "    </tr>\n",
       "  </tbody>\n",
       "</table>\n",
       "<p>5 rows × 74 columns</p>\n",
       "</div>"
      ],
      "text/plain": [
       "       sqft_living  bathrooms  sqft_living  zip_98002  zip_98003  zip_98004  \\\n",
       "6243      4.209536  -0.150626    -0.656140          0          0          0   \n",
       "8986      4.202013  -0.475738    -0.672568          0          0          0   \n",
       "9419      5.044264   0.824709     1.166643          0          0          0   \n",
       "10155     4.596097   0.499597     0.187988          0          0          0   \n",
       "10436     4.805089  -0.150626     0.644360          0          0          0   \n",
       "\n",
       "       zip_98005  zip_98006  zip_98007  zip_98008  ...  zip_98155  zip_98166  \\\n",
       "6243           0          0          0          0  ...          0          0   \n",
       "8986           0          0          0          0  ...          0          0   \n",
       "9419           0          0          0          0  ...          0          0   \n",
       "10155          0          0          0          0  ...          0          0   \n",
       "10436          0          0          0          0  ...          0          0   \n",
       "\n",
       "       zip_98168  zip_98177  zip_98178  zip_98188  zip_98198  zip_98199  \\\n",
       "6243           0          0          0          0          0          0   \n",
       "8986           0          0          0          0          0          0   \n",
       "9419           0          0          0          0          0          0   \n",
       "10155          0          0          0          0          0          0   \n",
       "10436          0          0          0          0          0          0   \n",
       "\n",
       "       yr_built     price  \n",
       "6243   0.034054  332500.0  \n",
       "8986   0.306399  390000.0  \n",
       "9419   1.327691  800000.0  \n",
       "10155  0.102140  462000.0  \n",
       "10436 -1.668099  695000.0  \n",
       "\n",
       "[5 rows x 74 columns]"
      ]
     },
     "execution_count": 127,
     "metadata": {},
     "output_type": "execute_result"
    }
   ],
   "source": [
    "data_b = pd.concat([X_train_b,y_train_b], axis=1)\n",
    "data_b.head()"
   ]
  },
  {
   "cell_type": "code",
   "execution_count": 128,
   "metadata": {},
   "outputs": [
    {
     "data": {
      "text/html": [
       "<table class=\"simpletable\">\n",
       "<caption>OLS Regression Results</caption>\n",
       "<tr>\n",
       "  <th>Dep. Variable:</th>        <td>y_train_b</td>    <th>  R-squared:         </th>  <td>   0.661</td>  \n",
       "</tr>\n",
       "<tr>\n",
       "  <th>Model:</th>                   <td>OLS</td>       <th>  Adj. R-squared:    </th>  <td>   0.659</td>  \n",
       "</tr>\n",
       "<tr>\n",
       "  <th>Method:</th>             <td>Least Squares</td>  <th>  F-statistic:       </th>  <td>   465.2</td>  \n",
       "</tr>\n",
       "<tr>\n",
       "  <th>Date:</th>             <td>Mon, 22 Mar 2021</td> <th>  Prob (F-statistic):</th>   <td>  0.00</td>   \n",
       "</tr>\n",
       "<tr>\n",
       "  <th>Time:</th>                 <td>17:39:56</td>     <th>  Log-Likelihood:    </th> <td>-2.3664e+05</td>\n",
       "</tr>\n",
       "<tr>\n",
       "  <th>No. Observations:</th>      <td> 17277</td>      <th>  AIC:               </th>  <td>4.734e+05</td> \n",
       "</tr>\n",
       "<tr>\n",
       "  <th>Df Residuals:</th>          <td> 17204</td>      <th>  BIC:               </th>  <td>4.740e+05</td> \n",
       "</tr>\n",
       "<tr>\n",
       "  <th>Df Model:</th>              <td>    72</td>      <th>                     </th>      <td> </td>     \n",
       "</tr>\n",
       "<tr>\n",
       "  <th>Covariance Type:</th>      <td>nonrobust</td>    <th>                     </th>      <td> </td>     \n",
       "</tr>\n",
       "</table>\n",
       "<table class=\"simpletable\">\n",
       "<tr>\n",
       "         <td></td>           <th>coef</th>     <th>std err</th>      <th>t</th>      <th>P>|t|</th>  <th>[0.025</th>    <th>0.975]</th>  \n",
       "</tr>\n",
       "<tr>\n",
       "  <th>Intercept</th>      <td> 2638.8401</td> <td>  768.189</td> <td>    3.435</td> <td> 0.001</td> <td> 1133.111</td> <td> 4144.569</td>\n",
       "</tr>\n",
       "<tr>\n",
       "  <th>sqft_living[0]</th> <td> 6.992e+04</td> <td> 2685.779</td> <td>   26.033</td> <td> 0.000</td> <td> 6.47e+04</td> <td> 7.52e+04</td>\n",
       "</tr>\n",
       "<tr>\n",
       "  <th>sqft_living[1]</th> <td> 1.267e+05</td> <td> 2958.108</td> <td>   42.828</td> <td> 0.000</td> <td> 1.21e+05</td> <td> 1.32e+05</td>\n",
       "</tr>\n",
       "<tr>\n",
       "  <th>bathrooms</th>      <td>  6.44e+04</td> <td> 2869.838</td> <td>   22.440</td> <td> 0.000</td> <td> 5.88e+04</td> <td>    7e+04</td>\n",
       "</tr>\n",
       "<tr>\n",
       "  <th>zip_98002</th>      <td> 1.312e+04</td> <td> 2.17e+04</td> <td>    0.604</td> <td> 0.546</td> <td>-2.95e+04</td> <td> 5.57e+04</td>\n",
       "</tr>\n",
       "<tr>\n",
       "  <th>zip_98003</th>      <td> 1.449e+04</td> <td> 1.94e+04</td> <td>    0.748</td> <td> 0.454</td> <td>-2.35e+04</td> <td> 5.24e+04</td>\n",
       "</tr>\n",
       "<tr>\n",
       "  <th>zip_98004</th>      <td>  8.47e+05</td> <td> 1.88e+04</td> <td>   45.034</td> <td> 0.000</td> <td>  8.1e+05</td> <td> 8.84e+05</td>\n",
       "</tr>\n",
       "<tr>\n",
       "  <th>zip_98005</th>      <td> 3.756e+05</td> <td> 2.25e+04</td> <td>   16.661</td> <td> 0.000</td> <td> 3.31e+05</td> <td>  4.2e+05</td>\n",
       "</tr>\n",
       "<tr>\n",
       "  <th>zip_98006</th>      <td> 3.769e+05</td> <td>  1.7e+04</td> <td>   22.223</td> <td> 0.000</td> <td> 3.44e+05</td> <td>  4.1e+05</td>\n",
       "</tr>\n",
       "<tr>\n",
       "  <th>zip_98007</th>      <td> 2.612e+05</td> <td>  2.4e+04</td> <td>   10.886</td> <td> 0.000</td> <td> 2.14e+05</td> <td> 3.08e+05</td>\n",
       "</tr>\n",
       "<tr>\n",
       "  <th>zip_98008</th>      <td> 3.124e+05</td> <td> 1.91e+04</td> <td>   16.325</td> <td> 0.000</td> <td> 2.75e+05</td> <td>  3.5e+05</td>\n",
       "</tr>\n",
       "<tr>\n",
       "  <th>zip_98010</th>      <td> 1.195e+05</td> <td> 2.68e+04</td> <td>    4.467</td> <td> 0.000</td> <td> 6.71e+04</td> <td> 1.72e+05</td>\n",
       "</tr>\n",
       "<tr>\n",
       "  <th>zip_98011</th>      <td> 1.264e+05</td> <td> 2.17e+04</td> <td>    5.831</td> <td> 0.000</td> <td> 8.39e+04</td> <td> 1.69e+05</td>\n",
       "</tr>\n",
       "<tr>\n",
       "  <th>zip_98014</th>      <td> 1.511e+05</td> <td> 2.44e+04</td> <td>    6.181</td> <td> 0.000</td> <td> 1.03e+05</td> <td> 1.99e+05</td>\n",
       "</tr>\n",
       "<tr>\n",
       "  <th>zip_98019</th>      <td> 8.815e+04</td> <td> 2.18e+04</td> <td>    4.049</td> <td> 0.000</td> <td> 4.55e+04</td> <td> 1.31e+05</td>\n",
       "</tr>\n",
       "<tr>\n",
       "  <th>zip_98022</th>      <td> 6.069e+04</td> <td> 2.04e+04</td> <td>    2.979</td> <td> 0.003</td> <td> 2.08e+04</td> <td> 1.01e+05</td>\n",
       "</tr>\n",
       "<tr>\n",
       "  <th>zip_98023</th>      <td>-8804.8296</td> <td> 1.66e+04</td> <td>   -0.529</td> <td> 0.597</td> <td>-4.14e+04</td> <td> 2.38e+04</td>\n",
       "</tr>\n",
       "<tr>\n",
       "  <th>zip_98024</th>      <td> 2.323e+05</td> <td> 2.88e+04</td> <td>    8.075</td> <td> 0.000</td> <td> 1.76e+05</td> <td> 2.89e+05</td>\n",
       "</tr>\n",
       "<tr>\n",
       "  <th>zip_98027</th>      <td>  2.11e+05</td> <td> 1.73e+04</td> <td>   12.181</td> <td> 0.000</td> <td> 1.77e+05</td> <td> 2.45e+05</td>\n",
       "</tr>\n",
       "<tr>\n",
       "  <th>zip_98028</th>      <td> 1.252e+05</td> <td> 1.93e+04</td> <td>    6.498</td> <td> 0.000</td> <td> 8.74e+04</td> <td> 1.63e+05</td>\n",
       "</tr>\n",
       "<tr>\n",
       "  <th>zip_98029</th>      <td> 2.391e+05</td> <td> 1.87e+04</td> <td>   12.807</td> <td> 0.000</td> <td> 2.03e+05</td> <td> 2.76e+05</td>\n",
       "</tr>\n",
       "<tr>\n",
       "  <th>zip_98030</th>      <td>-5237.8163</td> <td>    2e+04</td> <td>   -0.262</td> <td> 0.793</td> <td>-4.44e+04</td> <td> 3.39e+04</td>\n",
       "</tr>\n",
       "<tr>\n",
       "  <th>zip_98031</th>      <td> 2288.2911</td> <td> 1.93e+04</td> <td>    0.119</td> <td> 0.905</td> <td>-3.55e+04</td> <td> 4.01e+04</td>\n",
       "</tr>\n",
       "<tr>\n",
       "  <th>zip_98032</th>      <td> 1.626e+04</td> <td> 2.51e+04</td> <td>    0.648</td> <td> 0.517</td> <td>-3.29e+04</td> <td> 6.54e+04</td>\n",
       "</tr>\n",
       "<tr>\n",
       "  <th>zip_98033</th>      <td> 4.173e+05</td> <td> 1.74e+04</td> <td>   23.928</td> <td> 0.000</td> <td> 3.83e+05</td> <td> 4.51e+05</td>\n",
       "</tr>\n",
       "<tr>\n",
       "  <th>zip_98034</th>      <td> 2.236e+05</td> <td> 1.63e+04</td> <td>   13.712</td> <td> 0.000</td> <td> 1.92e+05</td> <td> 2.56e+05</td>\n",
       "</tr>\n",
       "<tr>\n",
       "  <th>zip_98038</th>      <td>  2.38e+04</td> <td> 1.63e+04</td> <td>    1.461</td> <td> 0.144</td> <td>-8130.382</td> <td> 5.57e+04</td>\n",
       "</tr>\n",
       "<tr>\n",
       "  <th>zip_98039</th>      <td> 1.595e+06</td> <td> 3.51e+04</td> <td>   45.423</td> <td> 0.000</td> <td> 1.53e+06</td> <td> 1.66e+06</td>\n",
       "</tr>\n",
       "<tr>\n",
       "  <th>zip_98040</th>      <td> 6.871e+05</td> <td> 1.94e+04</td> <td>   35.421</td> <td> 0.000</td> <td> 6.49e+05</td> <td> 7.25e+05</td>\n",
       "</tr>\n",
       "<tr>\n",
       "  <th>zip_98042</th>      <td> 2.418e+04</td> <td> 1.65e+04</td> <td>    1.469</td> <td> 0.142</td> <td>-8072.578</td> <td> 5.64e+04</td>\n",
       "</tr>\n",
       "<tr>\n",
       "  <th>zip_98045</th>      <td> 1.388e+05</td> <td> 2.02e+04</td> <td>    6.860</td> <td> 0.000</td> <td> 9.92e+04</td> <td> 1.79e+05</td>\n",
       "</tr>\n",
       "<tr>\n",
       "  <th>zip_98052</th>      <td> 2.563e+05</td> <td> 1.63e+04</td> <td>   15.727</td> <td> 0.000</td> <td> 2.24e+05</td> <td> 2.88e+05</td>\n",
       "</tr>\n",
       "<tr>\n",
       "  <th>zip_98053</th>      <td> 2.752e+05</td> <td> 1.78e+04</td> <td>   15.499</td> <td> 0.000</td> <td>  2.4e+05</td> <td>  3.1e+05</td>\n",
       "</tr>\n",
       "<tr>\n",
       "  <th>zip_98055</th>      <td> 4.405e+04</td> <td> 1.93e+04</td> <td>    2.287</td> <td> 0.022</td> <td> 6298.024</td> <td> 8.18e+04</td>\n",
       "</tr>\n",
       "<tr>\n",
       "  <th>zip_98056</th>      <td> 1.255e+05</td> <td> 1.75e+04</td> <td>    7.157</td> <td> 0.000</td> <td> 9.12e+04</td> <td>  1.6e+05</td>\n",
       "</tr>\n",
       "<tr>\n",
       "  <th>zip_98058</th>      <td> 3.906e+04</td> <td> 1.72e+04</td> <td>    2.271</td> <td> 0.023</td> <td> 5348.606</td> <td> 7.28e+04</td>\n",
       "</tr>\n",
       "<tr>\n",
       "  <th>zip_98059</th>      <td> 1.122e+05</td> <td>  1.7e+04</td> <td>    6.588</td> <td> 0.000</td> <td> 7.88e+04</td> <td> 1.46e+05</td>\n",
       "</tr>\n",
       "<tr>\n",
       "  <th>zip_98065</th>      <td> 1.123e+05</td> <td> 1.89e+04</td> <td>    5.950</td> <td> 0.000</td> <td> 7.53e+04</td> <td> 1.49e+05</td>\n",
       "</tr>\n",
       "<tr>\n",
       "  <th>zip_98070</th>      <td> 2.164e+05</td> <td>  2.6e+04</td> <td>    8.331</td> <td> 0.000</td> <td> 1.65e+05</td> <td> 2.67e+05</td>\n",
       "</tr>\n",
       "<tr>\n",
       "  <th>zip_98072</th>      <td> 1.894e+05</td> <td> 1.93e+04</td> <td>    9.810</td> <td> 0.000</td> <td> 1.52e+05</td> <td> 2.27e+05</td>\n",
       "</tr>\n",
       "<tr>\n",
       "  <th>zip_98074</th>      <td> 2.575e+05</td> <td> 1.73e+04</td> <td>   14.874</td> <td> 0.000</td> <td> 2.24e+05</td> <td> 2.91e+05</td>\n",
       "</tr>\n",
       "<tr>\n",
       "  <th>zip_98075</th>      <td> 2.958e+05</td> <td>  1.8e+04</td> <td>   16.456</td> <td> 0.000</td> <td> 2.61e+05</td> <td> 3.31e+05</td>\n",
       "</tr>\n",
       "<tr>\n",
       "  <th>zip_98077</th>      <td> 2.281e+05</td> <td> 2.15e+04</td> <td>   10.611</td> <td> 0.000</td> <td> 1.86e+05</td> <td>  2.7e+05</td>\n",
       "</tr>\n",
       "<tr>\n",
       "  <th>zip_98092</th>      <td>-2620.3603</td> <td> 1.83e+04</td> <td>   -0.143</td> <td> 0.886</td> <td>-3.86e+04</td> <td> 3.33e+04</td>\n",
       "</tr>\n",
       "<tr>\n",
       "  <th>zip_98102</th>      <td> 5.529e+05</td> <td> 2.69e+04</td> <td>   20.547</td> <td> 0.000</td> <td>    5e+05</td> <td> 6.06e+05</td>\n",
       "</tr>\n",
       "<tr>\n",
       "  <th>zip_98103</th>      <td>  3.41e+05</td> <td> 1.62e+04</td> <td>   21.041</td> <td> 0.000</td> <td> 3.09e+05</td> <td> 3.73e+05</td>\n",
       "</tr>\n",
       "<tr>\n",
       "  <th>zip_98105</th>      <td> 5.085e+05</td> <td> 2.05e+04</td> <td>   24.746</td> <td> 0.000</td> <td> 4.68e+05</td> <td> 5.49e+05</td>\n",
       "</tr>\n",
       "<tr>\n",
       "  <th>zip_98106</th>      <td>  1.43e+05</td> <td> 1.85e+04</td> <td>    7.740</td> <td> 0.000</td> <td> 1.07e+05</td> <td> 1.79e+05</td>\n",
       "</tr>\n",
       "<tr>\n",
       "  <th>zip_98107</th>      <td> 3.377e+05</td> <td> 1.98e+04</td> <td>   17.091</td> <td> 0.000</td> <td> 2.99e+05</td> <td> 3.76e+05</td>\n",
       "</tr>\n",
       "<tr>\n",
       "  <th>zip_98108</th>      <td> 1.052e+05</td> <td> 2.14e+04</td> <td>    4.914</td> <td> 0.000</td> <td> 6.33e+04</td> <td> 1.47e+05</td>\n",
       "</tr>\n",
       "<tr>\n",
       "  <th>zip_98109</th>      <td> 5.484e+05</td> <td> 2.66e+04</td> <td>   20.643</td> <td> 0.000</td> <td> 4.96e+05</td> <td>    6e+05</td>\n",
       "</tr>\n",
       "<tr>\n",
       "  <th>zip_98112</th>      <td> 6.879e+05</td> <td> 1.95e+04</td> <td>   35.217</td> <td> 0.000</td> <td>  6.5e+05</td> <td> 7.26e+05</td>\n",
       "</tr>\n",
       "<tr>\n",
       "  <th>zip_98115</th>      <td> 3.396e+05</td> <td> 1.64e+04</td> <td>   20.707</td> <td> 0.000</td> <td> 3.07e+05</td> <td> 3.72e+05</td>\n",
       "</tr>\n",
       "<tr>\n",
       "  <th>zip_98116</th>      <td> 3.343e+05</td> <td> 1.86e+04</td> <td>   17.965</td> <td> 0.000</td> <td> 2.98e+05</td> <td> 3.71e+05</td>\n",
       "</tr>\n",
       "<tr>\n",
       "  <th>zip_98117</th>      <td> 3.366e+05</td> <td> 1.66e+04</td> <td>   20.311</td> <td> 0.000</td> <td> 3.04e+05</td> <td> 3.69e+05</td>\n",
       "</tr>\n",
       "<tr>\n",
       "  <th>zip_98118</th>      <td>  1.91e+05</td> <td> 1.69e+04</td> <td>   11.278</td> <td> 0.000</td> <td> 1.58e+05</td> <td> 2.24e+05</td>\n",
       "</tr>\n",
       "<tr>\n",
       "  <th>zip_98119</th>      <td> 5.162e+05</td> <td> 2.21e+04</td> <td>   23.410</td> <td> 0.000</td> <td> 4.73e+05</td> <td> 5.59e+05</td>\n",
       "</tr>\n",
       "<tr>\n",
       "  <th>zip_98122</th>      <td> 3.428e+05</td> <td> 1.93e+04</td> <td>   17.778</td> <td> 0.000</td> <td> 3.05e+05</td> <td> 3.81e+05</td>\n",
       "</tr>\n",
       "<tr>\n",
       "  <th>zip_98125</th>      <td> 2.259e+05</td> <td> 1.74e+04</td> <td>   12.961</td> <td> 0.000</td> <td> 1.92e+05</td> <td>  2.6e+05</td>\n",
       "</tr>\n",
       "<tr>\n",
       "  <th>zip_98126</th>      <td> 2.316e+05</td> <td> 1.84e+04</td> <td>   12.555</td> <td> 0.000</td> <td> 1.95e+05</td> <td> 2.68e+05</td>\n",
       "</tr>\n",
       "<tr>\n",
       "  <th>zip_98133</th>      <td> 1.694e+05</td> <td> 1.67e+04</td> <td>   10.119</td> <td> 0.000</td> <td> 1.37e+05</td> <td> 2.02e+05</td>\n",
       "</tr>\n",
       "<tr>\n",
       "  <th>zip_98136</th>      <td>  3.16e+05</td> <td> 1.98e+04</td> <td>   15.922</td> <td> 0.000</td> <td> 2.77e+05</td> <td> 3.55e+05</td>\n",
       "</tr>\n",
       "<tr>\n",
       "  <th>zip_98144</th>      <td> 2.956e+05</td> <td> 1.85e+04</td> <td>   16.015</td> <td> 0.000</td> <td> 2.59e+05</td> <td> 3.32e+05</td>\n",
       "</tr>\n",
       "<tr>\n",
       "  <th>zip_98146</th>      <td> 1.523e+05</td> <td> 1.94e+04</td> <td>    7.858</td> <td> 0.000</td> <td> 1.14e+05</td> <td>  1.9e+05</td>\n",
       "</tr>\n",
       "<tr>\n",
       "  <th>zip_98148</th>      <td>  6.91e+04</td> <td> 3.34e+04</td> <td>    2.072</td> <td> 0.038</td> <td> 3721.232</td> <td> 1.34e+05</td>\n",
       "</tr>\n",
       "<tr>\n",
       "  <th>zip_98155</th>      <td> 1.675e+05</td> <td> 1.73e+04</td> <td>    9.694</td> <td> 0.000</td> <td> 1.34e+05</td> <td> 2.01e+05</td>\n",
       "</tr>\n",
       "<tr>\n",
       "  <th>zip_98166</th>      <td> 1.449e+05</td> <td> 1.96e+04</td> <td>    7.388</td> <td> 0.000</td> <td> 1.06e+05</td> <td> 1.83e+05</td>\n",
       "</tr>\n",
       "<tr>\n",
       "  <th>zip_98168</th>      <td> 8.516e+04</td> <td> 1.97e+04</td> <td>    4.314</td> <td> 0.000</td> <td> 4.65e+04</td> <td> 1.24e+05</td>\n",
       "</tr>\n",
       "<tr>\n",
       "  <th>zip_98177</th>      <td> 3.032e+05</td> <td> 1.99e+04</td> <td>   15.207</td> <td> 0.000</td> <td> 2.64e+05</td> <td> 3.42e+05</td>\n",
       "</tr>\n",
       "<tr>\n",
       "  <th>zip_98178</th>      <td> 7.245e+04</td> <td> 1.95e+04</td> <td>    3.714</td> <td> 0.000</td> <td> 3.42e+04</td> <td> 1.11e+05</td>\n",
       "</tr>\n",
       "<tr>\n",
       "  <th>zip_98188</th>      <td> 3.427e+04</td> <td> 2.41e+04</td> <td>    1.419</td> <td> 0.156</td> <td>-1.31e+04</td> <td> 8.16e+04</td>\n",
       "</tr>\n",
       "<tr>\n",
       "  <th>zip_98198</th>      <td> 6.245e+04</td> <td> 1.93e+04</td> <td>    3.230</td> <td> 0.001</td> <td> 2.45e+04</td> <td>    1e+05</td>\n",
       "</tr>\n",
       "<tr>\n",
       "  <th>zip_98199</th>      <td> 4.437e+05</td> <td> 1.86e+04</td> <td>   23.849</td> <td> 0.000</td> <td> 4.07e+05</td> <td>  4.8e+05</td>\n",
       "</tr>\n",
       "<tr>\n",
       "  <th>yr_built</th>       <td>-3.222e+04</td> <td> 2225.408</td> <td>  -14.479</td> <td> 0.000</td> <td>-3.66e+04</td> <td>-2.79e+04</td>\n",
       "</tr>\n",
       "</table>\n",
       "<table class=\"simpletable\">\n",
       "<tr>\n",
       "  <th>Omnibus:</th>       <td>18300.280</td> <th>  Durbin-Watson:     </th>  <td>   2.009</td>  \n",
       "</tr>\n",
       "<tr>\n",
       "  <th>Prob(Omnibus):</th>  <td> 0.000</td>   <th>  Jarque-Bera (JB):  </th> <td>3184518.112</td>\n",
       "</tr>\n",
       "<tr>\n",
       "  <th>Skew:</th>           <td> 5.009</td>   <th>  Prob(JB):          </th>  <td>    0.00</td>  \n",
       "</tr>\n",
       "<tr>\n",
       "  <th>Kurtosis:</th>       <td>68.752</td>   <th>  Cond. No.          </th>  <td>5.31e+16</td>  \n",
       "</tr>\n",
       "</table><br/><br/>Notes:<br/>[1] Standard Errors assume that the covariance matrix of the errors is correctly specified.<br/>[2] The smallest eigenvalue is 1.32e-28. This might indicate that there are<br/>strong multicollinearity problems or that the design matrix is singular."
      ],
      "text/plain": [
       "<class 'statsmodels.iolib.summary.Summary'>\n",
       "\"\"\"\n",
       "                            OLS Regression Results                            \n",
       "==============================================================================\n",
       "Dep. Variable:              y_train_b   R-squared:                       0.661\n",
       "Model:                            OLS   Adj. R-squared:                  0.659\n",
       "Method:                 Least Squares   F-statistic:                     465.2\n",
       "Date:                Mon, 22 Mar 2021   Prob (F-statistic):               0.00\n",
       "Time:                        17:39:56   Log-Likelihood:            -2.3664e+05\n",
       "No. Observations:               17277   AIC:                         4.734e+05\n",
       "Df Residuals:                   17204   BIC:                         4.740e+05\n",
       "Df Model:                          72                                         \n",
       "Covariance Type:            nonrobust                                         \n",
       "==================================================================================\n",
       "                     coef    std err          t      P>|t|      [0.025      0.975]\n",
       "----------------------------------------------------------------------------------\n",
       "Intercept       2638.8401    768.189      3.435      0.001    1133.111    4144.569\n",
       "sqft_living[0]  6.992e+04   2685.779     26.033      0.000    6.47e+04    7.52e+04\n",
       "sqft_living[1]  1.267e+05   2958.108     42.828      0.000    1.21e+05    1.32e+05\n",
       "bathrooms        6.44e+04   2869.838     22.440      0.000    5.88e+04       7e+04\n",
       "zip_98002       1.312e+04   2.17e+04      0.604      0.546   -2.95e+04    5.57e+04\n",
       "zip_98003       1.449e+04   1.94e+04      0.748      0.454   -2.35e+04    5.24e+04\n",
       "zip_98004        8.47e+05   1.88e+04     45.034      0.000     8.1e+05    8.84e+05\n",
       "zip_98005       3.756e+05   2.25e+04     16.661      0.000    3.31e+05     4.2e+05\n",
       "zip_98006       3.769e+05    1.7e+04     22.223      0.000    3.44e+05     4.1e+05\n",
       "zip_98007       2.612e+05    2.4e+04     10.886      0.000    2.14e+05    3.08e+05\n",
       "zip_98008       3.124e+05   1.91e+04     16.325      0.000    2.75e+05     3.5e+05\n",
       "zip_98010       1.195e+05   2.68e+04      4.467      0.000    6.71e+04    1.72e+05\n",
       "zip_98011       1.264e+05   2.17e+04      5.831      0.000    8.39e+04    1.69e+05\n",
       "zip_98014       1.511e+05   2.44e+04      6.181      0.000    1.03e+05    1.99e+05\n",
       "zip_98019       8.815e+04   2.18e+04      4.049      0.000    4.55e+04    1.31e+05\n",
       "zip_98022       6.069e+04   2.04e+04      2.979      0.003    2.08e+04    1.01e+05\n",
       "zip_98023      -8804.8296   1.66e+04     -0.529      0.597   -4.14e+04    2.38e+04\n",
       "zip_98024       2.323e+05   2.88e+04      8.075      0.000    1.76e+05    2.89e+05\n",
       "zip_98027        2.11e+05   1.73e+04     12.181      0.000    1.77e+05    2.45e+05\n",
       "zip_98028       1.252e+05   1.93e+04      6.498      0.000    8.74e+04    1.63e+05\n",
       "zip_98029       2.391e+05   1.87e+04     12.807      0.000    2.03e+05    2.76e+05\n",
       "zip_98030      -5237.8163      2e+04     -0.262      0.793   -4.44e+04    3.39e+04\n",
       "zip_98031       2288.2911   1.93e+04      0.119      0.905   -3.55e+04    4.01e+04\n",
       "zip_98032       1.626e+04   2.51e+04      0.648      0.517   -3.29e+04    6.54e+04\n",
       "zip_98033       4.173e+05   1.74e+04     23.928      0.000    3.83e+05    4.51e+05\n",
       "zip_98034       2.236e+05   1.63e+04     13.712      0.000    1.92e+05    2.56e+05\n",
       "zip_98038        2.38e+04   1.63e+04      1.461      0.144   -8130.382    5.57e+04\n",
       "zip_98039       1.595e+06   3.51e+04     45.423      0.000    1.53e+06    1.66e+06\n",
       "zip_98040       6.871e+05   1.94e+04     35.421      0.000    6.49e+05    7.25e+05\n",
       "zip_98042       2.418e+04   1.65e+04      1.469      0.142   -8072.578    5.64e+04\n",
       "zip_98045       1.388e+05   2.02e+04      6.860      0.000    9.92e+04    1.79e+05\n",
       "zip_98052       2.563e+05   1.63e+04     15.727      0.000    2.24e+05    2.88e+05\n",
       "zip_98053       2.752e+05   1.78e+04     15.499      0.000     2.4e+05     3.1e+05\n",
       "zip_98055       4.405e+04   1.93e+04      2.287      0.022    6298.024    8.18e+04\n",
       "zip_98056       1.255e+05   1.75e+04      7.157      0.000    9.12e+04     1.6e+05\n",
       "zip_98058       3.906e+04   1.72e+04      2.271      0.023    5348.606    7.28e+04\n",
       "zip_98059       1.122e+05    1.7e+04      6.588      0.000    7.88e+04    1.46e+05\n",
       "zip_98065       1.123e+05   1.89e+04      5.950      0.000    7.53e+04    1.49e+05\n",
       "zip_98070       2.164e+05    2.6e+04      8.331      0.000    1.65e+05    2.67e+05\n",
       "zip_98072       1.894e+05   1.93e+04      9.810      0.000    1.52e+05    2.27e+05\n",
       "zip_98074       2.575e+05   1.73e+04     14.874      0.000    2.24e+05    2.91e+05\n",
       "zip_98075       2.958e+05    1.8e+04     16.456      0.000    2.61e+05    3.31e+05\n",
       "zip_98077       2.281e+05   2.15e+04     10.611      0.000    1.86e+05     2.7e+05\n",
       "zip_98092      -2620.3603   1.83e+04     -0.143      0.886   -3.86e+04    3.33e+04\n",
       "zip_98102       5.529e+05   2.69e+04     20.547      0.000       5e+05    6.06e+05\n",
       "zip_98103        3.41e+05   1.62e+04     21.041      0.000    3.09e+05    3.73e+05\n",
       "zip_98105       5.085e+05   2.05e+04     24.746      0.000    4.68e+05    5.49e+05\n",
       "zip_98106        1.43e+05   1.85e+04      7.740      0.000    1.07e+05    1.79e+05\n",
       "zip_98107       3.377e+05   1.98e+04     17.091      0.000    2.99e+05    3.76e+05\n",
       "zip_98108       1.052e+05   2.14e+04      4.914      0.000    6.33e+04    1.47e+05\n",
       "zip_98109       5.484e+05   2.66e+04     20.643      0.000    4.96e+05       6e+05\n",
       "zip_98112       6.879e+05   1.95e+04     35.217      0.000     6.5e+05    7.26e+05\n",
       "zip_98115       3.396e+05   1.64e+04     20.707      0.000    3.07e+05    3.72e+05\n",
       "zip_98116       3.343e+05   1.86e+04     17.965      0.000    2.98e+05    3.71e+05\n",
       "zip_98117       3.366e+05   1.66e+04     20.311      0.000    3.04e+05    3.69e+05\n",
       "zip_98118        1.91e+05   1.69e+04     11.278      0.000    1.58e+05    2.24e+05\n",
       "zip_98119       5.162e+05   2.21e+04     23.410      0.000    4.73e+05    5.59e+05\n",
       "zip_98122       3.428e+05   1.93e+04     17.778      0.000    3.05e+05    3.81e+05\n",
       "zip_98125       2.259e+05   1.74e+04     12.961      0.000    1.92e+05     2.6e+05\n",
       "zip_98126       2.316e+05   1.84e+04     12.555      0.000    1.95e+05    2.68e+05\n",
       "zip_98133       1.694e+05   1.67e+04     10.119      0.000    1.37e+05    2.02e+05\n",
       "zip_98136        3.16e+05   1.98e+04     15.922      0.000    2.77e+05    3.55e+05\n",
       "zip_98144       2.956e+05   1.85e+04     16.015      0.000    2.59e+05    3.32e+05\n",
       "zip_98146       1.523e+05   1.94e+04      7.858      0.000    1.14e+05     1.9e+05\n",
       "zip_98148        6.91e+04   3.34e+04      2.072      0.038    3721.232    1.34e+05\n",
       "zip_98155       1.675e+05   1.73e+04      9.694      0.000    1.34e+05    2.01e+05\n",
       "zip_98166       1.449e+05   1.96e+04      7.388      0.000    1.06e+05    1.83e+05\n",
       "zip_98168       8.516e+04   1.97e+04      4.314      0.000    4.65e+04    1.24e+05\n",
       "zip_98177       3.032e+05   1.99e+04     15.207      0.000    2.64e+05    3.42e+05\n",
       "zip_98178       7.245e+04   1.95e+04      3.714      0.000    3.42e+04    1.11e+05\n",
       "zip_98188       3.427e+04   2.41e+04      1.419      0.156   -1.31e+04    8.16e+04\n",
       "zip_98198       6.245e+04   1.93e+04      3.230      0.001    2.45e+04       1e+05\n",
       "zip_98199       4.437e+05   1.86e+04     23.849      0.000    4.07e+05     4.8e+05\n",
       "yr_built       -3.222e+04   2225.408    -14.479      0.000   -3.66e+04   -2.79e+04\n",
       "==============================================================================\n",
       "Omnibus:                    18300.280   Durbin-Watson:                   2.009\n",
       "Prob(Omnibus):                  0.000   Jarque-Bera (JB):          3184518.112\n",
       "Skew:                           5.009   Prob(JB):                         0.00\n",
       "Kurtosis:                      68.752   Cond. No.                     5.31e+16\n",
       "==============================================================================\n",
       "\n",
       "Notes:\n",
       "[1] Standard Errors assume that the covariance matrix of the errors is correctly specified.\n",
       "[2] The smallest eigenvalue is 1.32e-28. This might indicate that there are\n",
       "strong multicollinearity problems or that the design matrix is singular.\n",
       "\"\"\""
      ]
     },
     "execution_count": 128,
     "metadata": {},
     "output_type": "execute_result"
    }
   ],
   "source": [
    "model_b_ols = ols(formula=formula_b, data=data_b).fit()\n",
    "model_b_ols.summary()"
   ]
  },
  {
   "cell_type": "markdown",
   "metadata": {},
   "source": [
    "## Model B Evaluation"
   ]
  },
  {
   "cell_type": "code",
   "execution_count": 129,
   "metadata": {},
   "outputs": [
    {
     "data": {
      "text/plain": [
       "LinearRegression()"
      ]
     },
     "execution_count": 129,
     "metadata": {},
     "output_type": "execute_result"
    }
   ],
   "source": [
    "model_b_lr = LinearRegression()\n",
    "model_b_lr.fit(X_train_b,y_train_b)"
   ]
  },
  {
   "cell_type": "code",
   "execution_count": 130,
   "metadata": {},
   "outputs": [],
   "source": [
    "y_train_pred_b = model_b_lr.predict(X_train_b)\n",
    "y_test_pred_b = model_b_lr.predict(X_test_b)"
   ]
  },
  {
   "cell_type": "code",
   "execution_count": 131,
   "metadata": {},
   "outputs": [
    {
     "name": "stdout",
     "output_type": "stream",
     "text": [
      "Train Mean Absolute Error: 124542.03715922903\n",
      "Test Mean Absolute Error: 122434.73842592593\n"
     ]
    }
   ],
   "source": [
    "print('Train Mean Absolute Error:',metrics.mean_absolute_error(y_train_b, y_train_pred_b))\n",
    "print('Test Mean Absolute Error:',metrics.mean_absolute_error(y_test_b, y_test_pred_b))"
   ]
  },
  {
   "cell_type": "code",
   "execution_count": 132,
   "metadata": {},
   "outputs": [
    {
     "name": "stdout",
     "output_type": "stream",
     "text": [
      "Train Mean Squared Error: 46190937172.477394\n",
      "Test Mean Squared Error: 47526010768.88472\n"
     ]
    }
   ],
   "source": [
    "print('Train Mean Squared Error:',metrics.mean_squared_error(y_train_b, y_train_pred_b))\n",
    "print('Test Mean Squared Error:',metrics.mean_squared_error(y_test_b, y_test_pred_b))"
   ]
  },
  {
   "cell_type": "code",
   "execution_count": 133,
   "metadata": {},
   "outputs": [
    {
     "name": "stdout",
     "output_type": "stream",
     "text": [
      "Train Root Mean Squared Error: 214920.76952327663\n",
      "Test Root Mean Squared Error: 218004.61180645862\n"
     ]
    }
   ],
   "source": [
    "print('Train Root Mean Squared Error:',np.sqrt(metrics.mean_squared_error(y_train_b, y_train_pred_b)))\n",
    "print('Test Root Mean Squared Error:',np.sqrt(metrics.mean_squared_error(y_test_b, y_test_pred_b)))"
   ]
  },
  {
   "cell_type": "code",
   "execution_count": 135,
   "metadata": {},
   "outputs": [],
   "source": [
    "resid_b = y_test_pred_b - y_test_b"
   ]
  },
  {
   "cell_type": "code",
   "execution_count": 136,
   "metadata": {},
   "outputs": [
    {
     "data": {
      "image/png": "[encoded data removed]",
      "text/plain": [
       "<Figure size 360x360 with 1 Axes>"
      ]
     },
     "metadata": {
      "needs_background": "light"
     },
     "output_type": "display_data"
    }
   ],
   "source": [
    "sns.displot(x=resid_b,kind='hist',kde=True);"
   ]
  },
  {
   "cell_type": "code",
   "execution_count": 137,
   "metadata": {},
   "outputs": [
    {
     "data": {
      "image/png": "[encoded data removed]",
      "text/plain": [
       "<Figure size 432x288 with 1 Axes>"
      ]
     },
     "metadata": {
      "needs_background": "light"
     },
     "output_type": "display_data"
    }
   ],
   "source": [
    "fig = sm.graphics.qqplot(resid_b, dist=stats.norm, line='45',fit=True)"
   ]
  },
  {
   "cell_type": "code",
   "execution_count": 138,
   "metadata": {},
   "outputs": [
    {
     "data": {
      "text/plain": [
       "<matplotlib.collections.LineCollection at 0x7f85d4c547f0>"
      ]
     },
     "execution_count": 138,
     "metadata": {},
     "output_type": "execute_result"
    },
    {
     "data": {
      "image/png": "[encoded data removed]",
      "text/plain": [
       "<Figure size 432x288 with 1 Axes>"
      ]
     },
     "metadata": {
      "needs_background": "light"
     },
     "output_type": "display_data"
    }
   ],
   "source": [
    "plt.scatter(y_test_pred_b, resid_b)\n",
    "plt.hlines(y=0, xmin=y_test_pred_b.min(), xmax=y_test_pred_b.max())"
   ]
  },
  {
   "cell_type": "code",
   "execution_count": 139,
   "metadata": {},
   "outputs": [
    {
     "data": {
      "text/plain": [
       "Text(0.5, 1.0, 'Actual vs. Predicted')"
      ]
     },
     "execution_count": 139,
     "metadata": {},
     "output_type": "execute_result"
    },
    {
     "data": {
      "image/png": "[encoded data removed]",
      "text/plain": [
       "<Figure size 1080x720 with 1 Axes>"
      ]
     },
     "metadata": {
      "needs_background": "light"
     },
     "output_type": "display_data"
    }
   ],
   "source": [
    "plt.figure(figsize=(15,10))\n",
    "plt.scatter(y_test_b, y_test_pred_b)\n",
    "plt.xlabel('Actual')\n",
    "plt.ylabel('Predicted')\n",
    "plt.title('Actual vs. Predicted')"
   ]
  },
  {
   "cell_type": "code",
   "execution_count": 140,
   "metadata": {},
   "outputs": [
    {
     "data": {
      "text/plain": [
       "array([0.63687693, 0.69639013, 0.68449481, 0.56097271, 0.62621803])"
      ]
     },
     "execution_count": 140,
     "metadata": {},
     "output_type": "execute_result"
    }
   ],
   "source": [
    "model_b_scores = cross_val_score(model_b_lr, X_test_b, y_test_b, cv=5)\n",
    "model_b_scores"
   ]
  },
  {
   "cell_type": "code",
   "execution_count": 141,
   "metadata": {},
   "outputs": [
    {
     "data": {
      "text/plain": [
       "(0.640990522167117, 0.04816583260810641)"
      ]
     },
     "execution_count": 141,
     "metadata": {},
     "output_type": "execute_result"
    }
   ],
   "source": [
    "model_b_scores.mean(), model_b_scores.std()"
   ]
  },
  {
   "cell_type": "markdown",
   "metadata": {},
   "source": [
    "# Model C"
   ]
  },
  {
   "cell_type": "markdown",
   "metadata": {},
   "source": [
    "## Feature Engineering"
   ]
  },
  {
   "cell_type": "markdown",
   "metadata": {},
   "source": [
    "## Remove Outliers"
   ]
  },
  {
   "cell_type": "code",
   "execution_count": 60,
   "metadata": {},
   "outputs": [
    {
     "data": {
      "text/plain": [
       "2.1158262721674306"
      ]
     },
     "execution_count": 60,
     "metadata": {},
     "output_type": "execute_result"
    }
   ],
   "source": [
    "df_filtered.bathrooms.mean()"
   ]
  },
  {
   "cell_type": "code",
   "execution_count": 61,
   "metadata": {},
   "outputs": [
    {
     "data": {
      "text/plain": [
       "3.3731999814789093"
      ]
     },
     "execution_count": 61,
     "metadata": {},
     "output_type": "execute_result"
    }
   ],
   "source": [
    "df_filtered.bedrooms.mean()"
   ]
  },
  {
   "cell_type": "code",
   "execution_count": 62,
   "metadata": {},
   "outputs": [
    {
     "data": {
      "text/plain": [
       "0.9262988945421479"
      ]
     },
     "execution_count": 62,
     "metadata": {},
     "output_type": "execute_result"
    }
   ],
   "source": [
    "df_filtered.bedrooms.std()"
   ]
  },
  {
   "cell_type": "code",
   "execution_count": 63,
   "metadata": {},
   "outputs": [
    {
     "data": {
      "text/plain": [
       "0.7689842966527209"
      ]
     },
     "execution_count": 63,
     "metadata": {},
     "output_type": "execute_result"
    }
   ],
   "source": [
    "df_filtered.bathrooms.std()"
   ]
  },
  {
   "cell_type": "code",
   "execution_count": 64,
   "metadata": {},
   "outputs": [
    {
     "data": {
      "text/plain": [
       "4.422779162125593"
      ]
     },
     "execution_count": 64,
     "metadata": {},
     "output_type": "execute_result"
    }
   ],
   "source": [
    "upper_limit = df_filtered.bathrooms.mean() + 3*df_filtered.bathrooms.std()\n",
    "upper_limit"
   ]
  },
  {
   "cell_type": "code",
   "execution_count": 65,
   "metadata": {},
   "outputs": [
    {
     "data": {
      "text/plain": [
       "6.152096665105352"
      ]
     },
     "execution_count": 65,
     "metadata": {},
     "output_type": "execute_result"
    }
   ],
   "source": [
    "upper_limit_beds = df_filtered.bedrooms.mean() + 3*df_filtered.bedrooms.std()\n",
    "upper_limit_beds"
   ]
  },
  {
   "cell_type": "code",
   "execution_count": 66,
   "metadata": {},
   "outputs": [
    {
     "data": {
      "text/plain": [
       "-0.19112661779073248"
      ]
     },
     "execution_count": 66,
     "metadata": {},
     "output_type": "execute_result"
    }
   ],
   "source": [
    "lower_limit = df_filtered.bathrooms.mean() - 3*df_filtered.bathrooms.std()\n",
    "lower_limit"
   ]
  },
  {
   "cell_type": "code",
   "execution_count": 67,
   "metadata": {},
   "outputs": [
    {
     "data": {
      "text/plain": [
       "0.5943032978524658"
      ]
     },
     "execution_count": 67,
     "metadata": {},
     "output_type": "execute_result"
    }
   ],
   "source": [
    "lower_limit_beds = df_filtered.bedrooms.mean() - 3*df_filtered.bedrooms.std()\n",
    "lower_limit_beds"
   ]
  },
  {
   "cell_type": "code",
   "execution_count": 68,
   "metadata": {},
   "outputs": [
    {
     "data": {
      "text/plain": [
       "1642400.9938097629"
      ]
     },
     "execution_count": 68,
     "metadata": {},
     "output_type": "execute_result"
    }
   ],
   "source": [
    "upper_limit_price = df_filtered.price.mean() + 3*df_filtered.price.std()\n",
    "upper_limit_price"
   ]
  },
  {
   "cell_type": "code",
   "execution_count": 69,
   "metadata": {},
   "outputs": [
    {
     "data": {
      "text/plain": [
       "-561807.8467986039"
      ]
     },
     "execution_count": 69,
     "metadata": {},
     "output_type": "execute_result"
    }
   ],
   "source": [
    "lower_limit_price = df_filtered.price.mean() - 3*df_filtered.price.std()\n",
    "lower_limit_price"
   ]
  },
  {
   "cell_type": "code",
   "execution_count": 70,
   "metadata": {},
   "outputs": [
    {
     "name": "stdout",
     "output_type": "stream",
     "text": [
      "<class 'pandas.core.frame.DataFrame'>\n",
      "Int64Index: 21040 entries, 0 to 21596\n",
      "Data columns (total 11 columns):\n",
      " #   Column       Non-Null Count  Dtype  \n",
      "---  ------       --------------  -----  \n",
      " 0   price        21040 non-null  float64\n",
      " 1   bedrooms     21040 non-null  int64  \n",
      " 2   bathrooms    21040 non-null  float64\n",
      " 3   sqft_living  21040 non-null  int64  \n",
      " 4   sqft_lot     21040 non-null  int64  \n",
      " 5   floors       21040 non-null  float64\n",
      " 6   condition    21040 non-null  int64  \n",
      " 7   grade        21040 non-null  int64  \n",
      " 8   sqft_above   21040 non-null  int64  \n",
      " 9   yr_built     21040 non-null  int64  \n",
      " 10  zipcode      21040 non-null  object \n",
      "dtypes: float64(3), int64(7), object(1)\n",
      "memory usage: 1.9+ MB\n"
     ]
    }
   ],
   "source": [
    "df_outliers=df_filtered[(df_filtered.bathrooms<upper_limit) & (df_filtered.bathrooms>lower_limit) \n",
    "                        & (df_filtered.bedrooms<upper_limit_beds) & (df_filtered.bedrooms>lower_limit_beds)\n",
    "                       & (df_filtered.price<upper_limit_price) & (df_filtered.price>lower_limit_price)]\n",
    "df_outliers.info()"
   ]
  },
  {
   "cell_type": "code",
   "execution_count": 71,
   "metadata": {},
   "outputs": [
    {
     "data": {
      "image/png": "[encoded data removed]",
      "text/plain": [
       "<Figure size 1440x720 with 12 Axes>"
      ]
     },
     "metadata": {
      "needs_background": "light"
     },
     "output_type": "display_data"
    }
   ],
   "source": [
    "import warnings\n",
    "warnings.filterwarnings('ignore')\n",
    "fig = plt.figure(figsize = (20,10))\n",
    "ax = fig.gca()\n",
    "df_outliers.hist(ax = ax);"
   ]
  },
  {
   "cell_type": "code",
   "execution_count": 72,
   "metadata": {},
   "outputs": [],
   "source": [
    "zip_dummies_c = pd.get_dummies(df_outliers['zipcode'], prefix='zip', drop_first=True)"
   ]
  },
  {
   "cell_type": "code",
   "execution_count": 73,
   "metadata": {},
   "outputs": [
    {
     "data": {
      "text/html": [
       "<div>\n",
       "<style scoped>\n",
       "    .dataframe tbody tr th:only-of-type {\n",
       "        vertical-align: middle;\n",
       "    }\n",
       "\n",
       "    .dataframe tbody tr th {\n",
       "        vertical-align: top;\n",
       "    }\n",
       "\n",
       "    .dataframe thead th {\n",
       "        text-align: right;\n",
       "    }\n",
       "</style>\n",
       "<table border=\"1\" class=\"dataframe\">\n",
       "  <thead>\n",
       "    <tr style=\"text-align: right;\">\n",
       "      <th></th>\n",
       "      <th>zip_98004</th>\n",
       "      <th>zip_98005</th>\n",
       "      <th>zip_98006</th>\n",
       "      <th>zip_98007</th>\n",
       "      <th>zip_98008</th>\n",
       "      <th>zip_98010</th>\n",
       "      <th>zip_98011</th>\n",
       "      <th>zip_98014</th>\n",
       "      <th>zip_98019</th>\n",
       "      <th>zip_98024</th>\n",
       "      <th>...</th>\n",
       "      <th>zip_98125</th>\n",
       "      <th>zip_98126</th>\n",
       "      <th>zip_98133</th>\n",
       "      <th>zip_98136</th>\n",
       "      <th>zip_98144</th>\n",
       "      <th>zip_98146</th>\n",
       "      <th>zip_98155</th>\n",
       "      <th>zip_98166</th>\n",
       "      <th>zip_98177</th>\n",
       "      <th>zip_98199</th>\n",
       "    </tr>\n",
       "  </thead>\n",
       "  <tbody>\n",
       "    <tr>\n",
       "      <th>0</th>\n",
       "      <td>0</td>\n",
       "      <td>0</td>\n",
       "      <td>0</td>\n",
       "      <td>0</td>\n",
       "      <td>0</td>\n",
       "      <td>0</td>\n",
       "      <td>0</td>\n",
       "      <td>0</td>\n",
       "      <td>0</td>\n",
       "      <td>0</td>\n",
       "      <td>...</td>\n",
       "      <td>0</td>\n",
       "      <td>0</td>\n",
       "      <td>0</td>\n",
       "      <td>0</td>\n",
       "      <td>0</td>\n",
       "      <td>0</td>\n",
       "      <td>0</td>\n",
       "      <td>0</td>\n",
       "      <td>0</td>\n",
       "      <td>0</td>\n",
       "    </tr>\n",
       "    <tr>\n",
       "      <th>1</th>\n",
       "      <td>0</td>\n",
       "      <td>0</td>\n",
       "      <td>0</td>\n",
       "      <td>0</td>\n",
       "      <td>0</td>\n",
       "      <td>0</td>\n",
       "      <td>0</td>\n",
       "      <td>0</td>\n",
       "      <td>0</td>\n",
       "      <td>0</td>\n",
       "      <td>...</td>\n",
       "      <td>1</td>\n",
       "      <td>0</td>\n",
       "      <td>0</td>\n",
       "      <td>0</td>\n",
       "      <td>0</td>\n",
       "      <td>0</td>\n",
       "      <td>0</td>\n",
       "      <td>0</td>\n",
       "      <td>0</td>\n",
       "      <td>0</td>\n",
       "    </tr>\n",
       "    <tr>\n",
       "      <th>2</th>\n",
       "      <td>0</td>\n",
       "      <td>0</td>\n",
       "      <td>0</td>\n",
       "      <td>0</td>\n",
       "      <td>0</td>\n",
       "      <td>0</td>\n",
       "      <td>0</td>\n",
       "      <td>0</td>\n",
       "      <td>0</td>\n",
       "      <td>0</td>\n",
       "      <td>...</td>\n",
       "      <td>0</td>\n",
       "      <td>0</td>\n",
       "      <td>0</td>\n",
       "      <td>0</td>\n",
       "      <td>0</td>\n",
       "      <td>0</td>\n",
       "      <td>0</td>\n",
       "      <td>0</td>\n",
       "      <td>0</td>\n",
       "      <td>0</td>\n",
       "    </tr>\n",
       "    <tr>\n",
       "      <th>3</th>\n",
       "      <td>0</td>\n",
       "      <td>0</td>\n",
       "      <td>0</td>\n",
       "      <td>0</td>\n",
       "      <td>0</td>\n",
       "      <td>0</td>\n",
       "      <td>0</td>\n",
       "      <td>0</td>\n",
       "      <td>0</td>\n",
       "      <td>0</td>\n",
       "      <td>...</td>\n",
       "      <td>0</td>\n",
       "      <td>0</td>\n",
       "      <td>0</td>\n",
       "      <td>1</td>\n",
       "      <td>0</td>\n",
       "      <td>0</td>\n",
       "      <td>0</td>\n",
       "      <td>0</td>\n",
       "      <td>0</td>\n",
       "      <td>0</td>\n",
       "    </tr>\n",
       "    <tr>\n",
       "      <th>4</th>\n",
       "      <td>0</td>\n",
       "      <td>0</td>\n",
       "      <td>0</td>\n",
       "      <td>0</td>\n",
       "      <td>0</td>\n",
       "      <td>0</td>\n",
       "      <td>0</td>\n",
       "      <td>0</td>\n",
       "      <td>0</td>\n",
       "      <td>0</td>\n",
       "      <td>...</td>\n",
       "      <td>0</td>\n",
       "      <td>0</td>\n",
       "      <td>0</td>\n",
       "      <td>0</td>\n",
       "      <td>0</td>\n",
       "      <td>0</td>\n",
       "      <td>0</td>\n",
       "      <td>0</td>\n",
       "      <td>0</td>\n",
       "      <td>0</td>\n",
       "    </tr>\n",
       "  </tbody>\n",
       "</table>\n",
       "<p>5 rows × 52 columns</p>\n",
       "</div>"
      ],
      "text/plain": [
       "   zip_98004  zip_98005  zip_98006  zip_98007  zip_98008  zip_98010  \\\n",
       "0          0          0          0          0          0          0   \n",
       "1          0          0          0          0          0          0   \n",
       "2          0          0          0          0          0          0   \n",
       "3          0          0          0          0          0          0   \n",
       "4          0          0          0          0          0          0   \n",
       "\n",
       "   zip_98011  zip_98014  zip_98019  zip_98024  ...  zip_98125  zip_98126  \\\n",
       "0          0          0          0          0  ...          0          0   \n",
       "1          0          0          0          0  ...          1          0   \n",
       "2          0          0          0          0  ...          0          0   \n",
       "3          0          0          0          0  ...          0          0   \n",
       "4          0          0          0          0  ...          0          0   \n",
       "\n",
       "   zip_98133  zip_98136  zip_98144  zip_98146  zip_98155  zip_98166  \\\n",
       "0          0          0          0          0          0          0   \n",
       "1          0          0          0          0          0          0   \n",
       "2          0          0          0          0          0          0   \n",
       "3          0          1          0          0          0          0   \n",
       "4          0          0          0          0          0          0   \n",
       "\n",
       "   zip_98177  zip_98199  \n",
       "0          0          0  \n",
       "1          0          0  \n",
       "2          0          0  \n",
       "3          0          0  \n",
       "4          0          0  \n",
       "\n",
       "[5 rows x 52 columns]"
      ]
     },
     "execution_count": 73,
     "metadata": {},
     "output_type": "execute_result"
    }
   ],
   "source": [
    "updated_zip_c = zip_dummies_c.drop(['zip_98002','zip_98003','zip_98022','zip_98023','zip_98030','zip_98031',\n",
    "                                'zip_98032','zip_98038','zip_98042','zip_98055','zip_98058','zip_98092',\n",
    "                                  'zip_98188','zip_98168','zip_98178','zip_98188','zip_98148','zip_98198'], axis=1)\n",
    "updated_zip_c.head()"
   ]
  },
  {
   "cell_type": "code",
   "execution_count": 74,
   "metadata": {},
   "outputs": [],
   "source": [
    "model_c = pd.DataFrame([])\n",
    "price_c = df_outliers['price']\n",
    "bathrooms_c = df_outliers['bathrooms']\n",
    "scaled_bath_c = (bathrooms_c-np.mean(bathrooms_c))/np.sqrt(np.var(bathrooms_c))\n",
    "bedrooms_c = df_outliers['bedrooms']\n",
    "scaled_bed_c = (bedrooms_c-np.mean(bedrooms_c))/np.sqrt(np.var(bedrooms_c))\n",
    "log_lot_c = np.log(df_outliers['sqft_lot'])\n",
    "scaled_log_lot_c = (log_lot_c-np.mean(log_lot_c))/np.sqrt(np.var(log_lot_c))\n",
    "updated_zip_c\n",
    "sqfta_c = df_outliers['sqft_above']\n",
    "scaled_sqfta_c = (sqfta_c-np.mean(sqfta_c))/np.sqrt(np.var(sqfta_c))"
   ]
  },
  {
   "cell_type": "code",
   "execution_count": 75,
   "metadata": {},
   "outputs": [
    {
     "data": {
      "image/png": "[encoded data removed]",
      "text/plain": [
       "<Figure size 360x360 with 1 Axes>"
      ]
     },
     "metadata": {
      "needs_background": "light"
     },
     "output_type": "display_data"
    }
   ],
   "source": [
    "sns.displot(x=scaled_log_lot_c,kind='hist',kde=True);"
   ]
  },
  {
   "cell_type": "markdown",
   "metadata": {},
   "source": [
    "## Model C Training"
   ]
  },
  {
   "cell_type": "code",
   "execution_count": 76,
   "metadata": {},
   "outputs": [
    {
     "data": {
      "text/html": [
       "<div>\n",
       "<style scoped>\n",
       "    .dataframe tbody tr th:only-of-type {\n",
       "        vertical-align: middle;\n",
       "    }\n",
       "\n",
       "    .dataframe tbody tr th {\n",
       "        vertical-align: top;\n",
       "    }\n",
       "\n",
       "    .dataframe thead th {\n",
       "        text-align: right;\n",
       "    }\n",
       "</style>\n",
       "<table border=\"1\" class=\"dataframe\">\n",
       "  <thead>\n",
       "    <tr style=\"text-align: right;\">\n",
       "      <th></th>\n",
       "      <th>price</th>\n",
       "      <th>bathrooms</th>\n",
       "      <th>bedrooms</th>\n",
       "      <th>sqft_lot</th>\n",
       "      <th>sqft_above</th>\n",
       "      <th>zip_98004</th>\n",
       "      <th>zip_98005</th>\n",
       "      <th>zip_98006</th>\n",
       "      <th>zip_98007</th>\n",
       "      <th>zip_98008</th>\n",
       "      <th>...</th>\n",
       "      <th>zip_98125</th>\n",
       "      <th>zip_98126</th>\n",
       "      <th>zip_98133</th>\n",
       "      <th>zip_98136</th>\n",
       "      <th>zip_98144</th>\n",
       "      <th>zip_98146</th>\n",
       "      <th>zip_98155</th>\n",
       "      <th>zip_98166</th>\n",
       "      <th>zip_98177</th>\n",
       "      <th>zip_98199</th>\n",
       "    </tr>\n",
       "  </thead>\n",
       "  <tbody>\n",
       "    <tr>\n",
       "      <th>0</th>\n",
       "      <td>221900.0</td>\n",
       "      <td>-1.509925</td>\n",
       "      <td>-0.390810</td>\n",
       "      <td>-0.372593</td>\n",
       "      <td>-0.740182</td>\n",
       "      <td>0</td>\n",
       "      <td>0</td>\n",
       "      <td>0</td>\n",
       "      <td>0</td>\n",
       "      <td>0</td>\n",
       "      <td>...</td>\n",
       "      <td>0</td>\n",
       "      <td>0</td>\n",
       "      <td>0</td>\n",
       "      <td>0</td>\n",
       "      <td>0</td>\n",
       "      <td>0</td>\n",
       "      <td>0</td>\n",
       "      <td>0</td>\n",
       "      <td>0</td>\n",
       "      <td>0</td>\n",
       "    </tr>\n",
       "    <tr>\n",
       "      <th>1</th>\n",
       "      <td>538000.0</td>\n",
       "      <td>0.251155</td>\n",
       "      <td>-0.390810</td>\n",
       "      <td>-0.095442</td>\n",
       "      <td>0.568532</td>\n",
       "      <td>0</td>\n",
       "      <td>0</td>\n",
       "      <td>0</td>\n",
       "      <td>0</td>\n",
       "      <td>0</td>\n",
       "      <td>...</td>\n",
       "      <td>1</td>\n",
       "      <td>0</td>\n",
       "      <td>0</td>\n",
       "      <td>0</td>\n",
       "      <td>0</td>\n",
       "      <td>0</td>\n",
       "      <td>0</td>\n",
       "      <td>0</td>\n",
       "      <td>0</td>\n",
       "      <td>0</td>\n",
       "    </tr>\n",
       "    <tr>\n",
       "      <th>2</th>\n",
       "      <td>180000.0</td>\n",
       "      <td>-1.509925</td>\n",
       "      <td>-1.550562</td>\n",
       "      <td>0.264825</td>\n",
       "      <td>-1.282175</td>\n",
       "      <td>0</td>\n",
       "      <td>0</td>\n",
       "      <td>0</td>\n",
       "      <td>0</td>\n",
       "      <td>0</td>\n",
       "      <td>...</td>\n",
       "      <td>0</td>\n",
       "      <td>0</td>\n",
       "      <td>0</td>\n",
       "      <td>0</td>\n",
       "      <td>0</td>\n",
       "      <td>0</td>\n",
       "      <td>0</td>\n",
       "      <td>0</td>\n",
       "      <td>0</td>\n",
       "      <td>0</td>\n",
       "    </tr>\n",
       "    <tr>\n",
       "      <th>3</th>\n",
       "      <td>604000.0</td>\n",
       "      <td>1.307802</td>\n",
       "      <td>0.768942</td>\n",
       "      <td>-0.509044</td>\n",
       "      <td>-0.912034</td>\n",
       "      <td>0</td>\n",
       "      <td>0</td>\n",
       "      <td>0</td>\n",
       "      <td>0</td>\n",
       "      <td>0</td>\n",
       "      <td>...</td>\n",
       "      <td>0</td>\n",
       "      <td>0</td>\n",
       "      <td>0</td>\n",
       "      <td>1</td>\n",
       "      <td>0</td>\n",
       "      <td>0</td>\n",
       "      <td>0</td>\n",
       "      <td>0</td>\n",
       "      <td>0</td>\n",
       "      <td>0</td>\n",
       "    </tr>\n",
       "    <tr>\n",
       "      <th>4</th>\n",
       "      <td>510000.0</td>\n",
       "      <td>-0.101061</td>\n",
       "      <td>-0.390810</td>\n",
       "      <td>0.026804</td>\n",
       "      <td>-0.079215</td>\n",
       "      <td>0</td>\n",
       "      <td>0</td>\n",
       "      <td>0</td>\n",
       "      <td>0</td>\n",
       "      <td>0</td>\n",
       "      <td>...</td>\n",
       "      <td>0</td>\n",
       "      <td>0</td>\n",
       "      <td>0</td>\n",
       "      <td>0</td>\n",
       "      <td>0</td>\n",
       "      <td>0</td>\n",
       "      <td>0</td>\n",
       "      <td>0</td>\n",
       "      <td>0</td>\n",
       "      <td>0</td>\n",
       "    </tr>\n",
       "  </tbody>\n",
       "</table>\n",
       "<p>5 rows × 57 columns</p>\n",
       "</div>"
      ],
      "text/plain": [
       "      price  bathrooms  bedrooms  sqft_lot  sqft_above  zip_98004  zip_98005  \\\n",
       "0  221900.0  -1.509925 -0.390810 -0.372593   -0.740182          0          0   \n",
       "1  538000.0   0.251155 -0.390810 -0.095442    0.568532          0          0   \n",
       "2  180000.0  -1.509925 -1.550562  0.264825   -1.282175          0          0   \n",
       "3  604000.0   1.307802  0.768942 -0.509044   -0.912034          0          0   \n",
       "4  510000.0  -0.101061 -0.390810  0.026804   -0.079215          0          0   \n",
       "\n",
       "   zip_98006  zip_98007  zip_98008  ...  zip_98125  zip_98126  zip_98133  \\\n",
       "0          0          0          0  ...          0          0          0   \n",
       "1          0          0          0  ...          1          0          0   \n",
       "2          0          0          0  ...          0          0          0   \n",
       "3          0          0          0  ...          0          0          0   \n",
       "4          0          0          0  ...          0          0          0   \n",
       "\n",
       "   zip_98136  zip_98144  zip_98146  zip_98155  zip_98166  zip_98177  zip_98199  \n",
       "0          0          0          0          0          0          0          0  \n",
       "1          0          0          0          0          0          0          0  \n",
       "2          0          0          0          0          0          0          0  \n",
       "3          1          0          0          0          0          0          0  \n",
       "4          0          0          0          0          0          0          0  \n",
       "\n",
       "[5 rows x 57 columns]"
      ]
     },
     "execution_count": 76,
     "metadata": {},
     "output_type": "execute_result"
    }
   ],
   "source": [
    "model_c = pd.concat([price_c, scaled_bath_c, scaled_bed_c, scaled_log_lot_c, scaled_sqfta_c, updated_zip_c], axis=1)\n",
    "model_c.head()"
   ]
  },
  {
   "cell_type": "code",
   "execution_count": 77,
   "metadata": {},
   "outputs": [
    {
     "data": {
      "text/html": [
       "<div>\n",
       "<style scoped>\n",
       "    .dataframe tbody tr th:only-of-type {\n",
       "        vertical-align: middle;\n",
       "    }\n",
       "\n",
       "    .dataframe tbody tr th {\n",
       "        vertical-align: top;\n",
       "    }\n",
       "\n",
       "    .dataframe thead th {\n",
       "        text-align: right;\n",
       "    }\n",
       "</style>\n",
       "<table border=\"1\" class=\"dataframe\">\n",
       "  <thead>\n",
       "    <tr style=\"text-align: right;\">\n",
       "      <th></th>\n",
       "      <th>price</th>\n",
       "      <th>bathrooms</th>\n",
       "      <th>bedrooms</th>\n",
       "      <th>sqft_lot</th>\n",
       "      <th>sqft_above</th>\n",
       "      <th>zip_98004</th>\n",
       "      <th>zip_98005</th>\n",
       "      <th>zip_98006</th>\n",
       "      <th>zip_98007</th>\n",
       "      <th>zip_98008</th>\n",
       "      <th>...</th>\n",
       "      <th>zip_98125</th>\n",
       "      <th>zip_98126</th>\n",
       "      <th>zip_98133</th>\n",
       "      <th>zip_98136</th>\n",
       "      <th>zip_98144</th>\n",
       "      <th>zip_98146</th>\n",
       "      <th>zip_98155</th>\n",
       "      <th>zip_98166</th>\n",
       "      <th>zip_98177</th>\n",
       "      <th>zip_98199</th>\n",
       "    </tr>\n",
       "  </thead>\n",
       "  <tbody>\n",
       "    <tr>\n",
       "      <th>count</th>\n",
       "      <td>2.104000e+04</td>\n",
       "      <td>2.104000e+04</td>\n",
       "      <td>2.104000e+04</td>\n",
       "      <td>2.104000e+04</td>\n",
       "      <td>2.104000e+04</td>\n",
       "      <td>21040.000000</td>\n",
       "      <td>21040.000000</td>\n",
       "      <td>21040.000000</td>\n",
       "      <td>21040.000000</td>\n",
       "      <td>21040.000000</td>\n",
       "      <td>...</td>\n",
       "      <td>21040.000000</td>\n",
       "      <td>21040.000000</td>\n",
       "      <td>21040.000000</td>\n",
       "      <td>21040.000000</td>\n",
       "      <td>21040.000000</td>\n",
       "      <td>21040.000000</td>\n",
       "      <td>21040.000000</td>\n",
       "      <td>21040.000000</td>\n",
       "      <td>21040.000000</td>\n",
       "      <td>21040.000000</td>\n",
       "    </tr>\n",
       "    <tr>\n",
       "      <th>mean</th>\n",
       "      <td>5.043270e+05</td>\n",
       "      <td>2.161347e-16</td>\n",
       "      <td>9.996229e-17</td>\n",
       "      <td>-4.754963e-16</td>\n",
       "      <td>1.242774e-16</td>\n",
       "      <td>0.010884</td>\n",
       "      <td>0.007700</td>\n",
       "      <td>0.021816</td>\n",
       "      <td>0.006559</td>\n",
       "      <td>0.013070</td>\n",
       "      <td>...</td>\n",
       "      <td>0.019154</td>\n",
       "      <td>0.016778</td>\n",
       "      <td>0.023289</td>\n",
       "      <td>0.012357</td>\n",
       "      <td>0.015684</td>\n",
       "      <td>0.013688</td>\n",
       "      <td>0.020722</td>\n",
       "      <td>0.011835</td>\n",
       "      <td>0.011692</td>\n",
       "      <td>0.014306</td>\n",
       "    </tr>\n",
       "    <tr>\n",
       "      <th>std</th>\n",
       "      <td>2.565535e+05</td>\n",
       "      <td>1.000024e+00</td>\n",
       "      <td>1.000024e+00</td>\n",
       "      <td>1.000024e+00</td>\n",
       "      <td>1.000024e+00</td>\n",
       "      <td>0.103760</td>\n",
       "      <td>0.087411</td>\n",
       "      <td>0.146085</td>\n",
       "      <td>0.080723</td>\n",
       "      <td>0.113579</td>\n",
       "      <td>...</td>\n",
       "      <td>0.137069</td>\n",
       "      <td>0.128440</td>\n",
       "      <td>0.150823</td>\n",
       "      <td>0.110478</td>\n",
       "      <td>0.124254</td>\n",
       "      <td>0.116196</td>\n",
       "      <td>0.142457</td>\n",
       "      <td>0.108144</td>\n",
       "      <td>0.107498</td>\n",
       "      <td>0.118752</td>\n",
       "    </tr>\n",
       "    <tr>\n",
       "      <th>min</th>\n",
       "      <td>7.800000e+04</td>\n",
       "      <td>-2.214356e+00</td>\n",
       "      <td>-2.710314e+00</td>\n",
       "      <td>-3.035993e+00</td>\n",
       "      <td>-1.810949e+00</td>\n",
       "      <td>0.000000</td>\n",
       "      <td>0.000000</td>\n",
       "      <td>0.000000</td>\n",
       "      <td>0.000000</td>\n",
       "      <td>0.000000</td>\n",
       "      <td>...</td>\n",
       "      <td>0.000000</td>\n",
       "      <td>0.000000</td>\n",
       "      <td>0.000000</td>\n",
       "      <td>0.000000</td>\n",
       "      <td>0.000000</td>\n",
       "      <td>0.000000</td>\n",
       "      <td>0.000000</td>\n",
       "      <td>0.000000</td>\n",
       "      <td>0.000000</td>\n",
       "      <td>0.000000</td>\n",
       "    </tr>\n",
       "    <tr>\n",
       "      <th>25%</th>\n",
       "      <td>3.199500e+05</td>\n",
       "      <td>-8.054929e-01</td>\n",
       "      <td>-3.908100e-01</td>\n",
       "      <td>-5.088209e-01</td>\n",
       "      <td>-7.401823e-01</td>\n",
       "      <td>0.000000</td>\n",
       "      <td>0.000000</td>\n",
       "      <td>0.000000</td>\n",
       "      <td>0.000000</td>\n",
       "      <td>0.000000</td>\n",
       "      <td>...</td>\n",
       "      <td>0.000000</td>\n",
       "      <td>0.000000</td>\n",
       "      <td>0.000000</td>\n",
       "      <td>0.000000</td>\n",
       "      <td>0.000000</td>\n",
       "      <td>0.000000</td>\n",
       "      <td>0.000000</td>\n",
       "      <td>0.000000</td>\n",
       "      <td>0.000000</td>\n",
       "      <td>0.000000</td>\n",
       "    </tr>\n",
       "    <tr>\n",
       "      <th>50%</th>\n",
       "      <td>4.450000e+05</td>\n",
       "      <td>2.511547e-01</td>\n",
       "      <td>-3.908100e-01</td>\n",
       "      <td>-4.820231e-02</td>\n",
       "      <td>-2.642862e-01</td>\n",
       "      <td>0.000000</td>\n",
       "      <td>0.000000</td>\n",
       "      <td>0.000000</td>\n",
       "      <td>0.000000</td>\n",
       "      <td>0.000000</td>\n",
       "      <td>...</td>\n",
       "      <td>0.000000</td>\n",
       "      <td>0.000000</td>\n",
       "      <td>0.000000</td>\n",
       "      <td>0.000000</td>\n",
       "      <td>0.000000</td>\n",
       "      <td>0.000000</td>\n",
       "      <td>0.000000</td>\n",
       "      <td>0.000000</td>\n",
       "      <td>0.000000</td>\n",
       "      <td>0.000000</td>\n",
       "    </tr>\n",
       "    <tr>\n",
       "      <th>75%</th>\n",
       "      <td>6.250000e+05</td>\n",
       "      <td>6.033705e-01</td>\n",
       "      <td>7.689421e-01</td>\n",
       "      <td>3.145553e-01</td>\n",
       "      <td>5.420933e-01</td>\n",
       "      <td>0.000000</td>\n",
       "      <td>0.000000</td>\n",
       "      <td>0.000000</td>\n",
       "      <td>0.000000</td>\n",
       "      <td>0.000000</td>\n",
       "      <td>...</td>\n",
       "      <td>0.000000</td>\n",
       "      <td>0.000000</td>\n",
       "      <td>0.000000</td>\n",
       "      <td>0.000000</td>\n",
       "      <td>0.000000</td>\n",
       "      <td>0.000000</td>\n",
       "      <td>0.000000</td>\n",
       "      <td>0.000000</td>\n",
       "      <td>0.000000</td>\n",
       "      <td>0.000000</td>\n",
       "    </tr>\n",
       "    <tr>\n",
       "      <th>max</th>\n",
       "      <td>1.640000e+06</td>\n",
       "      <td>3.068882e+00</td>\n",
       "      <td>3.088446e+00</td>\n",
       "      <td>5.966313e+00</td>\n",
       "      <td>7.376490e+00</td>\n",
       "      <td>1.000000</td>\n",
       "      <td>1.000000</td>\n",
       "      <td>1.000000</td>\n",
       "      <td>1.000000</td>\n",
       "      <td>1.000000</td>\n",
       "      <td>...</td>\n",
       "      <td>1.000000</td>\n",
       "      <td>1.000000</td>\n",
       "      <td>1.000000</td>\n",
       "      <td>1.000000</td>\n",
       "      <td>1.000000</td>\n",
       "      <td>1.000000</td>\n",
       "      <td>1.000000</td>\n",
       "      <td>1.000000</td>\n",
       "      <td>1.000000</td>\n",
       "      <td>1.000000</td>\n",
       "    </tr>\n",
       "  </tbody>\n",
       "</table>\n",
       "<p>8 rows × 57 columns</p>\n",
       "</div>"
      ],
      "text/plain": [
       "              price     bathrooms      bedrooms      sqft_lot    sqft_above  \\\n",
       "count  2.104000e+04  2.104000e+04  2.104000e+04  2.104000e+04  2.104000e+04   \n",
       "mean   5.043270e+05  2.161347e-16  9.996229e-17 -4.754963e-16  1.242774e-16   \n",
       "std    2.565535e+05  1.000024e+00  1.000024e+00  1.000024e+00  1.000024e+00   \n",
       "min    7.800000e+04 -2.214356e+00 -2.710314e+00 -3.035993e+00 -1.810949e+00   \n",
       "25%    3.199500e+05 -8.054929e-01 -3.908100e-01 -5.088209e-01 -7.401823e-01   \n",
       "50%    4.450000e+05  2.511547e-01 -3.908100e-01 -4.820231e-02 -2.642862e-01   \n",
       "75%    6.250000e+05  6.033705e-01  7.689421e-01  3.145553e-01  5.420933e-01   \n",
       "max    1.640000e+06  3.068882e+00  3.088446e+00  5.966313e+00  7.376490e+00   \n",
       "\n",
       "          zip_98004     zip_98005     zip_98006     zip_98007     zip_98008  \\\n",
       "count  21040.000000  21040.000000  21040.000000  21040.000000  21040.000000   \n",
       "mean       0.010884      0.007700      0.021816      0.006559      0.013070   \n",
       "std        0.103760      0.087411      0.146085      0.080723      0.113579   \n",
       "min        0.000000      0.000000      0.000000      0.000000      0.000000   \n",
       "25%        0.000000      0.000000      0.000000      0.000000      0.000000   \n",
       "50%        0.000000      0.000000      0.000000      0.000000      0.000000   \n",
       "75%        0.000000      0.000000      0.000000      0.000000      0.000000   \n",
       "max        1.000000      1.000000      1.000000      1.000000      1.000000   \n",
       "\n",
       "       ...     zip_98125     zip_98126     zip_98133     zip_98136  \\\n",
       "count  ...  21040.000000  21040.000000  21040.000000  21040.000000   \n",
       "mean   ...      0.019154      0.016778      0.023289      0.012357   \n",
       "std    ...      0.137069      0.128440      0.150823      0.110478   \n",
       "min    ...      0.000000      0.000000      0.000000      0.000000   \n",
       "25%    ...      0.000000      0.000000      0.000000      0.000000   \n",
       "50%    ...      0.000000      0.000000      0.000000      0.000000   \n",
       "75%    ...      0.000000      0.000000      0.000000      0.000000   \n",
       "max    ...      1.000000      1.000000      1.000000      1.000000   \n",
       "\n",
       "          zip_98144     zip_98146     zip_98155     zip_98166     zip_98177  \\\n",
       "count  21040.000000  21040.000000  21040.000000  21040.000000  21040.000000   \n",
       "mean       0.015684      0.013688      0.020722      0.011835      0.011692   \n",
       "std        0.124254      0.116196      0.142457      0.108144      0.107498   \n",
       "min        0.000000      0.000000      0.000000      0.000000      0.000000   \n",
       "25%        0.000000      0.000000      0.000000      0.000000      0.000000   \n",
       "50%        0.000000      0.000000      0.000000      0.000000      0.000000   \n",
       "75%        0.000000      0.000000      0.000000      0.000000      0.000000   \n",
       "max        1.000000      1.000000      1.000000      1.000000      1.000000   \n",
       "\n",
       "          zip_98199  \n",
       "count  21040.000000  \n",
       "mean       0.014306  \n",
       "std        0.118752  \n",
       "min        0.000000  \n",
       "25%        0.000000  \n",
       "50%        0.000000  \n",
       "75%        0.000000  \n",
       "max        1.000000  \n",
       "\n",
       "[8 rows x 57 columns]"
      ]
     },
     "execution_count": 77,
     "metadata": {},
     "output_type": "execute_result"
    }
   ],
   "source": [
    "model_c.describe()"
   ]
  },
  {
   "cell_type": "code",
   "execution_count": 78,
   "metadata": {},
   "outputs": [
    {
     "data": {
      "text/html": [
       "<div>\n",
       "<style scoped>\n",
       "    .dataframe tbody tr th:only-of-type {\n",
       "        vertical-align: middle;\n",
       "    }\n",
       "\n",
       "    .dataframe tbody tr th {\n",
       "        vertical-align: top;\n",
       "    }\n",
       "\n",
       "    .dataframe thead th {\n",
       "        text-align: right;\n",
       "    }\n",
       "</style>\n",
       "<table border=\"1\" class=\"dataframe\">\n",
       "  <thead>\n",
       "    <tr style=\"text-align: right;\">\n",
       "      <th></th>\n",
       "      <th>bathrooms</th>\n",
       "      <th>bedrooms</th>\n",
       "      <th>sqft_lot</th>\n",
       "      <th>sqft_above</th>\n",
       "      <th>zip_98004</th>\n",
       "      <th>zip_98005</th>\n",
       "      <th>zip_98006</th>\n",
       "      <th>zip_98007</th>\n",
       "      <th>zip_98008</th>\n",
       "      <th>zip_98010</th>\n",
       "      <th>...</th>\n",
       "      <th>zip_98125</th>\n",
       "      <th>zip_98126</th>\n",
       "      <th>zip_98133</th>\n",
       "      <th>zip_98136</th>\n",
       "      <th>zip_98144</th>\n",
       "      <th>zip_98146</th>\n",
       "      <th>zip_98155</th>\n",
       "      <th>zip_98166</th>\n",
       "      <th>zip_98177</th>\n",
       "      <th>zip_98199</th>\n",
       "    </tr>\n",
       "  </thead>\n",
       "  <tbody>\n",
       "    <tr>\n",
       "      <th>13008</th>\n",
       "      <td>0.603371</td>\n",
       "      <td>0.768942</td>\n",
       "      <td>-0.402634</td>\n",
       "      <td>0.343803</td>\n",
       "      <td>0</td>\n",
       "      <td>0</td>\n",
       "      <td>0</td>\n",
       "      <td>0</td>\n",
       "      <td>0</td>\n",
       "      <td>0</td>\n",
       "      <td>...</td>\n",
       "      <td>0</td>\n",
       "      <td>0</td>\n",
       "      <td>0</td>\n",
       "      <td>0</td>\n",
       "      <td>0</td>\n",
       "      <td>0</td>\n",
       "      <td>0</td>\n",
       "      <td>0</td>\n",
       "      <td>0</td>\n",
       "      <td>0</td>\n",
       "    </tr>\n",
       "    <tr>\n",
       "      <th>4152</th>\n",
       "      <td>-0.453277</td>\n",
       "      <td>-0.390810</td>\n",
       "      <td>-0.047464</td>\n",
       "      <td>-0.885595</td>\n",
       "      <td>0</td>\n",
       "      <td>0</td>\n",
       "      <td>0</td>\n",
       "      <td>0</td>\n",
       "      <td>0</td>\n",
       "      <td>0</td>\n",
       "      <td>...</td>\n",
       "      <td>0</td>\n",
       "      <td>0</td>\n",
       "      <td>0</td>\n",
       "      <td>0</td>\n",
       "      <td>0</td>\n",
       "      <td>0</td>\n",
       "      <td>0</td>\n",
       "      <td>0</td>\n",
       "      <td>0</td>\n",
       "      <td>0</td>\n",
       "    </tr>\n",
       "    <tr>\n",
       "      <th>20018</th>\n",
       "      <td>0.603371</td>\n",
       "      <td>0.768942</td>\n",
       "      <td>-0.738531</td>\n",
       "      <td>1.062935</td>\n",
       "      <td>0</td>\n",
       "      <td>0</td>\n",
       "      <td>0</td>\n",
       "      <td>0</td>\n",
       "      <td>0</td>\n",
       "      <td>0</td>\n",
       "      <td>...</td>\n",
       "      <td>0</td>\n",
       "      <td>0</td>\n",
       "      <td>0</td>\n",
       "      <td>0</td>\n",
       "      <td>0</td>\n",
       "      <td>0</td>\n",
       "      <td>0</td>\n",
       "      <td>0</td>\n",
       "      <td>0</td>\n",
       "      <td>0</td>\n",
       "    </tr>\n",
       "    <tr>\n",
       "      <th>14003</th>\n",
       "      <td>-1.509925</td>\n",
       "      <td>-0.390810</td>\n",
       "      <td>0.101101</td>\n",
       "      <td>-0.766621</td>\n",
       "      <td>0</td>\n",
       "      <td>0</td>\n",
       "      <td>0</td>\n",
       "      <td>0</td>\n",
       "      <td>0</td>\n",
       "      <td>0</td>\n",
       "      <td>...</td>\n",
       "      <td>0</td>\n",
       "      <td>0</td>\n",
       "      <td>0</td>\n",
       "      <td>0</td>\n",
       "      <td>0</td>\n",
       "      <td>1</td>\n",
       "      <td>0</td>\n",
       "      <td>0</td>\n",
       "      <td>0</td>\n",
       "      <td>0</td>\n",
       "    </tr>\n",
       "    <tr>\n",
       "      <th>2513</th>\n",
       "      <td>-1.509925</td>\n",
       "      <td>-1.550562</td>\n",
       "      <td>-0.233435</td>\n",
       "      <td>-1.401149</td>\n",
       "      <td>0</td>\n",
       "      <td>0</td>\n",
       "      <td>0</td>\n",
       "      <td>0</td>\n",
       "      <td>0</td>\n",
       "      <td>0</td>\n",
       "      <td>...</td>\n",
       "      <td>0</td>\n",
       "      <td>0</td>\n",
       "      <td>0</td>\n",
       "      <td>0</td>\n",
       "      <td>0</td>\n",
       "      <td>0</td>\n",
       "      <td>0</td>\n",
       "      <td>0</td>\n",
       "      <td>0</td>\n",
       "      <td>0</td>\n",
       "    </tr>\n",
       "  </tbody>\n",
       "</table>\n",
       "<p>5 rows × 56 columns</p>\n",
       "</div>"
      ],
      "text/plain": [
       "       bathrooms  bedrooms  sqft_lot  sqft_above  zip_98004  zip_98005  \\\n",
       "13008   0.603371  0.768942 -0.402634    0.343803          0          0   \n",
       "4152   -0.453277 -0.390810 -0.047464   -0.885595          0          0   \n",
       "20018   0.603371  0.768942 -0.738531    1.062935          0          0   \n",
       "14003  -1.509925 -0.390810  0.101101   -0.766621          0          0   \n",
       "2513   -1.509925 -1.550562 -0.233435   -1.401149          0          0   \n",
       "\n",
       "       zip_98006  zip_98007  zip_98008  zip_98010  ...  zip_98125  zip_98126  \\\n",
       "13008          0          0          0          0  ...          0          0   \n",
       "4152           0          0          0          0  ...          0          0   \n",
       "20018          0          0          0          0  ...          0          0   \n",
       "14003          0          0          0          0  ...          0          0   \n",
       "2513           0          0          0          0  ...          0          0   \n",
       "\n",
       "       zip_98133  zip_98136  zip_98144  zip_98146  zip_98155  zip_98166  \\\n",
       "13008          0          0          0          0          0          0   \n",
       "4152           0          0          0          0          0          0   \n",
       "20018          0          0          0          0          0          0   \n",
       "14003          0          0          0          1          0          0   \n",
       "2513           0          0          0          0          0          0   \n",
       "\n",
       "       zip_98177  zip_98199  \n",
       "13008          0          0  \n",
       "4152           0          0  \n",
       "20018          0          0  \n",
       "14003          0          0  \n",
       "2513           0          0  \n",
       "\n",
       "[5 rows x 56 columns]"
      ]
     },
     "execution_count": 78,
     "metadata": {},
     "output_type": "execute_result"
    }
   ],
   "source": [
    "target_c = model_c['price']\n",
    "features_c = model_c.drop(['price'], axis=1)\n",
    "\n",
    "X_train_c, X_test_c, y_train_c, y_test_c = train_test_split(features_c,target_c,test_size=0.2,random_state=42)\n",
    "X_train_c.head()"
   ]
  },
  {
   "cell_type": "code",
   "execution_count": 79,
   "metadata": {},
   "outputs": [],
   "source": [
    "outcome_c = 'y_train_c'\n",
    "predictors_c = X_train_c\n",
    "pred_sum_c = '+'.join(predictors_c.columns)\n",
    "formula_c = outcome_c + '~' + pred_sum_c"
   ]
  },
  {
   "cell_type": "code",
   "execution_count": 80,
   "metadata": {},
   "outputs": [
    {
     "data": {
      "text/html": [
       "<div>\n",
       "<style scoped>\n",
       "    .dataframe tbody tr th:only-of-type {\n",
       "        vertical-align: middle;\n",
       "    }\n",
       "\n",
       "    .dataframe tbody tr th {\n",
       "        vertical-align: top;\n",
       "    }\n",
       "\n",
       "    .dataframe thead th {\n",
       "        text-align: right;\n",
       "    }\n",
       "</style>\n",
       "<table border=\"1\" class=\"dataframe\">\n",
       "  <thead>\n",
       "    <tr style=\"text-align: right;\">\n",
       "      <th></th>\n",
       "      <th>bathrooms</th>\n",
       "      <th>bedrooms</th>\n",
       "      <th>sqft_lot</th>\n",
       "      <th>sqft_above</th>\n",
       "      <th>zip_98004</th>\n",
       "      <th>zip_98005</th>\n",
       "      <th>zip_98006</th>\n",
       "      <th>zip_98007</th>\n",
       "      <th>zip_98008</th>\n",
       "      <th>zip_98010</th>\n",
       "      <th>...</th>\n",
       "      <th>zip_98126</th>\n",
       "      <th>zip_98133</th>\n",
       "      <th>zip_98136</th>\n",
       "      <th>zip_98144</th>\n",
       "      <th>zip_98146</th>\n",
       "      <th>zip_98155</th>\n",
       "      <th>zip_98166</th>\n",
       "      <th>zip_98177</th>\n",
       "      <th>zip_98199</th>\n",
       "      <th>price</th>\n",
       "    </tr>\n",
       "  </thead>\n",
       "  <tbody>\n",
       "    <tr>\n",
       "      <th>13008</th>\n",
       "      <td>0.603371</td>\n",
       "      <td>0.768942</td>\n",
       "      <td>-0.402634</td>\n",
       "      <td>0.343803</td>\n",
       "      <td>0</td>\n",
       "      <td>0</td>\n",
       "      <td>0</td>\n",
       "      <td>0</td>\n",
       "      <td>0</td>\n",
       "      <td>0</td>\n",
       "      <td>...</td>\n",
       "      <td>0</td>\n",
       "      <td>0</td>\n",
       "      <td>0</td>\n",
       "      <td>0</td>\n",
       "      <td>0</td>\n",
       "      <td>0</td>\n",
       "      <td>0</td>\n",
       "      <td>0</td>\n",
       "      <td>0</td>\n",
       "      <td>360000.0</td>\n",
       "    </tr>\n",
       "    <tr>\n",
       "      <th>4152</th>\n",
       "      <td>-0.453277</td>\n",
       "      <td>-0.390810</td>\n",
       "      <td>-0.047464</td>\n",
       "      <td>-0.885595</td>\n",
       "      <td>0</td>\n",
       "      <td>0</td>\n",
       "      <td>0</td>\n",
       "      <td>0</td>\n",
       "      <td>0</td>\n",
       "      <td>0</td>\n",
       "      <td>...</td>\n",
       "      <td>0</td>\n",
       "      <td>0</td>\n",
       "      <td>0</td>\n",
       "      <td>0</td>\n",
       "      <td>0</td>\n",
       "      <td>0</td>\n",
       "      <td>0</td>\n",
       "      <td>0</td>\n",
       "      <td>0</td>\n",
       "      <td>222000.0</td>\n",
       "    </tr>\n",
       "    <tr>\n",
       "      <th>20018</th>\n",
       "      <td>0.603371</td>\n",
       "      <td>0.768942</td>\n",
       "      <td>-0.738531</td>\n",
       "      <td>1.062935</td>\n",
       "      <td>0</td>\n",
       "      <td>0</td>\n",
       "      <td>0</td>\n",
       "      <td>0</td>\n",
       "      <td>0</td>\n",
       "      <td>0</td>\n",
       "      <td>...</td>\n",
       "      <td>0</td>\n",
       "      <td>0</td>\n",
       "      <td>0</td>\n",
       "      <td>0</td>\n",
       "      <td>0</td>\n",
       "      <td>0</td>\n",
       "      <td>0</td>\n",
       "      <td>0</td>\n",
       "      <td>0</td>\n",
       "      <td>415000.0</td>\n",
       "    </tr>\n",
       "    <tr>\n",
       "      <th>14003</th>\n",
       "      <td>-1.509925</td>\n",
       "      <td>-0.390810</td>\n",
       "      <td>0.101101</td>\n",
       "      <td>-0.766621</td>\n",
       "      <td>0</td>\n",
       "      <td>0</td>\n",
       "      <td>0</td>\n",
       "      <td>0</td>\n",
       "      <td>0</td>\n",
       "      <td>0</td>\n",
       "      <td>...</td>\n",
       "      <td>0</td>\n",
       "      <td>0</td>\n",
       "      <td>0</td>\n",
       "      <td>0</td>\n",
       "      <td>1</td>\n",
       "      <td>0</td>\n",
       "      <td>0</td>\n",
       "      <td>0</td>\n",
       "      <td>0</td>\n",
       "      <td>255000.0</td>\n",
       "    </tr>\n",
       "    <tr>\n",
       "      <th>2513</th>\n",
       "      <td>-1.509925</td>\n",
       "      <td>-1.550562</td>\n",
       "      <td>-0.233435</td>\n",
       "      <td>-1.401149</td>\n",
       "      <td>0</td>\n",
       "      <td>0</td>\n",
       "      <td>0</td>\n",
       "      <td>0</td>\n",
       "      <td>0</td>\n",
       "      <td>0</td>\n",
       "      <td>...</td>\n",
       "      <td>0</td>\n",
       "      <td>0</td>\n",
       "      <td>0</td>\n",
       "      <td>0</td>\n",
       "      <td>0</td>\n",
       "      <td>0</td>\n",
       "      <td>0</td>\n",
       "      <td>0</td>\n",
       "      <td>0</td>\n",
       "      <td>179900.0</td>\n",
       "    </tr>\n",
       "  </tbody>\n",
       "</table>\n",
       "<p>5 rows × 57 columns</p>\n",
       "</div>"
      ],
      "text/plain": [
       "       bathrooms  bedrooms  sqft_lot  sqft_above  zip_98004  zip_98005  \\\n",
       "13008   0.603371  0.768942 -0.402634    0.343803          0          0   \n",
       "4152   -0.453277 -0.390810 -0.047464   -0.885595          0          0   \n",
       "20018   0.603371  0.768942 -0.738531    1.062935          0          0   \n",
       "14003  -1.509925 -0.390810  0.101101   -0.766621          0          0   \n",
       "2513   -1.509925 -1.550562 -0.233435   -1.401149          0          0   \n",
       "\n",
       "       zip_98006  zip_98007  zip_98008  zip_98010  ...  zip_98126  zip_98133  \\\n",
       "13008          0          0          0          0  ...          0          0   \n",
       "4152           0          0          0          0  ...          0          0   \n",
       "20018          0          0          0          0  ...          0          0   \n",
       "14003          0          0          0          0  ...          0          0   \n",
       "2513           0          0          0          0  ...          0          0   \n",
       "\n",
       "       zip_98136  zip_98144  zip_98146  zip_98155  zip_98166  zip_98177  \\\n",
       "13008          0          0          0          0          0          0   \n",
       "4152           0          0          0          0          0          0   \n",
       "20018          0          0          0          0          0          0   \n",
       "14003          0          0          1          0          0          0   \n",
       "2513           0          0          0          0          0          0   \n",
       "\n",
       "       zip_98199     price  \n",
       "13008          0  360000.0  \n",
       "4152           0  222000.0  \n",
       "20018          0  415000.0  \n",
       "14003          0  255000.0  \n",
       "2513           0  179900.0  \n",
       "\n",
       "[5 rows x 57 columns]"
      ]
     },
     "execution_count": 80,
     "metadata": {},
     "output_type": "execute_result"
    }
   ],
   "source": [
    "data_c = pd.concat([X_train_c,y_train_c], axis=1)\n",
    "data_c.head()"
   ]
  },
  {
   "cell_type": "code",
   "execution_count": 81,
   "metadata": {},
   "outputs": [
    {
     "data": {
      "text/html": [
       "<table class=\"simpletable\">\n",
       "<caption>OLS Regression Results</caption>\n",
       "<tr>\n",
       "  <th>Dep. Variable:</th>        <td>y_train_c</td>    <th>  R-squared:         </th>  <td>   0.756</td>  \n",
       "</tr>\n",
       "<tr>\n",
       "  <th>Model:</th>                   <td>OLS</td>       <th>  Adj. R-squared:    </th>  <td>   0.755</td>  \n",
       "</tr>\n",
       "<tr>\n",
       "  <th>Method:</th>             <td>Least Squares</td>  <th>  F-statistic:       </th>  <td>   929.5</td>  \n",
       "</tr>\n",
       "<tr>\n",
       "  <th>Date:</th>             <td>Mon, 22 Mar 2021</td> <th>  Prob (F-statistic):</th>   <td>  0.00</td>   \n",
       "</tr>\n",
       "<tr>\n",
       "  <th>Time:</th>                 <td>17:32:09</td>     <th>  Log-Likelihood:    </th> <td>-2.2159e+05</td>\n",
       "</tr>\n",
       "<tr>\n",
       "  <th>No. Observations:</th>      <td> 16832</td>      <th>  AIC:               </th>  <td>4.433e+05</td> \n",
       "</tr>\n",
       "<tr>\n",
       "  <th>Df Residuals:</th>          <td> 16775</td>      <th>  BIC:               </th>  <td>4.437e+05</td> \n",
       "</tr>\n",
       "<tr>\n",
       "  <th>Df Model:</th>              <td>    56</td>      <th>                     </th>      <td> </td>     \n",
       "</tr>\n",
       "<tr>\n",
       "  <th>Covariance Type:</th>      <td>nonrobust</td>    <th>                     </th>      <td> </td>     \n",
       "</tr>\n",
       "</table>\n",
       "<table class=\"simpletable\">\n",
       "<tr>\n",
       "       <td></td>         <th>coef</th>     <th>std err</th>      <th>t</th>      <th>P>|t|</th>  <th>[0.025</th>    <th>0.975]</th>  \n",
       "</tr>\n",
       "<tr>\n",
       "  <th>Intercept</th>  <td> 3.023e+05</td> <td> 1952.671</td> <td>  154.839</td> <td> 0.000</td> <td> 2.99e+05</td> <td> 3.06e+05</td>\n",
       "</tr>\n",
       "<tr>\n",
       "  <th>bathrooms</th>  <td> 4.727e+04</td> <td> 1387.613</td> <td>   34.063</td> <td> 0.000</td> <td> 4.45e+04</td> <td>    5e+04</td>\n",
       "</tr>\n",
       "<tr>\n",
       "  <th>bedrooms</th>   <td> 1945.3820</td> <td> 1191.163</td> <td>    1.633</td> <td> 0.102</td> <td> -389.424</td> <td> 4280.188</td>\n",
       "</tr>\n",
       "<tr>\n",
       "  <th>sqft_lot</th>   <td> 4.949e+04</td> <td> 1253.152</td> <td>   39.493</td> <td> 0.000</td> <td>  4.7e+04</td> <td> 5.19e+04</td>\n",
       "</tr>\n",
       "<tr>\n",
       "  <th>sqft_above</th> <td> 1.061e+05</td> <td> 1467.632</td> <td>   72.267</td> <td> 0.000</td> <td> 1.03e+05</td> <td> 1.09e+05</td>\n",
       "</tr>\n",
       "<tr>\n",
       "  <th>zip_98004</th>  <td>  6.54e+05</td> <td> 9579.652</td> <td>   68.273</td> <td> 0.000</td> <td> 6.35e+05</td> <td> 6.73e+05</td>\n",
       "</tr>\n",
       "<tr>\n",
       "  <th>zip_98005</th>  <td>  3.78e+05</td> <td> 1.13e+04</td> <td>   33.489</td> <td> 0.000</td> <td> 3.56e+05</td> <td>    4e+05</td>\n",
       "</tr>\n",
       "<tr>\n",
       "  <th>zip_98006</th>  <td>  3.71e+05</td> <td> 6842.081</td> <td>   54.227</td> <td> 0.000</td> <td> 3.58e+05</td> <td> 3.84e+05</td>\n",
       "</tr>\n",
       "<tr>\n",
       "  <th>zip_98007</th>  <td> 2.818e+05</td> <td> 1.23e+04</td> <td>   22.844</td> <td> 0.000</td> <td> 2.58e+05</td> <td> 3.06e+05</td>\n",
       "</tr>\n",
       "<tr>\n",
       "  <th>zip_98008</th>  <td> 2.873e+05</td> <td> 8815.514</td> <td>   32.592</td> <td> 0.000</td> <td>  2.7e+05</td> <td> 3.05e+05</td>\n",
       "</tr>\n",
       "<tr>\n",
       "  <th>zip_98010</th>  <td> 1.082e+04</td> <td> 1.43e+04</td> <td>    0.759</td> <td> 0.448</td> <td>-1.71e+04</td> <td> 3.88e+04</td>\n",
       "</tr>\n",
       "<tr>\n",
       "  <th>zip_98011</th>  <td> 1.385e+05</td> <td> 1.01e+04</td> <td>   13.756</td> <td> 0.000</td> <td> 1.19e+05</td> <td> 1.58e+05</td>\n",
       "</tr>\n",
       "<tr>\n",
       "  <th>zip_98014</th>  <td> 3.126e+04</td> <td> 1.33e+04</td> <td>    2.358</td> <td> 0.018</td> <td> 5272.392</td> <td> 5.73e+04</td>\n",
       "</tr>\n",
       "<tr>\n",
       "  <th>zip_98019</th>  <td> 3.278e+04</td> <td> 1.04e+04</td> <td>    3.160</td> <td> 0.002</td> <td> 1.24e+04</td> <td> 5.31e+04</td>\n",
       "</tr>\n",
       "<tr>\n",
       "  <th>zip_98024</th>  <td> 9.011e+04</td> <td> 1.83e+04</td> <td>    4.922</td> <td> 0.000</td> <td> 5.42e+04</td> <td> 1.26e+05</td>\n",
       "</tr>\n",
       "<tr>\n",
       "  <th>zip_98027</th>  <td> 2.013e+05</td> <td> 7218.532</td> <td>   27.880</td> <td> 0.000</td> <td> 1.87e+05</td> <td> 2.15e+05</td>\n",
       "</tr>\n",
       "<tr>\n",
       "  <th>zip_98028</th>  <td> 1.394e+05</td> <td> 8614.075</td> <td>   16.188</td> <td> 0.000</td> <td> 1.23e+05</td> <td> 1.56e+05</td>\n",
       "</tr>\n",
       "<tr>\n",
       "  <th>zip_98029</th>  <td> 2.321e+05</td> <td> 8296.113</td> <td>   27.976</td> <td> 0.000</td> <td> 2.16e+05</td> <td> 2.48e+05</td>\n",
       "</tr>\n",
       "<tr>\n",
       "  <th>zip_98033</th>  <td> 3.671e+05</td> <td> 7362.650</td> <td>   49.864</td> <td> 0.000</td> <td> 3.53e+05</td> <td> 3.82e+05</td>\n",
       "</tr>\n",
       "<tr>\n",
       "  <th>zip_98034</th>  <td> 2.001e+05</td> <td> 6497.502</td> <td>   30.791</td> <td> 0.000</td> <td> 1.87e+05</td> <td> 2.13e+05</td>\n",
       "</tr>\n",
       "<tr>\n",
       "  <th>zip_98039</th>  <td> 8.732e+05</td> <td> 3.27e+04</td> <td>   26.687</td> <td> 0.000</td> <td> 8.09e+05</td> <td> 9.37e+05</td>\n",
       "</tr>\n",
       "<tr>\n",
       "  <th>zip_98040</th>  <td> 5.727e+05</td> <td> 9350.573</td> <td>   61.245</td> <td> 0.000</td> <td> 5.54e+05</td> <td> 5.91e+05</td>\n",
       "</tr>\n",
       "<tr>\n",
       "  <th>zip_98045</th>  <td> 5.007e+04</td> <td> 9781.926</td> <td>    5.119</td> <td> 0.000</td> <td> 3.09e+04</td> <td> 6.92e+04</td>\n",
       "</tr>\n",
       "<tr>\n",
       "  <th>zip_98052</th>  <td> 2.663e+05</td> <td> 6229.180</td> <td>   42.747</td> <td> 0.000</td> <td> 2.54e+05</td> <td> 2.78e+05</td>\n",
       "</tr>\n",
       "<tr>\n",
       "  <th>zip_98053</th>  <td> 1.932e+05</td> <td> 7704.143</td> <td>   25.074</td> <td> 0.000</td> <td> 1.78e+05</td> <td> 2.08e+05</td>\n",
       "</tr>\n",
       "<tr>\n",
       "  <th>zip_98056</th>  <td> 1.044e+05</td> <td> 7326.819</td> <td>   14.255</td> <td> 0.000</td> <td> 9.01e+04</td> <td> 1.19e+05</td>\n",
       "</tr>\n",
       "<tr>\n",
       "  <th>zip_98059</th>  <td> 8.962e+04</td> <td> 6801.868</td> <td>   13.175</td> <td> 0.000</td> <td> 7.63e+04</td> <td> 1.03e+05</td>\n",
       "</tr>\n",
       "<tr>\n",
       "  <th>zip_98065</th>  <td> 9.046e+04</td> <td> 8441.184</td> <td>   10.717</td> <td> 0.000</td> <td> 7.39e+04</td> <td> 1.07e+05</td>\n",
       "</tr>\n",
       "<tr>\n",
       "  <th>zip_98070</th>  <td> 9.983e+04</td> <td> 1.34e+04</td> <td>    7.441</td> <td> 0.000</td> <td> 7.35e+04</td> <td> 1.26e+05</td>\n",
       "</tr>\n",
       "<tr>\n",
       "  <th>zip_98072</th>  <td> 1.564e+05</td> <td> 8719.344</td> <td>   17.936</td> <td> 0.000</td> <td> 1.39e+05</td> <td> 1.73e+05</td>\n",
       "</tr>\n",
       "<tr>\n",
       "  <th>zip_98074</th>  <td> 2.184e+05</td> <td> 7159.919</td> <td>   30.499</td> <td> 0.000</td> <td> 2.04e+05</td> <td> 2.32e+05</td>\n",
       "</tr>\n",
       "<tr>\n",
       "  <th>zip_98075</th>  <td> 2.398e+05</td> <td> 8083.930</td> <td>   29.667</td> <td> 0.000</td> <td> 2.24e+05</td> <td> 2.56e+05</td>\n",
       "</tr>\n",
       "<tr>\n",
       "  <th>zip_98077</th>  <td> 1.322e+05</td> <td> 1.05e+04</td> <td>   12.605</td> <td> 0.000</td> <td> 1.12e+05</td> <td> 1.53e+05</td>\n",
       "</tr>\n",
       "<tr>\n",
       "  <th>zip_98102</th>  <td> 5.525e+05</td> <td> 1.45e+04</td> <td>   38.184</td> <td> 0.000</td> <td> 5.24e+05</td> <td> 5.81e+05</td>\n",
       "</tr>\n",
       "<tr>\n",
       "  <th>zip_98103</th>  <td> 3.968e+05</td> <td> 6242.103</td> <td>   63.563</td> <td> 0.000</td> <td> 3.85e+05</td> <td> 4.09e+05</td>\n",
       "</tr>\n",
       "<tr>\n",
       "  <th>zip_98105</th>  <td> 5.343e+05</td> <td> 9957.771</td> <td>   53.660</td> <td> 0.000</td> <td> 5.15e+05</td> <td> 5.54e+05</td>\n",
       "</tr>\n",
       "<tr>\n",
       "  <th>zip_98106</th>  <td> 1.438e+05</td> <td> 7943.372</td> <td>   18.103</td> <td> 0.000</td> <td> 1.28e+05</td> <td> 1.59e+05</td>\n",
       "</tr>\n",
       "<tr>\n",
       "  <th>zip_98107</th>  <td> 3.956e+05</td> <td> 9317.839</td> <td>   42.457</td> <td> 0.000</td> <td> 3.77e+05</td> <td> 4.14e+05</td>\n",
       "</tr>\n",
       "<tr>\n",
       "  <th>zip_98108</th>  <td>  1.55e+05</td> <td> 1.08e+04</td> <td>   14.298</td> <td> 0.000</td> <td> 1.34e+05</td> <td> 1.76e+05</td>\n",
       "</tr>\n",
       "<tr>\n",
       "  <th>zip_98109</th>  <td> 5.612e+05</td> <td> 1.42e+04</td> <td>   39.557</td> <td> 0.000</td> <td> 5.33e+05</td> <td> 5.89e+05</td>\n",
       "</tr>\n",
       "<tr>\n",
       "  <th>zip_98112</th>  <td> 6.191e+05</td> <td> 9668.143</td> <td>   64.040</td> <td> 0.000</td> <td>    6e+05</td> <td> 6.38e+05</td>\n",
       "</tr>\n",
       "<tr>\n",
       "  <th>zip_98115</th>  <td> 3.999e+05</td> <td> 6224.800</td> <td>   64.248</td> <td> 0.000</td> <td> 3.88e+05</td> <td> 4.12e+05</td>\n",
       "</tr>\n",
       "<tr>\n",
       "  <th>zip_98116</th>  <td> 3.967e+05</td> <td> 7933.515</td> <td>   50.001</td> <td> 0.000</td> <td> 3.81e+05</td> <td> 4.12e+05</td>\n",
       "</tr>\n",
       "<tr>\n",
       "  <th>zip_98117</th>  <td> 3.858e+05</td> <td> 6475.514</td> <td>   59.573</td> <td> 0.000</td> <td> 3.73e+05</td> <td> 3.98e+05</td>\n",
       "</tr>\n",
       "<tr>\n",
       "  <th>zip_98118</th>  <td> 2.151e+05</td> <td> 6754.907</td> <td>   31.839</td> <td> 0.000</td> <td> 2.02e+05</td> <td> 2.28e+05</td>\n",
       "</tr>\n",
       "<tr>\n",
       "  <th>zip_98119</th>  <td> 5.546e+05</td> <td> 1.11e+04</td> <td>   49.818</td> <td> 0.000</td> <td> 5.33e+05</td> <td> 5.76e+05</td>\n",
       "</tr>\n",
       "<tr>\n",
       "  <th>zip_98122</th>  <td>  4.02e+05</td> <td> 8665.367</td> <td>   46.395</td> <td> 0.000</td> <td> 3.85e+05</td> <td> 4.19e+05</td>\n",
       "</tr>\n",
       "<tr>\n",
       "  <th>zip_98125</th>  <td> 2.297e+05</td> <td> 7134.177</td> <td>   32.203</td> <td> 0.000</td> <td> 2.16e+05</td> <td> 2.44e+05</td>\n",
       "</tr>\n",
       "<tr>\n",
       "  <th>zip_98126</th>  <td>  2.48e+05</td> <td> 7854.563</td> <td>   31.571</td> <td> 0.000</td> <td> 2.33e+05</td> <td> 2.63e+05</td>\n",
       "</tr>\n",
       "<tr>\n",
       "  <th>zip_98133</th>  <td> 1.766e+05</td> <td> 6739.748</td> <td>   26.198</td> <td> 0.000</td> <td> 1.63e+05</td> <td>  1.9e+05</td>\n",
       "</tr>\n",
       "<tr>\n",
       "  <th>zip_98136</th>  <td> 3.341e+05</td> <td> 9077.271</td> <td>   36.809</td> <td> 0.000</td> <td> 3.16e+05</td> <td> 3.52e+05</td>\n",
       "</tr>\n",
       "<tr>\n",
       "  <th>zip_98144</th>  <td> 3.411e+05</td> <td> 8316.539</td> <td>   41.009</td> <td> 0.000</td> <td> 3.25e+05</td> <td> 3.57e+05</td>\n",
       "</tr>\n",
       "<tr>\n",
       "  <th>zip_98146</th>  <td> 1.368e+05</td> <td> 8801.318</td> <td>   15.546</td> <td> 0.000</td> <td>  1.2e+05</td> <td> 1.54e+05</td>\n",
       "</tr>\n",
       "<tr>\n",
       "  <th>zip_98155</th>  <td>  1.53e+05</td> <td> 7080.389</td> <td>   21.607</td> <td> 0.000</td> <td> 1.39e+05</td> <td> 1.67e+05</td>\n",
       "</tr>\n",
       "<tr>\n",
       "  <th>zip_98166</th>  <td> 1.463e+05</td> <td> 9265.054</td> <td>   15.791</td> <td> 0.000</td> <td> 1.28e+05</td> <td> 1.64e+05</td>\n",
       "</tr>\n",
       "<tr>\n",
       "  <th>zip_98177</th>  <td> 3.025e+05</td> <td> 9127.887</td> <td>   33.136</td> <td> 0.000</td> <td> 2.85e+05</td> <td>  3.2e+05</td>\n",
       "</tr>\n",
       "<tr>\n",
       "  <th>zip_98199</th>  <td> 4.917e+05</td> <td> 8519.919</td> <td>   57.709</td> <td> 0.000</td> <td> 4.75e+05</td> <td> 5.08e+05</td>\n",
       "</tr>\n",
       "</table>\n",
       "<table class=\"simpletable\">\n",
       "<tr>\n",
       "  <th>Omnibus:</th>       <td>4925.834</td> <th>  Durbin-Watson:     </th> <td>   2.002</td> \n",
       "</tr>\n",
       "<tr>\n",
       "  <th>Prob(Omnibus):</th>  <td> 0.000</td>  <th>  Jarque-Bera (JB):  </th> <td>27420.344</td>\n",
       "</tr>\n",
       "<tr>\n",
       "  <th>Skew:</th>           <td> 1.295</td>  <th>  Prob(JB):          </th> <td>    0.00</td> \n",
       "</tr>\n",
       "<tr>\n",
       "  <th>Kurtosis:</th>       <td> 8.691</td>  <th>  Cond. No.          </th> <td>    49.6</td> \n",
       "</tr>\n",
       "</table><br/><br/>Notes:<br/>[1] Standard Errors assume that the covariance matrix of the errors is correctly specified."
      ],
      "text/plain": [
       "<class 'statsmodels.iolib.summary.Summary'>\n",
       "\"\"\"\n",
       "                            OLS Regression Results                            \n",
       "==============================================================================\n",
       "Dep. Variable:              y_train_c   R-squared:                       0.756\n",
       "Model:                            OLS   Adj. R-squared:                  0.755\n",
       "Method:                 Least Squares   F-statistic:                     929.5\n",
       "Date:                Mon, 22 Mar 2021   Prob (F-statistic):               0.00\n",
       "Time:                        17:32:09   Log-Likelihood:            -2.2159e+05\n",
       "No. Observations:               16832   AIC:                         4.433e+05\n",
       "Df Residuals:                   16775   BIC:                         4.437e+05\n",
       "Df Model:                          56                                         \n",
       "Covariance Type:            nonrobust                                         \n",
       "==============================================================================\n",
       "                 coef    std err          t      P>|t|      [0.025      0.975]\n",
       "------------------------------------------------------------------------------\n",
       "Intercept   3.023e+05   1952.671    154.839      0.000    2.99e+05    3.06e+05\n",
       "bathrooms   4.727e+04   1387.613     34.063      0.000    4.45e+04       5e+04\n",
       "bedrooms    1945.3820   1191.163      1.633      0.102    -389.424    4280.188\n",
       "sqft_lot    4.949e+04   1253.152     39.493      0.000     4.7e+04    5.19e+04\n",
       "sqft_above  1.061e+05   1467.632     72.267      0.000    1.03e+05    1.09e+05\n",
       "zip_98004    6.54e+05   9579.652     68.273      0.000    6.35e+05    6.73e+05\n",
       "zip_98005    3.78e+05   1.13e+04     33.489      0.000    3.56e+05       4e+05\n",
       "zip_98006    3.71e+05   6842.081     54.227      0.000    3.58e+05    3.84e+05\n",
       "zip_98007   2.818e+05   1.23e+04     22.844      0.000    2.58e+05    3.06e+05\n",
       "zip_98008   2.873e+05   8815.514     32.592      0.000     2.7e+05    3.05e+05\n",
       "zip_98010   1.082e+04   1.43e+04      0.759      0.448   -1.71e+04    3.88e+04\n",
       "zip_98011   1.385e+05   1.01e+04     13.756      0.000    1.19e+05    1.58e+05\n",
       "zip_98014   3.126e+04   1.33e+04      2.358      0.018    5272.392    5.73e+04\n",
       "zip_98019   3.278e+04   1.04e+04      3.160      0.002    1.24e+04    5.31e+04\n",
       "zip_98024   9.011e+04   1.83e+04      4.922      0.000    5.42e+04    1.26e+05\n",
       "zip_98027   2.013e+05   7218.532     27.880      0.000    1.87e+05    2.15e+05\n",
       "zip_98028   1.394e+05   8614.075     16.188      0.000    1.23e+05    1.56e+05\n",
       "zip_98029   2.321e+05   8296.113     27.976      0.000    2.16e+05    2.48e+05\n",
       "zip_98033   3.671e+05   7362.650     49.864      0.000    3.53e+05    3.82e+05\n",
       "zip_98034   2.001e+05   6497.502     30.791      0.000    1.87e+05    2.13e+05\n",
       "zip_98039   8.732e+05   3.27e+04     26.687      0.000    8.09e+05    9.37e+05\n",
       "zip_98040   5.727e+05   9350.573     61.245      0.000    5.54e+05    5.91e+05\n",
       "zip_98045   5.007e+04   9781.926      5.119      0.000    3.09e+04    6.92e+04\n",
       "zip_98052   2.663e+05   6229.180     42.747      0.000    2.54e+05    2.78e+05\n",
       "zip_98053   1.932e+05   7704.143     25.074      0.000    1.78e+05    2.08e+05\n",
       "zip_98056   1.044e+05   7326.819     14.255      0.000    9.01e+04    1.19e+05\n",
       "zip_98059   8.962e+04   6801.868     13.175      0.000    7.63e+04    1.03e+05\n",
       "zip_98065   9.046e+04   8441.184     10.717      0.000    7.39e+04    1.07e+05\n",
       "zip_98070   9.983e+04   1.34e+04      7.441      0.000    7.35e+04    1.26e+05\n",
       "zip_98072   1.564e+05   8719.344     17.936      0.000    1.39e+05    1.73e+05\n",
       "zip_98074   2.184e+05   7159.919     30.499      0.000    2.04e+05    2.32e+05\n",
       "zip_98075   2.398e+05   8083.930     29.667      0.000    2.24e+05    2.56e+05\n",
       "zip_98077   1.322e+05   1.05e+04     12.605      0.000    1.12e+05    1.53e+05\n",
       "zip_98102   5.525e+05   1.45e+04     38.184      0.000    5.24e+05    5.81e+05\n",
       "zip_98103   3.968e+05   6242.103     63.563      0.000    3.85e+05    4.09e+05\n",
       "zip_98105   5.343e+05   9957.771     53.660      0.000    5.15e+05    5.54e+05\n",
       "zip_98106   1.438e+05   7943.372     18.103      0.000    1.28e+05    1.59e+05\n",
       "zip_98107   3.956e+05   9317.839     42.457      0.000    3.77e+05    4.14e+05\n",
       "zip_98108    1.55e+05   1.08e+04     14.298      0.000    1.34e+05    1.76e+05\n",
       "zip_98109   5.612e+05   1.42e+04     39.557      0.000    5.33e+05    5.89e+05\n",
       "zip_98112   6.191e+05   9668.143     64.040      0.000       6e+05    6.38e+05\n",
       "zip_98115   3.999e+05   6224.800     64.248      0.000    3.88e+05    4.12e+05\n",
       "zip_98116   3.967e+05   7933.515     50.001      0.000    3.81e+05    4.12e+05\n",
       "zip_98117   3.858e+05   6475.514     59.573      0.000    3.73e+05    3.98e+05\n",
       "zip_98118   2.151e+05   6754.907     31.839      0.000    2.02e+05    2.28e+05\n",
       "zip_98119   5.546e+05   1.11e+04     49.818      0.000    5.33e+05    5.76e+05\n",
       "zip_98122    4.02e+05   8665.367     46.395      0.000    3.85e+05    4.19e+05\n",
       "zip_98125   2.297e+05   7134.177     32.203      0.000    2.16e+05    2.44e+05\n",
       "zip_98126    2.48e+05   7854.563     31.571      0.000    2.33e+05    2.63e+05\n",
       "zip_98133   1.766e+05   6739.748     26.198      0.000    1.63e+05     1.9e+05\n",
       "zip_98136   3.341e+05   9077.271     36.809      0.000    3.16e+05    3.52e+05\n",
       "zip_98144   3.411e+05   8316.539     41.009      0.000    3.25e+05    3.57e+05\n",
       "zip_98146   1.368e+05   8801.318     15.546      0.000     1.2e+05    1.54e+05\n",
       "zip_98155    1.53e+05   7080.389     21.607      0.000    1.39e+05    1.67e+05\n",
       "zip_98166   1.463e+05   9265.054     15.791      0.000    1.28e+05    1.64e+05\n",
       "zip_98177   3.025e+05   9127.887     33.136      0.000    2.85e+05     3.2e+05\n",
       "zip_98199   4.917e+05   8519.919     57.709      0.000    4.75e+05    5.08e+05\n",
       "==============================================================================\n",
       "Omnibus:                     4925.834   Durbin-Watson:                   2.002\n",
       "Prob(Omnibus):                  0.000   Jarque-Bera (JB):            27420.344\n",
       "Skew:                           1.295   Prob(JB):                         0.00\n",
       "Kurtosis:                       8.691   Cond. No.                         49.6\n",
       "==============================================================================\n",
       "\n",
       "Notes:\n",
       "[1] Standard Errors assume that the covariance matrix of the errors is correctly specified.\n",
       "\"\"\""
      ]
     },
     "execution_count": 81,
     "metadata": {},
     "output_type": "execute_result"
    }
   ],
   "source": [
    "model_c_ols = ols(formula=formula_c, data=data_c).fit()\n",
    "model_c_ols.summary()"
   ]
  },
  {
   "cell_type": "markdown",
   "metadata": {},
   "source": [
    "## Model C Evaluation"
   ]
  },
  {
   "cell_type": "code",
   "execution_count": 82,
   "metadata": {},
   "outputs": [
    {
     "data": {
      "text/plain": [
       "LinearRegression()"
      ]
     },
     "execution_count": 82,
     "metadata": {},
     "output_type": "execute_result"
    }
   ],
   "source": [
    "model_c_lr = LinearRegression()\n",
    "model_c_lr.fit(X_train_c,y_train_c)"
   ]
  },
  {
   "cell_type": "code",
   "execution_count": 83,
   "metadata": {},
   "outputs": [],
   "source": [
    "y_train_pred_c = model_c_lr.predict(X_train_c)\n",
    "y_test_pred_c = model_c_lr.predict(X_test_c)"
   ]
  },
  {
   "cell_type": "code",
   "execution_count": 84,
   "metadata": {},
   "outputs": [
    {
     "name": "stdout",
     "output_type": "stream",
     "text": [
      "Train Mean Absolute Error: 87627.8346856964\n",
      "Test Mean Absolute Error: 91494.05965551794\n"
     ]
    }
   ],
   "source": [
    "print('Train Mean Absolute Error:',metrics.mean_absolute_error(y_train_c, y_train_pred_c))\n",
    "print('Test Mean Absolute Error:',metrics.mean_absolute_error(y_test_c, y_test_pred_c))"
   ]
  },
  {
   "cell_type": "code",
   "execution_count": 85,
   "metadata": {},
   "outputs": [
    {
     "name": "stdout",
     "output_type": "stream",
     "text": [
      "Train Mean Squared Error: 15942916481.710066\n",
      "Test Mean Squared Error: 18275280439.933525\n"
     ]
    }
   ],
   "source": [
    "print('Train Mean Squared Error:',metrics.mean_squared_error(y_train_c, y_train_pred_c))\n",
    "print('Test Mean Squared Error:',metrics.mean_squared_error(y_test_c, y_test_pred_c))"
   ]
  },
  {
   "cell_type": "code",
   "execution_count": 86,
   "metadata": {},
   "outputs": [
    {
     "name": "stdout",
     "output_type": "stream",
     "text": [
      "Train Root Mean Squared Error: 212551.01745411288\n",
      "Test Root Mean Squared Error: 215931.77439286857\n"
     ]
    }
   ],
   "source": [
    "print('Train Root Mean Squared Error:',np.sqrt(metrics.mean_squared_error(y_train_b, y_train_pred_b)))\n",
    "print('Test Root Mean Squared Error:',np.sqrt(metrics.mean_squared_error(y_test_b, y_test_pred_b)))"
   ]
  },
  {
   "cell_type": "code",
   "execution_count": 87,
   "metadata": {},
   "outputs": [
    {
     "data": {
      "text/plain": [
       "21069    192121.645582\n",
       "21517     -1570.227166\n",
       "18728    -34789.907673\n",
       "7977      48943.930369\n",
       "13857     52930.800866\n",
       "             ...      \n",
       "20428   -138605.671559\n",
       "3124     -47285.651831\n",
       "17074     83950.355393\n",
       "4947      39830.857350\n",
       "3849    -379025.722705\n",
       "Name: price, Length: 4208, dtype: float64"
      ]
     },
     "execution_count": 87,
     "metadata": {},
     "output_type": "execute_result"
    }
   ],
   "source": [
    "resid_c = y_test_pred_c - y_test_c\n",
    "resid_c"
   ]
  },
  {
   "cell_type": "code",
   "execution_count": 88,
   "metadata": {},
   "outputs": [
    {
     "data": {
      "image/png": "[encoded data removed]",
      "text/plain": [
       "<Figure size 360x360 with 1 Axes>"
      ]
     },
     "metadata": {
      "needs_background": "light"
     },
     "output_type": "display_data"
    }
   ],
   "source": [
    "sns.displot(x=resid_c,kind='hist',kde=True);"
   ]
  },
  {
   "cell_type": "code",
   "execution_count": 89,
   "metadata": {},
   "outputs": [
    {
     "data": {
      "image/png": "[encoded data removed]",
      "text/plain": [
       "<Figure size 432x288 with 1 Axes>"
      ]
     },
     "metadata": {
      "needs_background": "light"
     },
     "output_type": "display_data"
    }
   ],
   "source": [
    "fig = sm.graphics.qqplot(resid_c, dist=stats.norm, line='45',fit=True)"
   ]
  },
  {
   "cell_type": "code",
   "execution_count": 90,
   "metadata": {},
   "outputs": [
    {
     "data": {
      "text/plain": [
       "<matplotlib.collections.LineCollection at 0x7f85d51a9ee0>"
      ]
     },
     "execution_count": 90,
     "metadata": {},
     "output_type": "execute_result"
    },
    {
     "data": {
      "image/png": "[encoded data removed]",
      "text/plain": [
       "<Figure size 432x288 with 1 Axes>"
      ]
     },
     "metadata": {
      "needs_background": "light"
     },
     "output_type": "display_data"
    }
   ],
   "source": [
    "plt.scatter(y_test_pred_c, resid_c)\n",
    "plt.hlines(y=0, xmin=y_test_pred_c.min(), xmax=y_test_pred_c.max())"
   ]
  },
  {
   "cell_type": "code",
   "execution_count": 91,
   "metadata": {},
   "outputs": [
    {
     "data": {
      "text/plain": [
       "Text(0.5, 1.0, 'Actual vs. Predicted')"
      ]
     },
     "execution_count": 91,
     "metadata": {},
     "output_type": "execute_result"
    },
    {
     "data": {
      "image/png": "[encoded data removed]",
      "text/plain": [
       "<Figure size 1080x720 with 1 Axes>"
      ]
     },
     "metadata": {
      "needs_background": "light"
     },
     "output_type": "display_data"
    }
   ],
   "source": [
    "plt.figure(figsize=(15,10))\n",
    "plt.scatter(y_test_c, y_test_pred_c)\n",
    "plt.xlabel('Actual')\n",
    "plt.ylabel('Predicted')\n",
    "plt.title('Actual vs. Predicted')"
   ]
  },
  {
   "cell_type": "code",
   "execution_count": 92,
   "metadata": {},
   "outputs": [
    {
     "data": {
      "text/plain": [
       "array([0.73035495, 0.71383729, 0.68529982, 0.72772564, 0.7673963 ])"
      ]
     },
     "execution_count": 92,
     "metadata": {},
     "output_type": "execute_result"
    }
   ],
   "source": [
    "model_c_scores = cross_val_score(model_c_lr, X_test_c, y_test_c, cv=5)\n",
    "model_c_scores"
   ]
  },
  {
   "cell_type": "code",
   "execution_count": 93,
   "metadata": {},
   "outputs": [
    {
     "data": {
      "text/plain": [
       "(0.7249227989485183, 0.026586579102625185)"
      ]
     },
     "execution_count": 93,
     "metadata": {},
     "output_type": "execute_result"
    }
   ],
   "source": [
    "model_c_scores.mean(), model_c_scores.std()"
   ]
  },
  {
   "cell_type": "markdown",
   "metadata": {},
   "source": [
    "# Model D"
   ]
  },
  {
   "cell_type": "markdown",
   "metadata": {},
   "source": [
    "## Feature Engineering"
   ]
  },
  {
   "cell_type": "markdown",
   "metadata": {},
   "source": [
    "### Remove Outliers"
   ]
  },
  {
   "cell_type": "code",
   "execution_count": 94,
   "metadata": {},
   "outputs": [
    {
     "data": {
      "text/plain": [
       "918.1061250800805"
      ]
     },
     "execution_count": 94,
     "metadata": {},
     "output_type": "execute_result"
    }
   ],
   "source": [
    "df_filtered.sqft_living.std()"
   ]
  },
  {
   "cell_type": "code",
   "execution_count": 95,
   "metadata": {},
   "outputs": [
    {
     "data": {
      "text/plain": [
       "4834.640225497222"
      ]
     },
     "execution_count": 95,
     "metadata": {},
     "output_type": "execute_result"
    }
   ],
   "source": [
    "upper_limit_sqft = df_filtered.sqft_living.mean() + 3*df_filtered.sqft_living.std()\n",
    "upper_limit_sqft"
   ]
  },
  {
   "cell_type": "code",
   "execution_count": 96,
   "metadata": {},
   "outputs": [
    {
     "data": {
      "text/plain": [
       "-673.9965249832612"
      ]
     },
     "execution_count": 96,
     "metadata": {},
     "output_type": "execute_result"
    }
   ],
   "source": [
    "lower_limit_sqft = df_filtered.sqft_living.mean() - 3*df_filtered.sqft_living.std()\n",
    "lower_limit_sqft"
   ]
  },
  {
   "cell_type": "code",
   "execution_count": 97,
   "metadata": {},
   "outputs": [
    {
     "data": {
      "text/plain": [
       "41412.636875502074"
      ]
     },
     "execution_count": 97,
     "metadata": {},
     "output_type": "execute_result"
    }
   ],
   "source": [
    "df_filtered.sqft_lot.std()"
   ]
  },
  {
   "cell_type": "code",
   "execution_count": 98,
   "metadata": {},
   "outputs": [
    {
     "data": {
      "text/plain": [
       "139337.3193869822"
      ]
     },
     "execution_count": 98,
     "metadata": {},
     "output_type": "execute_result"
    }
   ],
   "source": [
    "upper_limit_lot = df_filtered.sqft_lot.mean() + 3*df_filtered.sqft_lot.std()\n",
    "upper_limit_lot"
   ]
  },
  {
   "cell_type": "code",
   "execution_count": 99,
   "metadata": {},
   "outputs": [
    {
     "data": {
      "text/plain": [
       "-109138.50186603024"
      ]
     },
     "execution_count": 99,
     "metadata": {},
     "output_type": "execute_result"
    }
   ],
   "source": [
    "lower_limit_lot = df_filtered.sqft_lot.mean() - 3*df_filtered.sqft_lot.std()\n",
    "lower_limit_lot"
   ]
  },
  {
   "cell_type": "code",
   "execution_count": 100,
   "metadata": {},
   "outputs": [
    {
     "data": {
      "text/html": [
       "<div>\n",
       "<style scoped>\n",
       "    .dataframe tbody tr th:only-of-type {\n",
       "        vertical-align: middle;\n",
       "    }\n",
       "\n",
       "    .dataframe tbody tr th {\n",
       "        vertical-align: top;\n",
       "    }\n",
       "\n",
       "    .dataframe thead th {\n",
       "        text-align: right;\n",
       "    }\n",
       "</style>\n",
       "<table border=\"1\" class=\"dataframe\">\n",
       "  <thead>\n",
       "    <tr style=\"text-align: right;\">\n",
       "      <th></th>\n",
       "      <th>price</th>\n",
       "      <th>bedrooms</th>\n",
       "      <th>bathrooms</th>\n",
       "      <th>sqft_living</th>\n",
       "      <th>sqft_lot</th>\n",
       "      <th>floors</th>\n",
       "      <th>condition</th>\n",
       "      <th>grade</th>\n",
       "      <th>sqft_above</th>\n",
       "      <th>yr_built</th>\n",
       "    </tr>\n",
       "  </thead>\n",
       "  <tbody>\n",
       "    <tr>\n",
       "      <th>count</th>\n",
       "      <td>2.064000e+04</td>\n",
       "      <td>20640.000000</td>\n",
       "      <td>20640.000000</td>\n",
       "      <td>20640.000000</td>\n",
       "      <td>20640.000000</td>\n",
       "      <td>20640.000000</td>\n",
       "      <td>20640.000000</td>\n",
       "      <td>20640.000000</td>\n",
       "      <td>20640.000000</td>\n",
       "      <td>20640.000000</td>\n",
       "    </tr>\n",
       "    <tr>\n",
       "      <th>mean</th>\n",
       "      <td>5.002343e+05</td>\n",
       "      <td>3.332655</td>\n",
       "      <td>2.061604</td>\n",
       "      <td>1995.320155</td>\n",
       "      <td>10680.678004</td>\n",
       "      <td>1.481420</td>\n",
       "      <td>3.412258</td>\n",
       "      <td>7.576744</td>\n",
       "      <td>1719.515795</td>\n",
       "      <td>1970.606347</td>\n",
       "    </tr>\n",
       "    <tr>\n",
       "      <th>std</th>\n",
       "      <td>2.531872e+05</td>\n",
       "      <td>0.860152</td>\n",
       "      <td>0.703132</td>\n",
       "      <td>782.278708</td>\n",
       "      <td>13530.221307</td>\n",
       "      <td>0.538508</td>\n",
       "      <td>0.650489</td>\n",
       "      <td>1.079801</td>\n",
       "      <td>730.398822</td>\n",
       "      <td>29.333977</td>\n",
       "    </tr>\n",
       "    <tr>\n",
       "      <th>min</th>\n",
       "      <td>7.800000e+04</td>\n",
       "      <td>1.000000</td>\n",
       "      <td>0.500000</td>\n",
       "      <td>370.000000</td>\n",
       "      <td>520.000000</td>\n",
       "      <td>1.000000</td>\n",
       "      <td>1.000000</td>\n",
       "      <td>3.000000</td>\n",
       "      <td>370.000000</td>\n",
       "      <td>1900.000000</td>\n",
       "    </tr>\n",
       "    <tr>\n",
       "      <th>25%</th>\n",
       "      <td>3.170000e+05</td>\n",
       "      <td>3.000000</td>\n",
       "      <td>1.500000</td>\n",
       "      <td>1410.000000</td>\n",
       "      <td>5000.000000</td>\n",
       "      <td>1.000000</td>\n",
       "      <td>3.000000</td>\n",
       "      <td>7.000000</td>\n",
       "      <td>1180.000000</td>\n",
       "      <td>1951.000000</td>\n",
       "    </tr>\n",
       "    <tr>\n",
       "      <th>50%</th>\n",
       "      <td>4.410000e+05</td>\n",
       "      <td>3.000000</td>\n",
       "      <td>2.250000</td>\n",
       "      <td>1870.000000</td>\n",
       "      <td>7495.000000</td>\n",
       "      <td>1.000000</td>\n",
       "      <td>3.000000</td>\n",
       "      <td>7.000000</td>\n",
       "      <td>1530.000000</td>\n",
       "      <td>1974.000000</td>\n",
       "    </tr>\n",
       "    <tr>\n",
       "      <th>75%</th>\n",
       "      <td>6.200000e+05</td>\n",
       "      <td>4.000000</td>\n",
       "      <td>2.500000</td>\n",
       "      <td>2470.000000</td>\n",
       "      <td>10200.000000</td>\n",
       "      <td>2.000000</td>\n",
       "      <td>4.000000</td>\n",
       "      <td>8.000000</td>\n",
       "      <td>2120.000000</td>\n",
       "      <td>1996.000000</td>\n",
       "    </tr>\n",
       "    <tr>\n",
       "      <th>max</th>\n",
       "      <td>1.640000e+06</td>\n",
       "      <td>6.000000</td>\n",
       "      <td>4.250000</td>\n",
       "      <td>4800.000000</td>\n",
       "      <td>138085.000000</td>\n",
       "      <td>3.500000</td>\n",
       "      <td>5.000000</td>\n",
       "      <td>12.000000</td>\n",
       "      <td>4800.000000</td>\n",
       "      <td>2015.000000</td>\n",
       "    </tr>\n",
       "  </tbody>\n",
       "</table>\n",
       "</div>"
      ],
      "text/plain": [
       "              price      bedrooms     bathrooms   sqft_living       sqft_lot  \\\n",
       "count  2.064000e+04  20640.000000  20640.000000  20640.000000   20640.000000   \n",
       "mean   5.002343e+05      3.332655      2.061604   1995.320155   10680.678004   \n",
       "std    2.531872e+05      0.860152      0.703132    782.278708   13530.221307   \n",
       "min    7.800000e+04      1.000000      0.500000    370.000000     520.000000   \n",
       "25%    3.170000e+05      3.000000      1.500000   1410.000000    5000.000000   \n",
       "50%    4.410000e+05      3.000000      2.250000   1870.000000    7495.000000   \n",
       "75%    6.200000e+05      4.000000      2.500000   2470.000000   10200.000000   \n",
       "max    1.640000e+06      6.000000      4.250000   4800.000000  138085.000000   \n",
       "\n",
       "             floors     condition         grade    sqft_above      yr_built  \n",
       "count  20640.000000  20640.000000  20640.000000  20640.000000  20640.000000  \n",
       "mean       1.481420      3.412258      7.576744   1719.515795   1970.606347  \n",
       "std        0.538508      0.650489      1.079801    730.398822     29.333977  \n",
       "min        1.000000      1.000000      3.000000    370.000000   1900.000000  \n",
       "25%        1.000000      3.000000      7.000000   1180.000000   1951.000000  \n",
       "50%        1.000000      3.000000      7.000000   1530.000000   1974.000000  \n",
       "75%        2.000000      4.000000      8.000000   2120.000000   1996.000000  \n",
       "max        3.500000      5.000000     12.000000   4800.000000   2015.000000  "
      ]
     },
     "execution_count": 100,
     "metadata": {},
     "output_type": "execute_result"
    }
   ],
   "source": [
    "df_outliers_2=df_outliers[(df_filtered.sqft_living<upper_limit_sqft) & (df_filtered.sqft_living>lower_limit_sqft) \n",
    "                         & (df_filtered.sqft_lot<upper_limit_lot) & (df_filtered.sqft_lot>lower_limit_lot)]\n",
    "df_outliers_2.describe()"
   ]
  },
  {
   "cell_type": "code",
   "execution_count": 101,
   "metadata": {},
   "outputs": [
    {
     "data": {
      "image/png": "[encoded data removed]",
      "text/plain": [
       "<Figure size 1440x720 with 12 Axes>"
      ]
     },
     "metadata": {
      "needs_background": "light"
     },
     "output_type": "display_data"
    }
   ],
   "source": [
    "import warnings\n",
    "warnings.filterwarnings('ignore')\n",
    "fig = plt.figure(figsize = (20,10))\n",
    "ax = fig.gca()\n",
    "df_outliers_2.hist(ax = ax);"
   ]
  },
  {
   "cell_type": "code",
   "execution_count": 102,
   "metadata": {},
   "outputs": [],
   "source": [
    "price_d = df_outliers_2['price']\n",
    "grade_d = df_outliers_2['grade']\n",
    "scaled_grade_d = (grade_d-np.mean(grade_d))/np.sqrt(np.var(grade_d))\n",
    "bathrooms_d = df_outliers_2['bathrooms']\n",
    "scaled_bath_d = (bathrooms_d-np.mean(bathrooms_d))/np.sqrt(np.var(bathrooms_d))\n",
    "bedrooms_d = df_outliers_2['bedrooms']\n",
    "scaled_bed_d = (bedrooms_d-np.mean(bedrooms_d))/np.sqrt(np.var(bedrooms_d))\n",
    "sqft_living_d = df_outliers_2['sqft_living']\n",
    "scaled_sqftl_d = (sqft_living_d-np.mean(sqft_living_d))/np.sqrt(np.var(sqft_living_d))\n",
    "zip_dummies_d = pd.get_dummies(df_outliers_2['zipcode'], prefix='zip', drop_first=True)\n",
    "updated_zip_d = zip_dummies_d.drop(['zip_98002','zip_98003','zip_98022','zip_98023','zip_98030','zip_98031',\n",
    "                                'zip_98032','zip_98038','zip_98042','zip_98055','zip_98058','zip_98092',\n",
    "                                  'zip_98188','zip_98168','zip_98178','zip_98188','zip_98148','zip_98198'], axis=1)\n",
    "log_yr_d = np.log(df_outliers_2['yr_built'])\n",
    "scaled_yr_d = (log_yr_d-np.mean(log_yr_d))/np.sqrt(np.var(log_yr_d))"
   ]
  },
  {
   "cell_type": "markdown",
   "metadata": {},
   "source": [
    "## Model D Training"
   ]
  },
  {
   "cell_type": "code",
   "execution_count": 103,
   "metadata": {},
   "outputs": [
    {
     "data": {
      "text/html": [
       "<div>\n",
       "<style scoped>\n",
       "    .dataframe tbody tr th:only-of-type {\n",
       "        vertical-align: middle;\n",
       "    }\n",
       "\n",
       "    .dataframe tbody tr th {\n",
       "        vertical-align: top;\n",
       "    }\n",
       "\n",
       "    .dataframe thead th {\n",
       "        text-align: right;\n",
       "    }\n",
       "</style>\n",
       "<table border=\"1\" class=\"dataframe\">\n",
       "  <thead>\n",
       "    <tr style=\"text-align: right;\">\n",
       "      <th></th>\n",
       "      <th>price</th>\n",
       "      <th>bathrooms</th>\n",
       "      <th>bedrooms</th>\n",
       "      <th>grade</th>\n",
       "      <th>sqft_living</th>\n",
       "      <th>zip_98004</th>\n",
       "      <th>zip_98005</th>\n",
       "      <th>zip_98006</th>\n",
       "      <th>zip_98007</th>\n",
       "      <th>zip_98008</th>\n",
       "      <th>...</th>\n",
       "      <th>zip_98126</th>\n",
       "      <th>zip_98133</th>\n",
       "      <th>zip_98136</th>\n",
       "      <th>zip_98144</th>\n",
       "      <th>zip_98146</th>\n",
       "      <th>zip_98155</th>\n",
       "      <th>zip_98166</th>\n",
       "      <th>zip_98177</th>\n",
       "      <th>zip_98199</th>\n",
       "      <th>yr_built</th>\n",
       "    </tr>\n",
       "  </thead>\n",
       "  <tbody>\n",
       "    <tr>\n",
       "      <th>0</th>\n",
       "      <td>221900.0</td>\n",
       "      <td>-1.509859</td>\n",
       "      <td>-0.386749</td>\n",
       "      <td>-0.534134</td>\n",
       "      <td>-1.042263</td>\n",
       "      <td>0</td>\n",
       "      <td>0</td>\n",
       "      <td>0</td>\n",
       "      <td>0</td>\n",
       "      <td>0</td>\n",
       "      <td>...</td>\n",
       "      <td>0</td>\n",
       "      <td>0</td>\n",
       "      <td>0</td>\n",
       "      <td>0</td>\n",
       "      <td>0</td>\n",
       "      <td>0</td>\n",
       "      <td>0</td>\n",
       "      <td>0</td>\n",
       "      <td>0</td>\n",
       "      <td>-0.524821</td>\n",
       "    </tr>\n",
       "    <tr>\n",
       "      <th>1</th>\n",
       "      <td>538000.0</td>\n",
       "      <td>0.267945</td>\n",
       "      <td>-0.386749</td>\n",
       "      <td>-0.534134</td>\n",
       "      <td>0.734641</td>\n",
       "      <td>0</td>\n",
       "      <td>0</td>\n",
       "      <td>0</td>\n",
       "      <td>0</td>\n",
       "      <td>0</td>\n",
       "      <td>...</td>\n",
       "      <td>0</td>\n",
       "      <td>0</td>\n",
       "      <td>0</td>\n",
       "      <td>0</td>\n",
       "      <td>0</td>\n",
       "      <td>0</td>\n",
       "      <td>0</td>\n",
       "      <td>0</td>\n",
       "      <td>0</td>\n",
       "      <td>-0.661930</td>\n",
       "    </tr>\n",
       "    <tr>\n",
       "      <th>2</th>\n",
       "      <td>180000.0</td>\n",
       "      <td>-1.509859</td>\n",
       "      <td>-1.549363</td>\n",
       "      <td>-1.460253</td>\n",
       "      <td>-1.566385</td>\n",
       "      <td>0</td>\n",
       "      <td>0</td>\n",
       "      <td>0</td>\n",
       "      <td>0</td>\n",
       "      <td>0</td>\n",
       "      <td>...</td>\n",
       "      <td>0</td>\n",
       "      <td>0</td>\n",
       "      <td>0</td>\n",
       "      <td>0</td>\n",
       "      <td>0</td>\n",
       "      <td>0</td>\n",
       "      <td>0</td>\n",
       "      <td>0</td>\n",
       "      <td>0</td>\n",
       "      <td>-1.282418</td>\n",
       "    </tr>\n",
       "    <tr>\n",
       "      <th>3</th>\n",
       "      <td>604000.0</td>\n",
       "      <td>1.334628</td>\n",
       "      <td>0.775864</td>\n",
       "      <td>-0.534134</td>\n",
       "      <td>-0.045151</td>\n",
       "      <td>0</td>\n",
       "      <td>0</td>\n",
       "      <td>0</td>\n",
       "      <td>0</td>\n",
       "      <td>0</td>\n",
       "      <td>...</td>\n",
       "      <td>0</td>\n",
       "      <td>0</td>\n",
       "      <td>1</td>\n",
       "      <td>0</td>\n",
       "      <td>0</td>\n",
       "      <td>0</td>\n",
       "      <td>0</td>\n",
       "      <td>0</td>\n",
       "      <td>0</td>\n",
       "      <td>-0.183273</td>\n",
       "    </tr>\n",
       "    <tr>\n",
       "      <th>4</th>\n",
       "      <td>510000.0</td>\n",
       "      <td>-0.087615</td>\n",
       "      <td>-0.386749</td>\n",
       "      <td>0.391985</td>\n",
       "      <td>-0.403089</td>\n",
       "      <td>0</td>\n",
       "      <td>0</td>\n",
       "      <td>0</td>\n",
       "      <td>0</td>\n",
       "      <td>0</td>\n",
       "      <td>...</td>\n",
       "      <td>0</td>\n",
       "      <td>0</td>\n",
       "      <td>0</td>\n",
       "      <td>0</td>\n",
       "      <td>0</td>\n",
       "      <td>0</td>\n",
       "      <td>0</td>\n",
       "      <td>0</td>\n",
       "      <td>0</td>\n",
       "      <td>0.562055</td>\n",
       "    </tr>\n",
       "  </tbody>\n",
       "</table>\n",
       "<p>5 rows × 58 columns</p>\n",
       "</div>"
      ],
      "text/plain": [
       "      price  bathrooms  bedrooms     grade  sqft_living  zip_98004  zip_98005  \\\n",
       "0  221900.0  -1.509859 -0.386749 -0.534134    -1.042263          0          0   \n",
       "1  538000.0   0.267945 -0.386749 -0.534134     0.734641          0          0   \n",
       "2  180000.0  -1.509859 -1.549363 -1.460253    -1.566385          0          0   \n",
       "3  604000.0   1.334628  0.775864 -0.534134    -0.045151          0          0   \n",
       "4  510000.0  -0.087615 -0.386749  0.391985    -0.403089          0          0   \n",
       "\n",
       "   zip_98006  zip_98007  zip_98008  ...  zip_98126  zip_98133  zip_98136  \\\n",
       "0          0          0          0  ...          0          0          0   \n",
       "1          0          0          0  ...          0          0          0   \n",
       "2          0          0          0  ...          0          0          0   \n",
       "3          0          0          0  ...          0          0          1   \n",
       "4          0          0          0  ...          0          0          0   \n",
       "\n",
       "   zip_98144  zip_98146  zip_98155  zip_98166  zip_98177  zip_98199  yr_built  \n",
       "0          0          0          0          0          0          0 -0.524821  \n",
       "1          0          0          0          0          0          0 -0.661930  \n",
       "2          0          0          0          0          0          0 -1.282418  \n",
       "3          0          0          0          0          0          0 -0.183273  \n",
       "4          0          0          0          0          0          0  0.562055  \n",
       "\n",
       "[5 rows x 58 columns]"
      ]
     },
     "execution_count": 103,
     "metadata": {},
     "output_type": "execute_result"
    }
   ],
   "source": [
    "model_d = pd.concat([price_d, scaled_bath_d, scaled_bed_d, scaled_grade_d, \n",
    "                     scaled_sqftl_d, updated_zip_d, scaled_yr_d], axis=1)\n",
    "model_d.head()"
   ]
  },
  {
   "cell_type": "code",
   "execution_count": 104,
   "metadata": {},
   "outputs": [],
   "source": [
    "target_d = model_d['price']\n",
    "features_d = model_d.drop(['price'], axis=1)\n",
    "\n",
    "X_train_d, X_test_d, y_train_d, y_test_d = train_test_split(features_d,target_d,test_size=0.2,random_state=42)"
   ]
  },
  {
   "cell_type": "code",
   "execution_count": 105,
   "metadata": {},
   "outputs": [],
   "source": [
    "outcome_d = 'y_train_d'\n",
    "predictors_d = X_train_d\n",
    "pred_sum_d = '+'.join(predictors_d.columns)\n",
    "formula_d = outcome_d + '~' + pred_sum_d"
   ]
  },
  {
   "cell_type": "code",
   "execution_count": 106,
   "metadata": {},
   "outputs": [
    {
     "data": {
      "text/html": [
       "<div>\n",
       "<style scoped>\n",
       "    .dataframe tbody tr th:only-of-type {\n",
       "        vertical-align: middle;\n",
       "    }\n",
       "\n",
       "    .dataframe tbody tr th {\n",
       "        vertical-align: top;\n",
       "    }\n",
       "\n",
       "    .dataframe thead th {\n",
       "        text-align: right;\n",
       "    }\n",
       "</style>\n",
       "<table border=\"1\" class=\"dataframe\">\n",
       "  <thead>\n",
       "    <tr style=\"text-align: right;\">\n",
       "      <th></th>\n",
       "      <th>bathrooms</th>\n",
       "      <th>bedrooms</th>\n",
       "      <th>grade</th>\n",
       "      <th>sqft_living</th>\n",
       "      <th>zip_98004</th>\n",
       "      <th>zip_98005</th>\n",
       "      <th>zip_98006</th>\n",
       "      <th>zip_98007</th>\n",
       "      <th>zip_98008</th>\n",
       "      <th>zip_98010</th>\n",
       "      <th>...</th>\n",
       "      <th>zip_98133</th>\n",
       "      <th>zip_98136</th>\n",
       "      <th>zip_98144</th>\n",
       "      <th>zip_98146</th>\n",
       "      <th>zip_98155</th>\n",
       "      <th>zip_98166</th>\n",
       "      <th>zip_98177</th>\n",
       "      <th>zip_98199</th>\n",
       "      <th>yr_built</th>\n",
       "      <th>price</th>\n",
       "    </tr>\n",
       "  </thead>\n",
       "  <tbody>\n",
       "    <tr>\n",
       "      <th>14837</th>\n",
       "      <td>0.623506</td>\n",
       "      <td>0.775864</td>\n",
       "      <td>0.391985</td>\n",
       "      <td>0.670723</td>\n",
       "      <td>0</td>\n",
       "      <td>0</td>\n",
       "      <td>0</td>\n",
       "      <td>0</td>\n",
       "      <td>0</td>\n",
       "      <td>0</td>\n",
       "      <td>...</td>\n",
       "      <td>0</td>\n",
       "      <td>0</td>\n",
       "      <td>0</td>\n",
       "      <td>0</td>\n",
       "      <td>0</td>\n",
       "      <td>0</td>\n",
       "      <td>0</td>\n",
       "      <td>0</td>\n",
       "      <td>-2.224069</td>\n",
       "      <td>865000.0</td>\n",
       "    </tr>\n",
       "    <tr>\n",
       "      <th>8642</th>\n",
       "      <td>-1.509859</td>\n",
       "      <td>-0.386749</td>\n",
       "      <td>-0.534134</td>\n",
       "      <td>-1.208448</td>\n",
       "      <td>0</td>\n",
       "      <td>0</td>\n",
       "      <td>0</td>\n",
       "      <td>0</td>\n",
       "      <td>0</td>\n",
       "      <td>0</td>\n",
       "      <td>...</td>\n",
       "      <td>0</td>\n",
       "      <td>0</td>\n",
       "      <td>0</td>\n",
       "      <td>0</td>\n",
       "      <td>0</td>\n",
       "      <td>0</td>\n",
       "      <td>0</td>\n",
       "      <td>0</td>\n",
       "      <td>-0.387993</td>\n",
       "      <td>249000.0</td>\n",
       "    </tr>\n",
       "    <tr>\n",
       "      <th>18229</th>\n",
       "      <td>-1.509859</td>\n",
       "      <td>-0.386749</td>\n",
       "      <td>-0.534134</td>\n",
       "      <td>-0.684325</td>\n",
       "      <td>0</td>\n",
       "      <td>0</td>\n",
       "      <td>0</td>\n",
       "      <td>0</td>\n",
       "      <td>0</td>\n",
       "      <td>0</td>\n",
       "      <td>...</td>\n",
       "      <td>0</td>\n",
       "      <td>0</td>\n",
       "      <td>0</td>\n",
       "      <td>0</td>\n",
       "      <td>0</td>\n",
       "      <td>0</td>\n",
       "      <td>0</td>\n",
       "      <td>0</td>\n",
       "      <td>-2.224069</td>\n",
       "      <td>538000.0</td>\n",
       "    </tr>\n",
       "    <tr>\n",
       "      <th>14910</th>\n",
       "      <td>0.623506</td>\n",
       "      <td>-0.386749</td>\n",
       "      <td>1.318105</td>\n",
       "      <td>1.067011</td>\n",
       "      <td>0</td>\n",
       "      <td>0</td>\n",
       "      <td>0</td>\n",
       "      <td>0</td>\n",
       "      <td>0</td>\n",
       "      <td>0</td>\n",
       "      <td>...</td>\n",
       "      <td>0</td>\n",
       "      <td>0</td>\n",
       "      <td>0</td>\n",
       "      <td>0</td>\n",
       "      <td>0</td>\n",
       "      <td>0</td>\n",
       "      <td>0</td>\n",
       "      <td>0</td>\n",
       "      <td>1.032070</td>\n",
       "      <td>590000.0</td>\n",
       "    </tr>\n",
       "    <tr>\n",
       "      <th>2370</th>\n",
       "      <td>-1.509859</td>\n",
       "      <td>-1.549363</td>\n",
       "      <td>-1.460253</td>\n",
       "      <td>-1.195664</td>\n",
       "      <td>0</td>\n",
       "      <td>0</td>\n",
       "      <td>0</td>\n",
       "      <td>0</td>\n",
       "      <td>0</td>\n",
       "      <td>0</td>\n",
       "      <td>...</td>\n",
       "      <td>1</td>\n",
       "      <td>0</td>\n",
       "      <td>0</td>\n",
       "      <td>0</td>\n",
       "      <td>0</td>\n",
       "      <td>0</td>\n",
       "      <td>0</td>\n",
       "      <td>0</td>\n",
       "      <td>-0.627626</td>\n",
       "      <td>254000.0</td>\n",
       "    </tr>\n",
       "  </tbody>\n",
       "</table>\n",
       "<p>5 rows × 58 columns</p>\n",
       "</div>"
      ],
      "text/plain": [
       "       bathrooms  bedrooms     grade  sqft_living  zip_98004  zip_98005  \\\n",
       "14837   0.623506  0.775864  0.391985     0.670723          0          0   \n",
       "8642   -1.509859 -0.386749 -0.534134    -1.208448          0          0   \n",
       "18229  -1.509859 -0.386749 -0.534134    -0.684325          0          0   \n",
       "14910   0.623506 -0.386749  1.318105     1.067011          0          0   \n",
       "2370   -1.509859 -1.549363 -1.460253    -1.195664          0          0   \n",
       "\n",
       "       zip_98006  zip_98007  zip_98008  zip_98010  ...  zip_98133  zip_98136  \\\n",
       "14837          0          0          0          0  ...          0          0   \n",
       "8642           0          0          0          0  ...          0          0   \n",
       "18229          0          0          0          0  ...          0          0   \n",
       "14910          0          0          0          0  ...          0          0   \n",
       "2370           0          0          0          0  ...          1          0   \n",
       "\n",
       "       zip_98144  zip_98146  zip_98155  zip_98166  zip_98177  zip_98199  \\\n",
       "14837          0          0          0          0          0          0   \n",
       "8642           0          0          0          0          0          0   \n",
       "18229          0          0          0          0          0          0   \n",
       "14910          0          0          0          0          0          0   \n",
       "2370           0          0          0          0          0          0   \n",
       "\n",
       "       yr_built     price  \n",
       "14837 -2.224069  865000.0  \n",
       "8642  -0.387993  249000.0  \n",
       "18229 -2.224069  538000.0  \n",
       "14910  1.032070  590000.0  \n",
       "2370  -0.627626  254000.0  \n",
       "\n",
       "[5 rows x 58 columns]"
      ]
     },
     "execution_count": 106,
     "metadata": {},
     "output_type": "execute_result"
    }
   ],
   "source": [
    "data_d = pd.concat([X_train_d,y_train_d], axis=1)\n",
    "data_d.head()"
   ]
  },
  {
   "cell_type": "code",
   "execution_count": 107,
   "metadata": {},
   "outputs": [
    {
     "data": {
      "text/html": [
       "<table class=\"simpletable\">\n",
       "<caption>OLS Regression Results</caption>\n",
       "<tr>\n",
       "  <th>Dep. Variable:</th>        <td>y_train_d</td>    <th>  R-squared:         </th>  <td>   0.802</td>  \n",
       "</tr>\n",
       "<tr>\n",
       "  <th>Model:</th>                   <td>OLS</td>       <th>  Adj. R-squared:    </th>  <td>   0.801</td>  \n",
       "</tr>\n",
       "<tr>\n",
       "  <th>Method:</th>             <td>Least Squares</td>  <th>  F-statistic:       </th>  <td>   1170.</td>  \n",
       "</tr>\n",
       "<tr>\n",
       "  <th>Date:</th>             <td>Mon, 22 Mar 2021</td> <th>  Prob (F-statistic):</th>   <td>  0.00</td>   \n",
       "</tr>\n",
       "<tr>\n",
       "  <th>Time:</th>                 <td>17:32:17</td>     <th>  Log-Likelihood:    </th> <td>-2.1552e+05</td>\n",
       "</tr>\n",
       "<tr>\n",
       "  <th>No. Observations:</th>      <td> 16512</td>      <th>  AIC:               </th>  <td>4.312e+05</td> \n",
       "</tr>\n",
       "<tr>\n",
       "  <th>Df Residuals:</th>          <td> 16454</td>      <th>  BIC:               </th>  <td>4.316e+05</td> \n",
       "</tr>\n",
       "<tr>\n",
       "  <th>Df Model:</th>              <td>    57</td>      <th>                     </th>      <td> </td>     \n",
       "</tr>\n",
       "<tr>\n",
       "  <th>Covariance Type:</th>      <td>nonrobust</td>    <th>                     </th>      <td> </td>     \n",
       "</tr>\n",
       "</table>\n",
       "<table class=\"simpletable\">\n",
       "<tr>\n",
       "       <td></td>          <th>coef</th>     <th>std err</th>      <th>t</th>      <th>P>|t|</th>  <th>[0.025</th>    <th>0.975]</th>  \n",
       "</tr>\n",
       "<tr>\n",
       "  <th>Intercept</th>   <td> 3.429e+05</td> <td> 1804.492</td> <td>  190.022</td> <td> 0.000</td> <td> 3.39e+05</td> <td> 3.46e+05</td>\n",
       "</tr>\n",
       "<tr>\n",
       "  <th>bathrooms</th>   <td> 1.315e+04</td> <td> 1499.036</td> <td>    8.772</td> <td> 0.000</td> <td> 1.02e+04</td> <td> 1.61e+04</td>\n",
       "</tr>\n",
       "<tr>\n",
       "  <th>bedrooms</th>    <td>-1.268e+04</td> <td> 1155.525</td> <td>  -10.970</td> <td> 0.000</td> <td>-1.49e+04</td> <td>-1.04e+04</td>\n",
       "</tr>\n",
       "<tr>\n",
       "  <th>grade</th>       <td> 7.228e+04</td> <td> 1509.255</td> <td>   47.889</td> <td> 0.000</td> <td> 6.93e+04</td> <td> 7.52e+04</td>\n",
       "</tr>\n",
       "<tr>\n",
       "  <th>sqft_living</th> <td> 1.083e+05</td> <td> 1736.326</td> <td>   62.361</td> <td> 0.000</td> <td> 1.05e+05</td> <td> 1.12e+05</td>\n",
       "</tr>\n",
       "<tr>\n",
       "  <th>zip_98004</th>   <td> 5.946e+05</td> <td> 8873.263</td> <td>   67.012</td> <td> 0.000</td> <td> 5.77e+05</td> <td> 6.12e+05</td>\n",
       "</tr>\n",
       "<tr>\n",
       "  <th>zip_98005</th>   <td> 3.035e+05</td> <td> 1.02e+04</td> <td>   29.810</td> <td> 0.000</td> <td> 2.84e+05</td> <td> 3.23e+05</td>\n",
       "</tr>\n",
       "<tr>\n",
       "  <th>zip_98006</th>   <td> 2.687e+05</td> <td> 6353.330</td> <td>   42.297</td> <td> 0.000</td> <td> 2.56e+05</td> <td> 2.81e+05</td>\n",
       "</tr>\n",
       "<tr>\n",
       "  <th>zip_98007</th>   <td> 2.311e+05</td> <td> 1.11e+04</td> <td>   20.818</td> <td> 0.000</td> <td> 2.09e+05</td> <td> 2.53e+05</td>\n",
       "</tr>\n",
       "<tr>\n",
       "  <th>zip_98008</th>   <td> 2.352e+05</td> <td> 7864.444</td> <td>   29.906</td> <td> 0.000</td> <td>  2.2e+05</td> <td> 2.51e+05</td>\n",
       "</tr>\n",
       "<tr>\n",
       "  <th>zip_98010</th>   <td> 7.562e+04</td> <td> 1.42e+04</td> <td>    5.310</td> <td> 0.000</td> <td> 4.77e+04</td> <td> 1.04e+05</td>\n",
       "</tr>\n",
       "<tr>\n",
       "  <th>zip_98011</th>   <td> 1.127e+05</td> <td> 9282.769</td> <td>   12.143</td> <td> 0.000</td> <td> 9.45e+04</td> <td> 1.31e+05</td>\n",
       "</tr>\n",
       "<tr>\n",
       "  <th>zip_98014</th>   <td> 1.019e+05</td> <td> 1.33e+04</td> <td>    7.679</td> <td> 0.000</td> <td> 7.59e+04</td> <td> 1.28e+05</td>\n",
       "</tr>\n",
       "<tr>\n",
       "  <th>zip_98019</th>   <td> 7.648e+04</td> <td> 9596.976</td> <td>    7.969</td> <td> 0.000</td> <td> 5.77e+04</td> <td> 9.53e+04</td>\n",
       "</tr>\n",
       "<tr>\n",
       "  <th>zip_98024</th>   <td> 1.313e+05</td> <td> 1.69e+04</td> <td>    7.746</td> <td> 0.000</td> <td> 9.81e+04</td> <td> 1.64e+05</td>\n",
       "</tr>\n",
       "<tr>\n",
       "  <th>zip_98027</th>   <td> 1.686e+05</td> <td> 6686.756</td> <td>   25.215</td> <td> 0.000</td> <td> 1.55e+05</td> <td> 1.82e+05</td>\n",
       "</tr>\n",
       "<tr>\n",
       "  <th>zip_98028</th>   <td> 1.104e+05</td> <td> 7580.195</td> <td>   14.559</td> <td> 0.000</td> <td> 9.55e+04</td> <td> 1.25e+05</td>\n",
       "</tr>\n",
       "<tr>\n",
       "  <th>zip_98029</th>   <td> 1.951e+05</td> <td> 7365.818</td> <td>   26.490</td> <td> 0.000</td> <td> 1.81e+05</td> <td>  2.1e+05</td>\n",
       "</tr>\n",
       "<tr>\n",
       "  <th>zip_98033</th>   <td> 3.309e+05</td> <td> 6539.251</td> <td>   50.607</td> <td> 0.000</td> <td> 3.18e+05</td> <td> 3.44e+05</td>\n",
       "</tr>\n",
       "<tr>\n",
       "  <th>zip_98034</th>   <td> 1.705e+05</td> <td> 5778.908</td> <td>   29.503</td> <td> 0.000</td> <td> 1.59e+05</td> <td> 1.82e+05</td>\n",
       "</tr>\n",
       "<tr>\n",
       "  <th>zip_98039</th>   <td> 7.873e+05</td> <td> 2.93e+04</td> <td>   26.909</td> <td> 0.000</td> <td>  7.3e+05</td> <td> 8.45e+05</td>\n",
       "</tr>\n",
       "<tr>\n",
       "  <th>zip_98040</th>   <td> 4.756e+05</td> <td> 8704.354</td> <td>   54.642</td> <td> 0.000</td> <td> 4.59e+05</td> <td> 4.93e+05</td>\n",
       "</tr>\n",
       "<tr>\n",
       "  <th>zip_98045</th>   <td> 9.575e+04</td> <td> 9107.089</td> <td>   10.514</td> <td> 0.000</td> <td> 7.79e+04</td> <td> 1.14e+05</td>\n",
       "</tr>\n",
       "<tr>\n",
       "  <th>zip_98052</th>   <td> 2.246e+05</td> <td> 5623.490</td> <td>   39.938</td> <td> 0.000</td> <td> 2.14e+05</td> <td> 2.36e+05</td>\n",
       "</tr>\n",
       "<tr>\n",
       "  <th>zip_98053</th>   <td>  2.19e+05</td> <td> 6981.669</td> <td>   31.364</td> <td> 0.000</td> <td> 2.05e+05</td> <td> 2.33e+05</td>\n",
       "</tr>\n",
       "<tr>\n",
       "  <th>zip_98056</th>   <td> 9.661e+04</td> <td> 6640.569</td> <td>   14.549</td> <td> 0.000</td> <td> 8.36e+04</td> <td>  1.1e+05</td>\n",
       "</tr>\n",
       "<tr>\n",
       "  <th>zip_98059</th>   <td> 9.353e+04</td> <td> 6268.062</td> <td>   14.921</td> <td> 0.000</td> <td> 8.12e+04</td> <td> 1.06e+05</td>\n",
       "</tr>\n",
       "<tr>\n",
       "  <th>zip_98065</th>   <td> 1.112e+05</td> <td> 7677.437</td> <td>   14.480</td> <td> 0.000</td> <td> 9.61e+04</td> <td> 1.26e+05</td>\n",
       "</tr>\n",
       "<tr>\n",
       "  <th>zip_98070</th>   <td> 1.459e+05</td> <td>  1.3e+04</td> <td>   11.188</td> <td> 0.000</td> <td>  1.2e+05</td> <td> 1.71e+05</td>\n",
       "</tr>\n",
       "<tr>\n",
       "  <th>zip_98072</th>   <td> 1.557e+05</td> <td> 8134.649</td> <td>   19.141</td> <td> 0.000</td> <td>  1.4e+05</td> <td> 1.72e+05</td>\n",
       "</tr>\n",
       "<tr>\n",
       "  <th>zip_98074</th>   <td>  1.73e+05</td> <td> 6511.934</td> <td>   26.567</td> <td> 0.000</td> <td>  1.6e+05</td> <td> 1.86e+05</td>\n",
       "</tr>\n",
       "<tr>\n",
       "  <th>zip_98075</th>   <td> 2.174e+05</td> <td> 7220.160</td> <td>   30.110</td> <td> 0.000</td> <td> 2.03e+05</td> <td> 2.32e+05</td>\n",
       "</tr>\n",
       "<tr>\n",
       "  <th>zip_98077</th>   <td> 1.458e+05</td> <td> 9963.512</td> <td>   14.634</td> <td> 0.000</td> <td> 1.26e+05</td> <td> 1.65e+05</td>\n",
       "</tr>\n",
       "<tr>\n",
       "  <th>zip_98102</th>   <td> 3.846e+05</td> <td> 1.34e+04</td> <td>   28.708</td> <td> 0.000</td> <td> 3.58e+05</td> <td> 4.11e+05</td>\n",
       "</tr>\n",
       "<tr>\n",
       "  <th>zip_98103</th>   <td> 2.759e+05</td> <td> 5661.875</td> <td>   48.729</td> <td> 0.000</td> <td> 2.65e+05</td> <td> 2.87e+05</td>\n",
       "</tr>\n",
       "<tr>\n",
       "  <th>zip_98105</th>   <td> 3.854e+05</td> <td> 8939.319</td> <td>   43.113</td> <td> 0.000</td> <td> 3.68e+05</td> <td> 4.03e+05</td>\n",
       "</tr>\n",
       "<tr>\n",
       "  <th>zip_98106</th>   <td>  8.86e+04</td> <td> 7184.193</td> <td>   12.333</td> <td> 0.000</td> <td> 7.45e+04</td> <td> 1.03e+05</td>\n",
       "</tr>\n",
       "<tr>\n",
       "  <th>zip_98107</th>   <td> 2.719e+05</td> <td> 8237.030</td> <td>   33.007</td> <td> 0.000</td> <td> 2.56e+05</td> <td> 2.88e+05</td>\n",
       "</tr>\n",
       "<tr>\n",
       "  <th>zip_98108</th>   <td> 6.895e+04</td> <td> 9615.040</td> <td>    7.171</td> <td> 0.000</td> <td> 5.01e+04</td> <td> 8.78e+04</td>\n",
       "</tr>\n",
       "<tr>\n",
       "  <th>zip_98109</th>   <td> 4.326e+05</td> <td> 1.27e+04</td> <td>   34.065</td> <td> 0.000</td> <td> 4.08e+05</td> <td> 4.57e+05</td>\n",
       "</tr>\n",
       "<tr>\n",
       "  <th>zip_98112</th>   <td> 4.418e+05</td> <td> 8750.093</td> <td>   50.495</td> <td> 0.000</td> <td> 4.25e+05</td> <td> 4.59e+05</td>\n",
       "</tr>\n",
       "<tr>\n",
       "  <th>zip_98115</th>   <td> 2.853e+05</td> <td> 5652.460</td> <td>   50.469</td> <td> 0.000</td> <td> 2.74e+05</td> <td> 2.96e+05</td>\n",
       "</tr>\n",
       "<tr>\n",
       "  <th>zip_98116</th>   <td> 2.531e+05</td> <td> 7417.416</td> <td>   34.126</td> <td> 0.000</td> <td> 2.39e+05</td> <td> 2.68e+05</td>\n",
       "</tr>\n",
       "<tr>\n",
       "  <th>zip_98117</th>   <td> 2.662e+05</td> <td> 5884.044</td> <td>   45.237</td> <td> 0.000</td> <td> 2.55e+05</td> <td> 2.78e+05</td>\n",
       "</tr>\n",
       "<tr>\n",
       "  <th>zip_98118</th>   <td> 1.314e+05</td> <td> 5970.993</td> <td>   21.999</td> <td> 0.000</td> <td>  1.2e+05</td> <td> 1.43e+05</td>\n",
       "</tr>\n",
       "<tr>\n",
       "  <th>zip_98119</th>   <td> 3.944e+05</td> <td> 9744.455</td> <td>   40.472</td> <td> 0.000</td> <td> 3.75e+05</td> <td> 4.13e+05</td>\n",
       "</tr>\n",
       "<tr>\n",
       "  <th>zip_98122</th>   <td> 2.599e+05</td> <td> 7997.852</td> <td>   32.492</td> <td> 0.000</td> <td> 2.44e+05</td> <td> 2.76e+05</td>\n",
       "</tr>\n",
       "<tr>\n",
       "  <th>zip_98125</th>   <td> 1.771e+05</td> <td> 6582.991</td> <td>   26.906</td> <td> 0.000</td> <td> 1.64e+05</td> <td>  1.9e+05</td>\n",
       "</tr>\n",
       "<tr>\n",
       "  <th>zip_98126</th>   <td> 1.553e+05</td> <td> 7208.054</td> <td>   21.540</td> <td> 0.000</td> <td> 1.41e+05</td> <td> 1.69e+05</td>\n",
       "</tr>\n",
       "<tr>\n",
       "  <th>zip_98133</th>   <td>  1.22e+05</td> <td> 5901.700</td> <td>   20.672</td> <td> 0.000</td> <td>  1.1e+05</td> <td> 1.34e+05</td>\n",
       "</tr>\n",
       "<tr>\n",
       "  <th>zip_98136</th>   <td> 2.222e+05</td> <td> 7928.649</td> <td>   28.022</td> <td> 0.000</td> <td> 2.07e+05</td> <td> 2.38e+05</td>\n",
       "</tr>\n",
       "<tr>\n",
       "  <th>zip_98144</th>   <td> 2.172e+05</td> <td> 7277.060</td> <td>   29.848</td> <td> 0.000</td> <td> 2.03e+05</td> <td> 2.31e+05</td>\n",
       "</tr>\n",
       "<tr>\n",
       "  <th>zip_98146</th>   <td> 1.036e+05</td> <td> 7817.244</td> <td>   13.251</td> <td> 0.000</td> <td> 8.83e+04</td> <td> 1.19e+05</td>\n",
       "</tr>\n",
       "<tr>\n",
       "  <th>zip_98155</th>   <td> 1.172e+05</td> <td> 6339.264</td> <td>   18.490</td> <td> 0.000</td> <td> 1.05e+05</td> <td>  1.3e+05</td>\n",
       "</tr>\n",
       "<tr>\n",
       "  <th>zip_98166</th>   <td> 1.031e+05</td> <td> 8212.582</td> <td>   12.548</td> <td> 0.000</td> <td>  8.7e+04</td> <td> 1.19e+05</td>\n",
       "</tr>\n",
       "<tr>\n",
       "  <th>zip_98177</th>   <td> 2.153e+05</td> <td> 8225.678</td> <td>   26.172</td> <td> 0.000</td> <td> 1.99e+05</td> <td> 2.31e+05</td>\n",
       "</tr>\n",
       "<tr>\n",
       "  <th>zip_98199</th>   <td> 3.361e+05</td> <td> 7548.540</td> <td>   44.531</td> <td> 0.000</td> <td> 3.21e+05</td> <td> 3.51e+05</td>\n",
       "</tr>\n",
       "<tr>\n",
       "  <th>yr_built</th>    <td>-3.727e+04</td> <td> 1286.259</td> <td>  -28.972</td> <td> 0.000</td> <td>-3.98e+04</td> <td>-3.47e+04</td>\n",
       "</tr>\n",
       "</table>\n",
       "<table class=\"simpletable\">\n",
       "<tr>\n",
       "  <th>Omnibus:</th>       <td>4797.126</td> <th>  Durbin-Watson:     </th> <td>   2.003</td> \n",
       "</tr>\n",
       "<tr>\n",
       "  <th>Prob(Omnibus):</th>  <td> 0.000</td>  <th>  Jarque-Bera (JB):  </th> <td>30117.325</td>\n",
       "</tr>\n",
       "<tr>\n",
       "  <th>Skew:</th>           <td> 1.247</td>  <th>  Prob(JB):          </th> <td>    0.00</td> \n",
       "</tr>\n",
       "<tr>\n",
       "  <th>Kurtosis:</th>       <td> 9.128</td>  <th>  Cond. No.          </th> <td>    58.2</td> \n",
       "</tr>\n",
       "</table><br/><br/>Notes:<br/>[1] Standard Errors assume that the covariance matrix of the errors is correctly specified."
      ],
      "text/plain": [
       "<class 'statsmodels.iolib.summary.Summary'>\n",
       "\"\"\"\n",
       "                            OLS Regression Results                            \n",
       "==============================================================================\n",
       "Dep. Variable:              y_train_d   R-squared:                       0.802\n",
       "Model:                            OLS   Adj. R-squared:                  0.801\n",
       "Method:                 Least Squares   F-statistic:                     1170.\n",
       "Date:                Mon, 22 Mar 2021   Prob (F-statistic):               0.00\n",
       "Time:                        17:32:17   Log-Likelihood:            -2.1552e+05\n",
       "No. Observations:               16512   AIC:                         4.312e+05\n",
       "Df Residuals:                   16454   BIC:                         4.316e+05\n",
       "Df Model:                          57                                         \n",
       "Covariance Type:            nonrobust                                         \n",
       "===============================================================================\n",
       "                  coef    std err          t      P>|t|      [0.025      0.975]\n",
       "-------------------------------------------------------------------------------\n",
       "Intercept    3.429e+05   1804.492    190.022      0.000    3.39e+05    3.46e+05\n",
       "bathrooms    1.315e+04   1499.036      8.772      0.000    1.02e+04    1.61e+04\n",
       "bedrooms    -1.268e+04   1155.525    -10.970      0.000   -1.49e+04   -1.04e+04\n",
       "grade        7.228e+04   1509.255     47.889      0.000    6.93e+04    7.52e+04\n",
       "sqft_living  1.083e+05   1736.326     62.361      0.000    1.05e+05    1.12e+05\n",
       "zip_98004    5.946e+05   8873.263     67.012      0.000    5.77e+05    6.12e+05\n",
       "zip_98005    3.035e+05   1.02e+04     29.810      0.000    2.84e+05    3.23e+05\n",
       "zip_98006    2.687e+05   6353.330     42.297      0.000    2.56e+05    2.81e+05\n",
       "zip_98007    2.311e+05   1.11e+04     20.818      0.000    2.09e+05    2.53e+05\n",
       "zip_98008    2.352e+05   7864.444     29.906      0.000     2.2e+05    2.51e+05\n",
       "zip_98010    7.562e+04   1.42e+04      5.310      0.000    4.77e+04    1.04e+05\n",
       "zip_98011    1.127e+05   9282.769     12.143      0.000    9.45e+04    1.31e+05\n",
       "zip_98014    1.019e+05   1.33e+04      7.679      0.000    7.59e+04    1.28e+05\n",
       "zip_98019    7.648e+04   9596.976      7.969      0.000    5.77e+04    9.53e+04\n",
       "zip_98024    1.313e+05   1.69e+04      7.746      0.000    9.81e+04    1.64e+05\n",
       "zip_98027    1.686e+05   6686.756     25.215      0.000    1.55e+05    1.82e+05\n",
       "zip_98028    1.104e+05   7580.195     14.559      0.000    9.55e+04    1.25e+05\n",
       "zip_98029    1.951e+05   7365.818     26.490      0.000    1.81e+05     2.1e+05\n",
       "zip_98033    3.309e+05   6539.251     50.607      0.000    3.18e+05    3.44e+05\n",
       "zip_98034    1.705e+05   5778.908     29.503      0.000    1.59e+05    1.82e+05\n",
       "zip_98039    7.873e+05   2.93e+04     26.909      0.000     7.3e+05    8.45e+05\n",
       "zip_98040    4.756e+05   8704.354     54.642      0.000    4.59e+05    4.93e+05\n",
       "zip_98045    9.575e+04   9107.089     10.514      0.000    7.79e+04    1.14e+05\n",
       "zip_98052    2.246e+05   5623.490     39.938      0.000    2.14e+05    2.36e+05\n",
       "zip_98053     2.19e+05   6981.669     31.364      0.000    2.05e+05    2.33e+05\n",
       "zip_98056    9.661e+04   6640.569     14.549      0.000    8.36e+04     1.1e+05\n",
       "zip_98059    9.353e+04   6268.062     14.921      0.000    8.12e+04    1.06e+05\n",
       "zip_98065    1.112e+05   7677.437     14.480      0.000    9.61e+04    1.26e+05\n",
       "zip_98070    1.459e+05    1.3e+04     11.188      0.000     1.2e+05    1.71e+05\n",
       "zip_98072    1.557e+05   8134.649     19.141      0.000     1.4e+05    1.72e+05\n",
       "zip_98074     1.73e+05   6511.934     26.567      0.000     1.6e+05    1.86e+05\n",
       "zip_98075    2.174e+05   7220.160     30.110      0.000    2.03e+05    2.32e+05\n",
       "zip_98077    1.458e+05   9963.512     14.634      0.000    1.26e+05    1.65e+05\n",
       "zip_98102    3.846e+05   1.34e+04     28.708      0.000    3.58e+05    4.11e+05\n",
       "zip_98103    2.759e+05   5661.875     48.729      0.000    2.65e+05    2.87e+05\n",
       "zip_98105    3.854e+05   8939.319     43.113      0.000    3.68e+05    4.03e+05\n",
       "zip_98106     8.86e+04   7184.193     12.333      0.000    7.45e+04    1.03e+05\n",
       "zip_98107    2.719e+05   8237.030     33.007      0.000    2.56e+05    2.88e+05\n",
       "zip_98108    6.895e+04   9615.040      7.171      0.000    5.01e+04    8.78e+04\n",
       "zip_98109    4.326e+05   1.27e+04     34.065      0.000    4.08e+05    4.57e+05\n",
       "zip_98112    4.418e+05   8750.093     50.495      0.000    4.25e+05    4.59e+05\n",
       "zip_98115    2.853e+05   5652.460     50.469      0.000    2.74e+05    2.96e+05\n",
       "zip_98116    2.531e+05   7417.416     34.126      0.000    2.39e+05    2.68e+05\n",
       "zip_98117    2.662e+05   5884.044     45.237      0.000    2.55e+05    2.78e+05\n",
       "zip_98118    1.314e+05   5970.993     21.999      0.000     1.2e+05    1.43e+05\n",
       "zip_98119    3.944e+05   9744.455     40.472      0.000    3.75e+05    4.13e+05\n",
       "zip_98122    2.599e+05   7997.852     32.492      0.000    2.44e+05    2.76e+05\n",
       "zip_98125    1.771e+05   6582.991     26.906      0.000    1.64e+05     1.9e+05\n",
       "zip_98126    1.553e+05   7208.054     21.540      0.000    1.41e+05    1.69e+05\n",
       "zip_98133     1.22e+05   5901.700     20.672      0.000     1.1e+05    1.34e+05\n",
       "zip_98136    2.222e+05   7928.649     28.022      0.000    2.07e+05    2.38e+05\n",
       "zip_98144    2.172e+05   7277.060     29.848      0.000    2.03e+05    2.31e+05\n",
       "zip_98146    1.036e+05   7817.244     13.251      0.000    8.83e+04    1.19e+05\n",
       "zip_98155    1.172e+05   6339.264     18.490      0.000    1.05e+05     1.3e+05\n",
       "zip_98166    1.031e+05   8212.582     12.548      0.000     8.7e+04    1.19e+05\n",
       "zip_98177    2.153e+05   8225.678     26.172      0.000    1.99e+05    2.31e+05\n",
       "zip_98199    3.361e+05   7548.540     44.531      0.000    3.21e+05    3.51e+05\n",
       "yr_built    -3.727e+04   1286.259    -28.972      0.000   -3.98e+04   -3.47e+04\n",
       "==============================================================================\n",
       "Omnibus:                     4797.126   Durbin-Watson:                   2.003\n",
       "Prob(Omnibus):                  0.000   Jarque-Bera (JB):            30117.325\n",
       "Skew:                           1.247   Prob(JB):                         0.00\n",
       "Kurtosis:                       9.128   Cond. No.                         58.2\n",
       "==============================================================================\n",
       "\n",
       "Notes:\n",
       "[1] Standard Errors assume that the covariance matrix of the errors is correctly specified.\n",
       "\"\"\""
      ]
     },
     "execution_count": 107,
     "metadata": {},
     "output_type": "execute_result"
    }
   ],
   "source": [
    "model_d_ols = ols(formula=formula_d, data=data_d).fit()\n",
    "model_d_ols.summary()"
   ]
  },
  {
   "cell_type": "markdown",
   "metadata": {},
   "source": [
    "## Model D Evalutation"
   ]
  },
  {
   "cell_type": "code",
   "execution_count": 108,
   "metadata": {},
   "outputs": [
    {
     "data": {
      "text/plain": [
       "LinearRegression()"
      ]
     },
     "execution_count": 108,
     "metadata": {},
     "output_type": "execute_result"
    }
   ],
   "source": [
    "model_d_lr = LinearRegression()\n",
    "model_d_lr.fit(X_train_d, y_train_d)"
   ]
  },
  {
   "cell_type": "code",
   "execution_count": 109,
   "metadata": {},
   "outputs": [
    {
     "data": {
      "text/plain": [
       "342894.13772164297"
      ]
     },
     "execution_count": 109,
     "metadata": {},
     "output_type": "execute_result"
    }
   ],
   "source": [
    "model_d_lr.intercept_"
   ]
  },
  {
   "cell_type": "code",
   "execution_count": 110,
   "metadata": {},
   "outputs": [],
   "source": [
    "y_train_pred_d = model_d_lr.predict(X_train_d)\n",
    "y_test_pred_d = model_d_lr.predict(X_test_d)"
   ]
  },
  {
   "cell_type": "code",
   "execution_count": 111,
   "metadata": {},
   "outputs": [
    {
     "name": "stdout",
     "output_type": "stream",
     "text": [
      "Train Mean Absolute Error: 78335.35096374531\n",
      "Test Mean Absolute Error: 78281.72847877092\n"
     ]
    }
   ],
   "source": [
    "print('Train Mean Absolute Error:',metrics.mean_absolute_error(y_train_d, y_train_pred_d))\n",
    "print('Test Mean Absolute Error:',metrics.mean_absolute_error(y_test_d, y_test_pred_d))"
   ]
  },
  {
   "cell_type": "code",
   "execution_count": 112,
   "metadata": {},
   "outputs": [
    {
     "name": "stdout",
     "output_type": "stream",
     "text": [
      "Train Mean Squared Error: 12728599390.46144\n",
      "Test Mean Squared Error: 12423811108.205994\n"
     ]
    }
   ],
   "source": [
    "print('Train Mean Squared Error:',metrics.mean_squared_error(y_train_d, y_train_pred_d))\n",
    "print('Test Mean Squared Error:',metrics.mean_squared_error(y_test_d, y_test_pred_d))"
   ]
  },
  {
   "cell_type": "code",
   "execution_count": 113,
   "metadata": {},
   "outputs": [
    {
     "name": "stdout",
     "output_type": "stream",
     "text": [
      "Train Root Mean Squared Error: 112821.09461648313\n",
      "Test Root Mean Squared Error: 111462.15101192868\n"
     ]
    }
   ],
   "source": [
    "print('Train Root Mean Squared Error:',np.sqrt(metrics.mean_squared_error(y_train_d, y_train_pred_d)))\n",
    "print('Test Root Mean Squared Error:',np.sqrt(metrics.mean_squared_error(y_test_d, y_test_pred_d)))"
   ]
  },
  {
   "cell_type": "code",
   "execution_count": 114,
   "metadata": {},
   "outputs": [
    {
     "data": {
      "text/plain": [
       "20967     13656.761634\n",
       "3161     109984.406875\n",
       "16374    109690.262071\n",
       "21426    -51813.305123\n",
       "10250    -37284.817820\n",
       "             ...      \n",
       "16065    140369.326155\n",
       "17372   -347979.423863\n",
       "18906    -14633.995703\n",
       "2238     -62020.985946\n",
       "3836     -24781.648437\n",
       "Name: price, Length: 4128, dtype: float64"
      ]
     },
     "execution_count": 114,
     "metadata": {},
     "output_type": "execute_result"
    }
   ],
   "source": [
    "resid_d = y_test_pred_d - y_test_d\n",
    "resid_d"
   ]
  },
  {
   "cell_type": "code",
   "execution_count": 115,
   "metadata": {},
   "outputs": [
    {
     "data": {
      "image/png": "[encoded data removed]",
      "text/plain": [
       "<Figure size 360x360 with 1 Axes>"
      ]
     },
     "metadata": {
      "needs_background": "light"
     },
     "output_type": "display_data"
    }
   ],
   "source": [
    "sns.displot(x=resid_d,kind='hist',kde=True);"
   ]
  },
  {
   "cell_type": "code",
   "execution_count": 116,
   "metadata": {},
   "outputs": [
    {
     "data": {
      "image/png": "[encoded data removed]",
      "text/plain": [
       "<Figure size 432x288 with 1 Axes>"
      ]
     },
     "metadata": {
      "needs_background": "light"
     },
     "output_type": "display_data"
    }
   ],
   "source": [
    "fig = sm.graphics.qqplot(resid_d, dist=stats.norm, line='45',fit=True)"
   ]
  },
  {
   "cell_type": "code",
   "execution_count": 117,
   "metadata": {},
   "outputs": [
    {
     "data": {
      "text/plain": [
       "<matplotlib.collections.LineCollection at 0x7f85d5512220>"
      ]
     },
     "execution_count": 117,
     "metadata": {},
     "output_type": "execute_result"
    },
    {
     "data": {
      "image/png": "[encoded data removed]",
      "text/plain": [
       "<Figure size 432x288 with 1 Axes>"
      ]
     },
     "metadata": {
      "needs_background": "light"
     },
     "output_type": "display_data"
    }
   ],
   "source": [
    "plt.scatter(y_test_pred_d, resid_d)\n",
    "plt.hlines(y=0, xmin=y_test_pred_d.min(), xmax=y_test_pred_d.max())"
   ]
  },
  {
   "cell_type": "code",
   "execution_count": 118,
   "metadata": {},
   "outputs": [
    {
     "data": {
      "text/plain": [
       "Text(0.5, 1.0, 'Actual vs. Predicted')"
      ]
     },
     "execution_count": 118,
     "metadata": {},
     "output_type": "execute_result"
    },
    {
     "data": {
      "image/png": "[encoded data removed]",
      "text/plain": [
       "<Figure size 1080x720 with 1 Axes>"
      ]
     },
     "metadata": {
      "needs_background": "light"
     },
     "output_type": "display_data"
    }
   ],
   "source": [
    "plt.figure(figsize=(15,10))\n",
    "plt.scatter(y_test_d, y_test_pred_d)\n",
    "plt.xlabel('Actual')\n",
    "plt.ylabel('Predicted')\n",
    "plt.title('Actual vs. Predicted')"
   ]
  },
  {
   "cell_type": "code",
   "execution_count": 119,
   "metadata": {},
   "outputs": [
    {
     "data": {
      "text/plain": [
       "array([0.79719856, 0.80451355, 0.79035411, 0.78734618, 0.80843789])"
      ]
     },
     "execution_count": 119,
     "metadata": {},
     "output_type": "execute_result"
    }
   ],
   "source": [
    "model_d_scores = cross_val_score(model_d_lr, X_test_d, y_test_d, cv=5)\n",
    "model_d_scores"
   ]
  },
  {
   "cell_type": "code",
   "execution_count": 120,
   "metadata": {},
   "outputs": [
    {
     "data": {
      "text/plain": [
       "(0.7975700559273016, 0.008038127582128858)"
      ]
     },
     "execution_count": 120,
     "metadata": {},
     "output_type": "execute_result"
    }
   ],
   "source": [
    "model_d_scores.mean(), model_d_scores.std()"
   ]
  },
  {
   "cell_type": "markdown",
   "metadata": {},
   "source": [
    "## Conclusions/Summary"
   ]
  },
  {
   "cell_type": "code",
   "execution_count": null,
   "metadata": {},
   "outputs": [],
   "source": []
  }
 ],
 "metadata": {
  "kernelspec": {
   "display_name": "Python 3",
   "language": "python",
   "name": "python3"
  },
  "language_info": {
   "codemirror_mode": {
    "name": "ipython",
    "version": 3
   },
   "file_extension": ".py",
   "mimetype": "text/x-python",
   "name": "python",
   "nbconvert_exporter": "python",
   "pygments_lexer": "ipython3",
   "version": "3.8.5"
  }
 },
 "nbformat": 4,
 "nbformat_minor": 4
}
